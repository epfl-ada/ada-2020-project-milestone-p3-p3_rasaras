{
 "cells": [
  {
   "cell_type": "code",
   "execution_count": 1,
   "metadata": {},
   "outputs": [
    {
     "name": "stdout",
     "output_type": "stream",
     "text": [
      "INFO: Pandarallel will run on 8 workers.\n",
      "INFO: Pandarallel will use Memory file system to transfer data between the main process and workers.\n"
     ]
    }
   ],
   "source": [
    "import pandas as pd\n",
    "import numpy as np\n",
    "import matplotlib\n",
    "import matplotlib.pyplot as plt\n",
    "from scipy.interpolate import interp1d\n",
    "from scipy.optimize import curve_fit\n",
    "\n",
    "import math\n",
    "from pandarallel import pandarallel\n",
    "\n",
    "import joblib\n",
    "\n",
    "from keras.models import load_model\n",
    "from metrics import f1_m\n",
    "\n",
    "# Initialization\n",
    "pandarallel.initialize()"
   ]
  },
  {
   "cell_type": "markdown",
   "metadata": {},
   "source": [
    "Let us start by importing the data and exploring the column names and number of entries."
   ]
  },
  {
   "cell_type": "code",
   "execution_count": 3,
   "metadata": {},
   "outputs": [],
   "source": [
    "df_checkin = pd.read_csv(\"data/foursquare_checkin_data.csv.zip\", compression='zip')"
   ]
  },
  {
   "cell_type": "code",
   "execution_count": 4,
   "metadata": {},
   "outputs": [
    {
     "name": "stdout",
     "output_type": "stream",
     "text": [
      "<class 'pandas.core.frame.DataFrame'>\n",
      "RangeIndex: 22809624 entries, 0 to 22809623\n",
      "Data columns (total 8 columns):\n",
      " #   Column      Dtype  \n",
      "---  ------      -----  \n",
      " 0   User_ID     int64  \n",
      " 1   Venue_ID    object \n",
      " 2   day         object \n",
      " 3   local_time  object \n",
      " 4   lat         float64\n",
      " 5   lon         float64\n",
      " 6   place       object \n",
      " 7   country     object \n",
      "dtypes: float64(2), int64(1), object(5)\n",
      "memory usage: 1.4+ GB\n"
     ]
    }
   ],
   "source": [
    "df_checkin.info()"
   ]
  },
  {
   "cell_type": "markdown",
   "metadata": {},
   "source": [
    "## Ground Truth"
   ]
  },
  {
   "cell_type": "markdown",
   "metadata": {},
   "source": [
    "Let us create a ground truth dataframe that will contain the homes of users.\n",
    "\n",
    "We start by isolating the check-ins that have the `Home (private)` label."
   ]
  },
  {
   "cell_type": "code",
   "execution_count": 5,
   "metadata": {},
   "outputs": [],
   "source": [
    "df_checkins_homes = df_checkin[df_checkin.place == \"Home (private)\"]"
   ]
  },
  {
   "cell_type": "code",
   "execution_count": 6,
   "metadata": {
    "scrolled": false
   },
   "outputs": [
    {
     "data": {
      "text/plain": [
       "1724007"
      ]
     },
     "execution_count": 6,
     "metadata": {},
     "output_type": "execute_result"
    }
   ],
   "source": [
    "len(df_checkins_homes)"
   ]
  },
  {
   "cell_type": "markdown",
   "metadata": {},
   "source": [
    "We see that we have 1724007 user check-ins into their homes."
   ]
  },
  {
   "cell_type": "markdown",
   "metadata": {},
   "source": [
    "There is one issue with the dataset, whch is that the home location may vary certain users. Here, we sort the home check-ins by `User ID` and we see that for user 15, the home longitude and latitude may vary."
   ]
  },
  {
   "cell_type": "code",
   "execution_count": 7,
   "metadata": {
    "scrolled": false
   },
   "outputs": [
    {
     "data": {
      "text/html": [
       "<div>\n",
       "<style scoped>\n",
       "    .dataframe tbody tr th:only-of-type {\n",
       "        vertical-align: middle;\n",
       "    }\n",
       "\n",
       "    .dataframe tbody tr th {\n",
       "        vertical-align: top;\n",
       "    }\n",
       "\n",
       "    .dataframe thead th {\n",
       "        text-align: right;\n",
       "    }\n",
       "</style>\n",
       "<table border=\"1\" class=\"dataframe\">\n",
       "  <thead>\n",
       "    <tr style=\"text-align: right;\">\n",
       "      <th></th>\n",
       "      <th>User_ID</th>\n",
       "      <th>Venue_ID</th>\n",
       "      <th>day</th>\n",
       "      <th>local_time</th>\n",
       "      <th>lat</th>\n",
       "      <th>lon</th>\n",
       "      <th>place</th>\n",
       "      <th>country</th>\n",
       "    </tr>\n",
       "  </thead>\n",
       "  <tbody>\n",
       "    <tr>\n",
       "      <th>5669330</th>\n",
       "      <td>15</td>\n",
       "      <td>4f9043f2e4b06b50af9c407c</td>\n",
       "      <td>Mon</td>\n",
       "      <td>2012-06-11 01:26:11+00:00</td>\n",
       "      <td>36.289471</td>\n",
       "      <td>-119.342457</td>\n",
       "      <td>Home (private)</td>\n",
       "      <td>US</td>\n",
       "    </tr>\n",
       "    <tr>\n",
       "      <th>2314342</th>\n",
       "      <td>15</td>\n",
       "      <td>4f9043f2e4b06b50af9c407c</td>\n",
       "      <td>Sat</td>\n",
       "      <td>2012-04-28 13:03:24+00:00</td>\n",
       "      <td>36.289471</td>\n",
       "      <td>-119.342457</td>\n",
       "      <td>Home (private)</td>\n",
       "      <td>US</td>\n",
       "    </tr>\n",
       "    <tr>\n",
       "      <th>2314343</th>\n",
       "      <td>15</td>\n",
       "      <td>4f9043f2e4b06b50af9c407c</td>\n",
       "      <td>Sun</td>\n",
       "      <td>2012-04-29 11:05:04+00:00</td>\n",
       "      <td>36.289471</td>\n",
       "      <td>-119.342457</td>\n",
       "      <td>Home (private)</td>\n",
       "      <td>US</td>\n",
       "    </tr>\n",
       "    <tr>\n",
       "      <th>2314344</th>\n",
       "      <td>15</td>\n",
       "      <td>4f9043f2e4b06b50af9c407c</td>\n",
       "      <td>Wed</td>\n",
       "      <td>2012-05-01 23:53:56+00:00</td>\n",
       "      <td>36.289471</td>\n",
       "      <td>-119.342457</td>\n",
       "      <td>Home (private)</td>\n",
       "      <td>US</td>\n",
       "    </tr>\n",
       "    <tr>\n",
       "      <th>4407361</th>\n",
       "      <td>15</td>\n",
       "      <td>4bcb40170687ef3b2349ddcc</td>\n",
       "      <td>Wed</td>\n",
       "      <td>2012-05-23 16:16:55+00:00</td>\n",
       "      <td>36.298218</td>\n",
       "      <td>-119.272754</td>\n",
       "      <td>Home (private)</td>\n",
       "      <td>US</td>\n",
       "    </tr>\n",
       "    <tr>\n",
       "      <th>4693116</th>\n",
       "      <td>15</td>\n",
       "      <td>4f9043f2e4b06b50af9c407c</td>\n",
       "      <td>Tue</td>\n",
       "      <td>2012-05-29 13:26:33+00:00</td>\n",
       "      <td>36.289471</td>\n",
       "      <td>-119.342457</td>\n",
       "      <td>Home (private)</td>\n",
       "      <td>US</td>\n",
       "    </tr>\n",
       "    <tr>\n",
       "      <th>2747619</th>\n",
       "      <td>15</td>\n",
       "      <td>4f9043f2e4b06b50af9c407c</td>\n",
       "      <td>Mon</td>\n",
       "      <td>2012-05-06 23:37:41+00:00</td>\n",
       "      <td>36.289471</td>\n",
       "      <td>-119.342457</td>\n",
       "      <td>Home (private)</td>\n",
       "      <td>US</td>\n",
       "    </tr>\n",
       "    <tr>\n",
       "      <th>4693115</th>\n",
       "      <td>15</td>\n",
       "      <td>4f9043f2e4b06b50af9c407c</td>\n",
       "      <td>Tue</td>\n",
       "      <td>2012-05-29 00:16:37+00:00</td>\n",
       "      <td>36.289471</td>\n",
       "      <td>-119.342457</td>\n",
       "      <td>Home (private)</td>\n",
       "      <td>US</td>\n",
       "    </tr>\n",
       "    <tr>\n",
       "      <th>4693114</th>\n",
       "      <td>15</td>\n",
       "      <td>4f9043f2e4b06b50af9c407c</td>\n",
       "      <td>Mon</td>\n",
       "      <td>2012-05-28 00:35:05+00:00</td>\n",
       "      <td>36.289471</td>\n",
       "      <td>-119.342457</td>\n",
       "      <td>Home (private)</td>\n",
       "      <td>US</td>\n",
       "    </tr>\n",
       "    <tr>\n",
       "      <th>4693113</th>\n",
       "      <td>15</td>\n",
       "      <td>4f9043f2e4b06b50af9c407c</td>\n",
       "      <td>Sun</td>\n",
       "      <td>2012-05-27 10:43:29+00:00</td>\n",
       "      <td>36.289471</td>\n",
       "      <td>-119.342457</td>\n",
       "      <td>Home (private)</td>\n",
       "      <td>US</td>\n",
       "    </tr>\n",
       "    <tr>\n",
       "      <th>3585533</th>\n",
       "      <td>15</td>\n",
       "      <td>4e7506a945ddd4323f8eb325</td>\n",
       "      <td>Mon</td>\n",
       "      <td>2012-05-14 01:42:26+00:00</td>\n",
       "      <td>36.318647</td>\n",
       "      <td>-119.307610</td>\n",
       "      <td>Home (private)</td>\n",
       "      <td>US</td>\n",
       "    </tr>\n",
       "    <tr>\n",
       "      <th>2747618</th>\n",
       "      <td>15</td>\n",
       "      <td>4f9043f2e4b06b50af9c407c</td>\n",
       "      <td>Sun</td>\n",
       "      <td>2012-05-06 11:38:48+00:00</td>\n",
       "      <td>36.289471</td>\n",
       "      <td>-119.342457</td>\n",
       "      <td>Home (private)</td>\n",
       "      <td>US</td>\n",
       "    </tr>\n",
       "    <tr>\n",
       "      <th>2747617</th>\n",
       "      <td>15</td>\n",
       "      <td>4f9043f2e4b06b50af9c407c</td>\n",
       "      <td>Fri</td>\n",
       "      <td>2012-05-04 16:31:32+00:00</td>\n",
       "      <td>36.289471</td>\n",
       "      <td>-119.342457</td>\n",
       "      <td>Home (private)</td>\n",
       "      <td>US</td>\n",
       "    </tr>\n",
       "    <tr>\n",
       "      <th>5385261</th>\n",
       "      <td>15</td>\n",
       "      <td>4f9043f2e4b06b50af9c407c</td>\n",
       "      <td>Thu</td>\n",
       "      <td>2012-06-07 09:42:25+00:00</td>\n",
       "      <td>36.289471</td>\n",
       "      <td>-119.342457</td>\n",
       "      <td>Home (private)</td>\n",
       "      <td>US</td>\n",
       "    </tr>\n",
       "    <tr>\n",
       "      <th>5669329</th>\n",
       "      <td>15</td>\n",
       "      <td>4f9043f2e4b06b50af9c407c</td>\n",
       "      <td>Sat</td>\n",
       "      <td>2012-06-09 02:49:33+00:00</td>\n",
       "      <td>36.289471</td>\n",
       "      <td>-119.342457</td>\n",
       "      <td>Home (private)</td>\n",
       "      <td>US</td>\n",
       "    </tr>\n",
       "    <tr>\n",
       "      <th>5385260</th>\n",
       "      <td>15</td>\n",
       "      <td>4f9043f2e4b06b50af9c407c</td>\n",
       "      <td>Wed</td>\n",
       "      <td>2012-06-06 06:18:27+00:00</td>\n",
       "      <td>36.289471</td>\n",
       "      <td>-119.342457</td>\n",
       "      <td>Home (private)</td>\n",
       "      <td>US</td>\n",
       "    </tr>\n",
       "    <tr>\n",
       "      <th>4069957</th>\n",
       "      <td>15</td>\n",
       "      <td>4f9043f2e4b06b50af9c407c</td>\n",
       "      <td>Sat</td>\n",
       "      <td>2012-05-19 12:54:12+00:00</td>\n",
       "      <td>36.289471</td>\n",
       "      <td>-119.342457</td>\n",
       "      <td>Home (private)</td>\n",
       "      <td>US</td>\n",
       "    </tr>\n",
       "    <tr>\n",
       "      <th>3541452</th>\n",
       "      <td>15</td>\n",
       "      <td>4f9043f2e4b06b50af9c407c</td>\n",
       "      <td>Wed</td>\n",
       "      <td>2012-05-16 00:22:55+00:00</td>\n",
       "      <td>36.289471</td>\n",
       "      <td>-119.342457</td>\n",
       "      <td>Home (private)</td>\n",
       "      <td>US</td>\n",
       "    </tr>\n",
       "    <tr>\n",
       "      <th>3541451</th>\n",
       "      <td>15</td>\n",
       "      <td>4f9043f2e4b06b50af9c407c</td>\n",
       "      <td>Tue</td>\n",
       "      <td>2012-05-15 16:45:27+00:00</td>\n",
       "      <td>36.289471</td>\n",
       "      <td>-119.342457</td>\n",
       "      <td>Home (private)</td>\n",
       "      <td>US</td>\n",
       "    </tr>\n",
       "    <tr>\n",
       "      <th>4069958</th>\n",
       "      <td>15</td>\n",
       "      <td>4f9043f2e4b06b50af9c407c</td>\n",
       "      <td>Mon</td>\n",
       "      <td>2012-05-21 13:06:15+00:00</td>\n",
       "      <td>36.289471</td>\n",
       "      <td>-119.342457</td>\n",
       "      <td>Home (private)</td>\n",
       "      <td>US</td>\n",
       "    </tr>\n",
       "    <tr>\n",
       "      <th>3541450</th>\n",
       "      <td>15</td>\n",
       "      <td>4f9043f2e4b06b50af9c407c</td>\n",
       "      <td>Mon</td>\n",
       "      <td>2012-05-14 01:42:47+00:00</td>\n",
       "      <td>36.289471</td>\n",
       "      <td>-119.342457</td>\n",
       "      <td>Home (private)</td>\n",
       "      <td>US</td>\n",
       "    </tr>\n",
       "    <tr>\n",
       "      <th>3541449</th>\n",
       "      <td>15</td>\n",
       "      <td>4f9043f2e4b06b50af9c407c</td>\n",
       "      <td>Mon</td>\n",
       "      <td>2012-05-13 21:50:44+00:00</td>\n",
       "      <td>36.289471</td>\n",
       "      <td>-119.342457</td>\n",
       "      <td>Home (private)</td>\n",
       "      <td>US</td>\n",
       "    </tr>\n",
       "    <tr>\n",
       "      <th>4069956</th>\n",
       "      <td>15</td>\n",
       "      <td>4f9043f2e4b06b50af9c407c</td>\n",
       "      <td>Sat</td>\n",
       "      <td>2012-05-18 18:46:57+00:00</td>\n",
       "      <td>36.289471</td>\n",
       "      <td>-119.342457</td>\n",
       "      <td>Home (private)</td>\n",
       "      <td>US</td>\n",
       "    </tr>\n",
       "    <tr>\n",
       "      <th>3541453</th>\n",
       "      <td>15</td>\n",
       "      <td>4f9043f2e4b06b50af9c407c</td>\n",
       "      <td>Thu</td>\n",
       "      <td>2012-05-17 11:50:17+00:00</td>\n",
       "      <td>36.289471</td>\n",
       "      <td>-119.342457</td>\n",
       "      <td>Home (private)</td>\n",
       "      <td>US</td>\n",
       "    </tr>\n",
       "    <tr>\n",
       "      <th>21491566</th>\n",
       "      <td>19</td>\n",
       "      <td>4fb833a67beb51fee310e42a</td>\n",
       "      <td>Mon</td>\n",
       "      <td>2013-09-02 08:55:48+00:00</td>\n",
       "      <td>40.980988</td>\n",
       "      <td>-72.123841</td>\n",
       "      <td>Home (private)</td>\n",
       "      <td>US</td>\n",
       "    </tr>\n",
       "    <tr>\n",
       "      <th>4479257</th>\n",
       "      <td>19</td>\n",
       "      <td>4fb833a67beb51fee310e42a</td>\n",
       "      <td>Sat</td>\n",
       "      <td>2012-05-25 21:10:01+00:00</td>\n",
       "      <td>40.980988</td>\n",
       "      <td>-72.123841</td>\n",
       "      <td>Home (private)</td>\n",
       "      <td>US</td>\n",
       "    </tr>\n",
       "    <tr>\n",
       "      <th>8334605</th>\n",
       "      <td>54</td>\n",
       "      <td>50156cece4b080ff6bda2db5</td>\n",
       "      <td>Sun</td>\n",
       "      <td>2012-07-29 10:04:46+00:00</td>\n",
       "      <td>33.423953</td>\n",
       "      <td>-117.614146</td>\n",
       "      <td>Home (private)</td>\n",
       "      <td>US</td>\n",
       "    </tr>\n",
       "    <tr>\n",
       "      <th>10426730</th>\n",
       "      <td>54</td>\n",
       "      <td>4e39ca1e922e5af7742053dc</td>\n",
       "      <td>Tue</td>\n",
       "      <td>2012-10-30 14:45:35+00:00</td>\n",
       "      <td>40.680117</td>\n",
       "      <td>-73.977126</td>\n",
       "      <td>Home (private)</td>\n",
       "      <td>US</td>\n",
       "    </tr>\n",
       "    <tr>\n",
       "      <th>6363162</th>\n",
       "      <td>54</td>\n",
       "      <td>4cb0e791c5e6a1cd6f71d9f6</td>\n",
       "      <td>Sun</td>\n",
       "      <td>2012-06-17 13:26:02+00:00</td>\n",
       "      <td>39.069125</td>\n",
       "      <td>-120.141609</td>\n",
       "      <td>Home (private)</td>\n",
       "      <td>US</td>\n",
       "    </tr>\n",
       "    <tr>\n",
       "      <th>11834264</th>\n",
       "      <td>58</td>\n",
       "      <td>50b3e843e4b057b019f90a5b</td>\n",
       "      <td>Tue</td>\n",
       "      <td>2012-11-26 18:54:03+00:00</td>\n",
       "      <td>29.933542</td>\n",
       "      <td>-90.098043</td>\n",
       "      <td>Home (private)</td>\n",
       "      <td>US</td>\n",
       "    </tr>\n",
       "  </tbody>\n",
       "</table>\n",
       "</div>"
      ],
      "text/plain": [
       "          User_ID                  Venue_ID  day                 local_time  \\\n",
       "5669330        15  4f9043f2e4b06b50af9c407c  Mon  2012-06-11 01:26:11+00:00   \n",
       "2314342        15  4f9043f2e4b06b50af9c407c  Sat  2012-04-28 13:03:24+00:00   \n",
       "2314343        15  4f9043f2e4b06b50af9c407c  Sun  2012-04-29 11:05:04+00:00   \n",
       "2314344        15  4f9043f2e4b06b50af9c407c  Wed  2012-05-01 23:53:56+00:00   \n",
       "4407361        15  4bcb40170687ef3b2349ddcc  Wed  2012-05-23 16:16:55+00:00   \n",
       "4693116        15  4f9043f2e4b06b50af9c407c  Tue  2012-05-29 13:26:33+00:00   \n",
       "2747619        15  4f9043f2e4b06b50af9c407c  Mon  2012-05-06 23:37:41+00:00   \n",
       "4693115        15  4f9043f2e4b06b50af9c407c  Tue  2012-05-29 00:16:37+00:00   \n",
       "4693114        15  4f9043f2e4b06b50af9c407c  Mon  2012-05-28 00:35:05+00:00   \n",
       "4693113        15  4f9043f2e4b06b50af9c407c  Sun  2012-05-27 10:43:29+00:00   \n",
       "3585533        15  4e7506a945ddd4323f8eb325  Mon  2012-05-14 01:42:26+00:00   \n",
       "2747618        15  4f9043f2e4b06b50af9c407c  Sun  2012-05-06 11:38:48+00:00   \n",
       "2747617        15  4f9043f2e4b06b50af9c407c  Fri  2012-05-04 16:31:32+00:00   \n",
       "5385261        15  4f9043f2e4b06b50af9c407c  Thu  2012-06-07 09:42:25+00:00   \n",
       "5669329        15  4f9043f2e4b06b50af9c407c  Sat  2012-06-09 02:49:33+00:00   \n",
       "5385260        15  4f9043f2e4b06b50af9c407c  Wed  2012-06-06 06:18:27+00:00   \n",
       "4069957        15  4f9043f2e4b06b50af9c407c  Sat  2012-05-19 12:54:12+00:00   \n",
       "3541452        15  4f9043f2e4b06b50af9c407c  Wed  2012-05-16 00:22:55+00:00   \n",
       "3541451        15  4f9043f2e4b06b50af9c407c  Tue  2012-05-15 16:45:27+00:00   \n",
       "4069958        15  4f9043f2e4b06b50af9c407c  Mon  2012-05-21 13:06:15+00:00   \n",
       "3541450        15  4f9043f2e4b06b50af9c407c  Mon  2012-05-14 01:42:47+00:00   \n",
       "3541449        15  4f9043f2e4b06b50af9c407c  Mon  2012-05-13 21:50:44+00:00   \n",
       "4069956        15  4f9043f2e4b06b50af9c407c  Sat  2012-05-18 18:46:57+00:00   \n",
       "3541453        15  4f9043f2e4b06b50af9c407c  Thu  2012-05-17 11:50:17+00:00   \n",
       "21491566       19  4fb833a67beb51fee310e42a  Mon  2013-09-02 08:55:48+00:00   \n",
       "4479257        19  4fb833a67beb51fee310e42a  Sat  2012-05-25 21:10:01+00:00   \n",
       "8334605        54  50156cece4b080ff6bda2db5  Sun  2012-07-29 10:04:46+00:00   \n",
       "10426730       54  4e39ca1e922e5af7742053dc  Tue  2012-10-30 14:45:35+00:00   \n",
       "6363162        54  4cb0e791c5e6a1cd6f71d9f6  Sun  2012-06-17 13:26:02+00:00   \n",
       "11834264       58  50b3e843e4b057b019f90a5b  Tue  2012-11-26 18:54:03+00:00   \n",
       "\n",
       "                lat         lon           place country  \n",
       "5669330   36.289471 -119.342457  Home (private)      US  \n",
       "2314342   36.289471 -119.342457  Home (private)      US  \n",
       "2314343   36.289471 -119.342457  Home (private)      US  \n",
       "2314344   36.289471 -119.342457  Home (private)      US  \n",
       "4407361   36.298218 -119.272754  Home (private)      US  \n",
       "4693116   36.289471 -119.342457  Home (private)      US  \n",
       "2747619   36.289471 -119.342457  Home (private)      US  \n",
       "4693115   36.289471 -119.342457  Home (private)      US  \n",
       "4693114   36.289471 -119.342457  Home (private)      US  \n",
       "4693113   36.289471 -119.342457  Home (private)      US  \n",
       "3585533   36.318647 -119.307610  Home (private)      US  \n",
       "2747618   36.289471 -119.342457  Home (private)      US  \n",
       "2747617   36.289471 -119.342457  Home (private)      US  \n",
       "5385261   36.289471 -119.342457  Home (private)      US  \n",
       "5669329   36.289471 -119.342457  Home (private)      US  \n",
       "5385260   36.289471 -119.342457  Home (private)      US  \n",
       "4069957   36.289471 -119.342457  Home (private)      US  \n",
       "3541452   36.289471 -119.342457  Home (private)      US  \n",
       "3541451   36.289471 -119.342457  Home (private)      US  \n",
       "4069958   36.289471 -119.342457  Home (private)      US  \n",
       "3541450   36.289471 -119.342457  Home (private)      US  \n",
       "3541449   36.289471 -119.342457  Home (private)      US  \n",
       "4069956   36.289471 -119.342457  Home (private)      US  \n",
       "3541453   36.289471 -119.342457  Home (private)      US  \n",
       "21491566  40.980988  -72.123841  Home (private)      US  \n",
       "4479257   40.980988  -72.123841  Home (private)      US  \n",
       "8334605   33.423953 -117.614146  Home (private)      US  \n",
       "10426730  40.680117  -73.977126  Home (private)      US  \n",
       "6363162   39.069125 -120.141609  Home (private)      US  \n",
       "11834264  29.933542  -90.098043  Home (private)      US  "
      ]
     },
     "execution_count": 7,
     "metadata": {},
     "output_type": "execute_result"
    }
   ],
   "source": [
    "df_checkins_homes.sort_values(\"User_ID\").head(30)"
   ]
  },
  {
   "cell_type": "markdown",
   "metadata": {},
   "source": [
    "Create dataframe for user home locations, where we use the median location with label home for each user"
   ]
  },
  {
   "cell_type": "markdown",
   "metadata": {},
   "source": [
    "Since the check-in location labeled with `Home (private)` may not be unique for a certain user, we decide to keep only users whose home locations have a standard deviation of 100m around the mean location."
   ]
  },
  {
   "cell_type": "markdown",
   "metadata": {},
   "source": [
    "The `haversine` function computes the distance between two point on a sphere using thei longitudes and latitudes."
   ]
  },
  {
   "cell_type": "code",
   "execution_count": 8,
   "metadata": {},
   "outputs": [],
   "source": [
    "EARTH_RADIUS = 6371.0088\n",
    "def haversine(lat1, lat2, lon1, lon2):\n",
    "    sigma = np.arcsin(np.sqrt(np.sin((lat2-lat1)/2)**2 + np.cos(lat1)*np.cos(lat2)*np.sin((lon1-lon2)/2)**2))\n",
    "    return round(2 * EARTH_RADIUS * sigma)"
   ]
  },
  {
   "cell_type": "markdown",
   "metadata": {},
   "source": [
    "The `select_relevant_homes` filters out the users having home locations with a standard deviation larger than 100m."
   ]
  },
  {
   "cell_type": "code",
   "execution_count": 9,
   "metadata": {},
   "outputs": [],
   "source": [
    "def select_relevant_homes(df_homes):\n",
    "\n",
    "    # Grouping df_homes according to the user id and compute std and mean for lat and lon\n",
    "    df_homes = df_homes.groupby('User_ID').agg({'lat':('std','mean'), 'lon':('std','mean')})\n",
    "    \n",
    "    # Filling nan values with 0 (std return 0 if there is only one sample)\n",
    "    df_homes.fillna(0, inplace=True)\n",
    "    \n",
    "    # Compute distance from mean\n",
    "    \n",
    "    # Preparing dataframe\n",
    "    df_tmp = pd.DataFrame()\n",
    "    df_tmp['lat1'] = df_homes.lat['mean'] - df_homes.lat['std']\n",
    "    df_tmp['lat2'] = df_homes.lat['mean'] + df_homes.lat['std']\n",
    "    df_tmp['lon1'] = df_homes.lon['mean'] - df_homes.lon['std']\n",
    "    df_tmp['lon2'] = df_homes.lon['mean'] + df_homes.lon['std']\n",
    "    \n",
    "    # Compute distance\n",
    "    df_tmp['home_radius'] = haversine(df_tmp.lat1, df_tmp.lat2, df_tmp.lon1, df_tmp.lon2)\n",
    "    \n",
    "    # Filter home and keep relevant home (estimated distance between homes checkins < 100m )\n",
    "    df_homes = df_homes[df_tmp['home_radius']<0.1][[('lat', 'mean'), ('lon', 'mean')]].copy()\n",
    "    \n",
    "    df_homes.columns = df_homes.columns.get_level_values(0)\n",
    "    \n",
    "    return df_homes"
   ]
  },
  {
   "cell_type": "markdown",
   "metadata": {},
   "source": [
    "We decided to only keep the users whose home location is in the United States."
   ]
  },
  {
   "cell_type": "code",
   "execution_count": 10,
   "metadata": {},
   "outputs": [],
   "source": [
    "df_homes = select_relevant_homes(df_checkins_homes[df_checkins_homes.country == 'US'].copy())"
   ]
  },
  {
   "cell_type": "code",
   "execution_count": 11,
   "metadata": {},
   "outputs": [
    {
     "data": {
      "text/html": [
       "<div>\n",
       "<style scoped>\n",
       "    .dataframe tbody tr th:only-of-type {\n",
       "        vertical-align: middle;\n",
       "    }\n",
       "\n",
       "    .dataframe tbody tr th {\n",
       "        vertical-align: top;\n",
       "    }\n",
       "\n",
       "    .dataframe thead th {\n",
       "        text-align: right;\n",
       "    }\n",
       "</style>\n",
       "<table border=\"1\" class=\"dataframe\">\n",
       "  <thead>\n",
       "    <tr style=\"text-align: right;\">\n",
       "      <th></th>\n",
       "      <th>lat</th>\n",
       "      <th>lon</th>\n",
       "    </tr>\n",
       "    <tr>\n",
       "      <th>User_ID</th>\n",
       "      <th></th>\n",
       "      <th></th>\n",
       "    </tr>\n",
       "  </thead>\n",
       "  <tbody>\n",
       "    <tr>\n",
       "      <th>19</th>\n",
       "      <td>40.980988</td>\n",
       "      <td>-72.123841</td>\n",
       "    </tr>\n",
       "    <tr>\n",
       "      <th>58</th>\n",
       "      <td>29.933542</td>\n",
       "      <td>-90.098043</td>\n",
       "    </tr>\n",
       "    <tr>\n",
       "      <th>256</th>\n",
       "      <td>36.958127</td>\n",
       "      <td>-121.987122</td>\n",
       "    </tr>\n",
       "    <tr>\n",
       "      <th>277</th>\n",
       "      <td>45.425242</td>\n",
       "      <td>-122.553632</td>\n",
       "    </tr>\n",
       "    <tr>\n",
       "      <th>283</th>\n",
       "      <td>37.706045</td>\n",
       "      <td>-122.463708</td>\n",
       "    </tr>\n",
       "    <tr>\n",
       "      <th>...</th>\n",
       "      <td>...</td>\n",
       "      <td>...</td>\n",
       "    </tr>\n",
       "    <tr>\n",
       "      <th>2162078</th>\n",
       "      <td>39.904579</td>\n",
       "      <td>-75.323726</td>\n",
       "    </tr>\n",
       "    <tr>\n",
       "      <th>2163103</th>\n",
       "      <td>39.661642</td>\n",
       "      <td>-104.839625</td>\n",
       "    </tr>\n",
       "    <tr>\n",
       "      <th>2166514</th>\n",
       "      <td>28.480089</td>\n",
       "      <td>-81.455364</td>\n",
       "    </tr>\n",
       "    <tr>\n",
       "      <th>2166978</th>\n",
       "      <td>39.944327</td>\n",
       "      <td>-83.084453</td>\n",
       "    </tr>\n",
       "    <tr>\n",
       "      <th>2174127</th>\n",
       "      <td>38.991378</td>\n",
       "      <td>-94.722579</td>\n",
       "    </tr>\n",
       "  </tbody>\n",
       "</table>\n",
       "<p>4633 rows × 2 columns</p>\n",
       "</div>"
      ],
      "text/plain": [
       "               lat         lon\n",
       "User_ID                       \n",
       "19       40.980988  -72.123841\n",
       "58       29.933542  -90.098043\n",
       "256      36.958127 -121.987122\n",
       "277      45.425242 -122.553632\n",
       "283      37.706045 -122.463708\n",
       "...            ...         ...\n",
       "2162078  39.904579  -75.323726\n",
       "2163103  39.661642 -104.839625\n",
       "2166514  28.480089  -81.455364\n",
       "2166978  39.944327  -83.084453\n",
       "2174127  38.991378  -94.722579\n",
       "\n",
       "[4633 rows x 2 columns]"
      ]
     },
     "execution_count": 11,
     "metadata": {},
     "output_type": "execute_result"
    }
   ],
   "source": [
    "df_homes"
   ]
  },
  {
   "cell_type": "markdown",
   "metadata": {},
   "source": [
    "Now we are left with 4633 users along with their home locations."
   ]
  },
  {
   "cell_type": "markdown",
   "metadata": {},
   "source": [
    "## Home Locations Using Discretization"
   ]
  },
  {
   "cell_type": "markdown",
   "metadata": {},
   "source": [
    "Now let us isolate the users that have homes."
   ]
  },
  {
   "cell_type": "code",
   "execution_count": 12,
   "metadata": {},
   "outputs": [],
   "source": [
    "users_with_homes = df_homes.index.values"
   ]
  },
  {
   "cell_type": "code",
   "execution_count": 13,
   "metadata": {},
   "outputs": [],
   "source": [
    "df_checkin_filtered = df_checkin[df_checkin[\"User_ID\"].isin(users_with_homes)].copy()"
   ]
  },
  {
   "cell_type": "markdown",
   "metadata": {},
   "source": [
    "Here is the code to discretize the world and detect home locations (from P2)."
   ]
  },
  {
   "cell_type": "code",
   "execution_count": 14,
   "metadata": {},
   "outputs": [],
   "source": [
    "# Function to be called in lambda to get specific 25km*25km square where the coordinates are\n",
    "def square_coordinate(latitude, longitude):\n",
    "    lat_rad = np.deg2rad(latitude)\n",
    "    lon_rad = np.deg2rad(longitude)\n",
    "    \n",
    "    square_side_on_equator = 10\n",
    "\n",
    "    # signed distance from equator\n",
    "    latitude_dist = EARTH_RADIUS * lat_rad\n",
    "\n",
    "    # signed distance from prime meridian (moving parallel to equator parallel to equator)\n",
    "    longitude_dist = EARTH_RADIUS * np.cos(lat_rad) * lon_rad\n",
    "\n",
    "    latitude_square_nbr = np.trunc(latitude_dist / square_side_on_equator)\n",
    "    \n",
    "    # rescaling the length of the square side because of the curvature of the earth.\n",
    "    # on a cylindrical projection, horizontal distances are rescaled as follows\n",
    "    square_side_on_lat_line = square_side_on_equator * np.cos(lat_rad)\n",
    "\n",
    "    longitude_square_nbr = np.trunc(longitude_dist / square_side_on_lat_line)\n",
    "\n",
    "    return list(zip(latitude_square_nbr, longitude_square_nbr))"
   ]
  },
  {
   "cell_type": "code",
   "execution_count": 15,
   "metadata": {},
   "outputs": [],
   "source": [
    "def get_home_coordinates(df):\n",
    "    df_ = df.copy()\n",
    "\n",
    "    # Get the square coordinates for each row\n",
    "    df_['square_coordinates'] = square_coordinate(df_.lat.values, df_.lon.values)\n",
    "    \n",
    "    # Group by user then square, for each square create a list of the corresponding coordinates\n",
    "    df_ = df_.groupby(['User_ID', 'square_coordinates'], as_index=False)\\\n",
    "                     [['User_ID', 'square_coordinates', 'lat', 'lon']].agg(list)\n",
    "    \n",
    "    # Compute number of checkins in each square per user\n",
    "    df_['freq'] = df_['lat'].str.len()\n",
    "    \n",
    "    # Keep only the most frequented square for each user\n",
    "    df_ = df_.sort_values(['User_ID','freq'], ascending=[True, False]).drop_duplicates(['User_ID'])\n",
    "    \n",
    "    # For each user, find the average location in the most frequented square\n",
    "    df_['lat'] = df_.lat.parallel_apply(lambda row: np.mean(row))\n",
    "    df_['lon'] = df_.lon.parallel_apply(lambda row: np.mean(row))\n",
    "    \n",
    "    #return a dataframe with user, home latitude and home longitude\n",
    "    return df_[['User_ID', 'lat', 'lon']].set_index('User_ID')"
   ]
  },
  {
   "cell_type": "markdown",
   "metadata": {},
   "source": [
    "Let us now copute the home location of the users using the discretization."
   ]
  },
  {
   "cell_type": "code",
   "execution_count": 16,
   "metadata": {},
   "outputs": [],
   "source": [
    "df_detected_homes = get_home_coordinates(df_checkin_filtered)"
   ]
  },
  {
   "cell_type": "code",
   "execution_count": 17,
   "metadata": {},
   "outputs": [
    {
     "data": {
      "text/html": [
       "<div>\n",
       "<style scoped>\n",
       "    .dataframe tbody tr th:only-of-type {\n",
       "        vertical-align: middle;\n",
       "    }\n",
       "\n",
       "    .dataframe tbody tr th {\n",
       "        vertical-align: top;\n",
       "    }\n",
       "\n",
       "    .dataframe thead th {\n",
       "        text-align: right;\n",
       "    }\n",
       "</style>\n",
       "<table border=\"1\" class=\"dataframe\">\n",
       "  <thead>\n",
       "    <tr style=\"text-align: right;\">\n",
       "      <th></th>\n",
       "      <th>lat</th>\n",
       "      <th>lon</th>\n",
       "    </tr>\n",
       "    <tr>\n",
       "      <th>User_ID</th>\n",
       "      <th></th>\n",
       "      <th></th>\n",
       "    </tr>\n",
       "  </thead>\n",
       "  <tbody>\n",
       "    <tr>\n",
       "      <th>19</th>\n",
       "      <td>40.724158</td>\n",
       "      <td>-73.988653</td>\n",
       "    </tr>\n",
       "    <tr>\n",
       "      <th>58</th>\n",
       "      <td>40.695894</td>\n",
       "      <td>-73.986256</td>\n",
       "    </tr>\n",
       "    <tr>\n",
       "      <th>256</th>\n",
       "      <td>33.947396</td>\n",
       "      <td>-116.982608</td>\n",
       "    </tr>\n",
       "    <tr>\n",
       "      <th>277</th>\n",
       "      <td>45.433243</td>\n",
       "      <td>-122.552361</td>\n",
       "    </tr>\n",
       "    <tr>\n",
       "      <th>283</th>\n",
       "      <td>37.733366</td>\n",
       "      <td>-122.453535</td>\n",
       "    </tr>\n",
       "    <tr>\n",
       "      <th>...</th>\n",
       "      <td>...</td>\n",
       "      <td>...</td>\n",
       "    </tr>\n",
       "    <tr>\n",
       "      <th>2162078</th>\n",
       "      <td>39.906446</td>\n",
       "      <td>-75.326858</td>\n",
       "    </tr>\n",
       "    <tr>\n",
       "      <th>2163103</th>\n",
       "      <td>39.704853</td>\n",
       "      <td>-104.997804</td>\n",
       "    </tr>\n",
       "    <tr>\n",
       "      <th>2166514</th>\n",
       "      <td>28.472556</td>\n",
       "      <td>-81.462514</td>\n",
       "    </tr>\n",
       "    <tr>\n",
       "      <th>2166978</th>\n",
       "      <td>39.963076</td>\n",
       "      <td>-83.077521</td>\n",
       "    </tr>\n",
       "    <tr>\n",
       "      <th>2174127</th>\n",
       "      <td>38.992182</td>\n",
       "      <td>-94.728700</td>\n",
       "    </tr>\n",
       "  </tbody>\n",
       "</table>\n",
       "<p>4633 rows × 2 columns</p>\n",
       "</div>"
      ],
      "text/plain": [
       "               lat         lon\n",
       "User_ID                       \n",
       "19       40.724158  -73.988653\n",
       "58       40.695894  -73.986256\n",
       "256      33.947396 -116.982608\n",
       "277      45.433243 -122.552361\n",
       "283      37.733366 -122.453535\n",
       "...            ...         ...\n",
       "2162078  39.906446  -75.326858\n",
       "2163103  39.704853 -104.997804\n",
       "2166514  28.472556  -81.462514\n",
       "2166978  39.963076  -83.077521\n",
       "2174127  38.992182  -94.728700\n",
       "\n",
       "[4633 rows x 2 columns]"
      ]
     },
     "execution_count": 17,
     "metadata": {},
     "output_type": "execute_result"
    }
   ],
   "source": [
    "df_detected_homes"
   ]
  },
  {
   "cell_type": "markdown",
   "metadata": {},
   "source": [
    "## Comparison Between Ground Truth and Discretization Results"
   ]
  },
  {
   "cell_type": "markdown",
   "metadata": {},
   "source": [
    "Let us compute the distance between the home locations resulting from the discretization and the true home locations."
   ]
  },
  {
   "cell_type": "markdown",
   "metadata": {},
   "source": [
    "First, we merge the two dataframes, then we compute the distance between the true home and the detected home using the `haversine` function defined above."
   ]
  },
  {
   "cell_type": "code",
   "execution_count": 18,
   "metadata": {},
   "outputs": [],
   "source": [
    "df_distance_detection_from_truth = pd.merge(df_homes, df_detected_homes, left_index=True, right_index=True)"
   ]
  },
  {
   "cell_type": "code",
   "execution_count": 19,
   "metadata": {},
   "outputs": [
    {
     "data": {
      "text/html": [
       "<div>\n",
       "<style scoped>\n",
       "    .dataframe tbody tr th:only-of-type {\n",
       "        vertical-align: middle;\n",
       "    }\n",
       "\n",
       "    .dataframe tbody tr th {\n",
       "        vertical-align: top;\n",
       "    }\n",
       "\n",
       "    .dataframe thead th {\n",
       "        text-align: right;\n",
       "    }\n",
       "</style>\n",
       "<table border=\"1\" class=\"dataframe\">\n",
       "  <thead>\n",
       "    <tr style=\"text-align: right;\">\n",
       "      <th></th>\n",
       "      <th>lat_x</th>\n",
       "      <th>lon_x</th>\n",
       "      <th>lat_y</th>\n",
       "      <th>lon_y</th>\n",
       "    </tr>\n",
       "    <tr>\n",
       "      <th>User_ID</th>\n",
       "      <th></th>\n",
       "      <th></th>\n",
       "      <th></th>\n",
       "      <th></th>\n",
       "    </tr>\n",
       "  </thead>\n",
       "  <tbody>\n",
       "    <tr>\n",
       "      <th>19</th>\n",
       "      <td>40.980988</td>\n",
       "      <td>-72.123841</td>\n",
       "      <td>40.724158</td>\n",
       "      <td>-73.988653</td>\n",
       "    </tr>\n",
       "    <tr>\n",
       "      <th>58</th>\n",
       "      <td>29.933542</td>\n",
       "      <td>-90.098043</td>\n",
       "      <td>40.695894</td>\n",
       "      <td>-73.986256</td>\n",
       "    </tr>\n",
       "    <tr>\n",
       "      <th>256</th>\n",
       "      <td>36.958127</td>\n",
       "      <td>-121.987122</td>\n",
       "      <td>33.947396</td>\n",
       "      <td>-116.982608</td>\n",
       "    </tr>\n",
       "    <tr>\n",
       "      <th>277</th>\n",
       "      <td>45.425242</td>\n",
       "      <td>-122.553632</td>\n",
       "      <td>45.433243</td>\n",
       "      <td>-122.552361</td>\n",
       "    </tr>\n",
       "    <tr>\n",
       "      <th>283</th>\n",
       "      <td>37.706045</td>\n",
       "      <td>-122.463708</td>\n",
       "      <td>37.733366</td>\n",
       "      <td>-122.453535</td>\n",
       "    </tr>\n",
       "    <tr>\n",
       "      <th>...</th>\n",
       "      <td>...</td>\n",
       "      <td>...</td>\n",
       "      <td>...</td>\n",
       "      <td>...</td>\n",
       "    </tr>\n",
       "    <tr>\n",
       "      <th>2162078</th>\n",
       "      <td>39.904579</td>\n",
       "      <td>-75.323726</td>\n",
       "      <td>39.906446</td>\n",
       "      <td>-75.326858</td>\n",
       "    </tr>\n",
       "    <tr>\n",
       "      <th>2163103</th>\n",
       "      <td>39.661642</td>\n",
       "      <td>-104.839625</td>\n",
       "      <td>39.704853</td>\n",
       "      <td>-104.997804</td>\n",
       "    </tr>\n",
       "    <tr>\n",
       "      <th>2166514</th>\n",
       "      <td>28.480089</td>\n",
       "      <td>-81.455364</td>\n",
       "      <td>28.472556</td>\n",
       "      <td>-81.462514</td>\n",
       "    </tr>\n",
       "    <tr>\n",
       "      <th>2166978</th>\n",
       "      <td>39.944327</td>\n",
       "      <td>-83.084453</td>\n",
       "      <td>39.963076</td>\n",
       "      <td>-83.077521</td>\n",
       "    </tr>\n",
       "    <tr>\n",
       "      <th>2174127</th>\n",
       "      <td>38.991378</td>\n",
       "      <td>-94.722579</td>\n",
       "      <td>38.992182</td>\n",
       "      <td>-94.728700</td>\n",
       "    </tr>\n",
       "  </tbody>\n",
       "</table>\n",
       "<p>4633 rows × 4 columns</p>\n",
       "</div>"
      ],
      "text/plain": [
       "             lat_x       lon_x      lat_y       lon_y\n",
       "User_ID                                              \n",
       "19       40.980988  -72.123841  40.724158  -73.988653\n",
       "58       29.933542  -90.098043  40.695894  -73.986256\n",
       "256      36.958127 -121.987122  33.947396 -116.982608\n",
       "277      45.425242 -122.553632  45.433243 -122.552361\n",
       "283      37.706045 -122.463708  37.733366 -122.453535\n",
       "...            ...         ...        ...         ...\n",
       "2162078  39.904579  -75.323726  39.906446  -75.326858\n",
       "2163103  39.661642 -104.839625  39.704853 -104.997804\n",
       "2166514  28.480089  -81.455364  28.472556  -81.462514\n",
       "2166978  39.944327  -83.084453  39.963076  -83.077521\n",
       "2174127  38.991378  -94.722579  38.992182  -94.728700\n",
       "\n",
       "[4633 rows x 4 columns]"
      ]
     },
     "execution_count": 19,
     "metadata": {},
     "output_type": "execute_result"
    }
   ],
   "source": [
    "df_distance_detection_from_truth"
   ]
  },
  {
   "cell_type": "code",
   "execution_count": 20,
   "metadata": {},
   "outputs": [],
   "source": [
    "df_distance_detection_from_truth['dist'] = haversine(df_distance_detection_from_truth.lat_x,\n",
    "                                                     df_distance_detection_from_truth.lat_y,\n",
    "                                                     df_distance_detection_from_truth.lon_x,\n",
    "                                                     df_distance_detection_from_truth.lon_y)"
   ]
  },
  {
   "cell_type": "code",
   "execution_count": 21,
   "metadata": {},
   "outputs": [
    {
     "data": {
      "text/html": [
       "<div>\n",
       "<style scoped>\n",
       "    .dataframe tbody tr th:only-of-type {\n",
       "        vertical-align: middle;\n",
       "    }\n",
       "\n",
       "    .dataframe tbody tr th {\n",
       "        vertical-align: top;\n",
       "    }\n",
       "\n",
       "    .dataframe thead th {\n",
       "        text-align: right;\n",
       "    }\n",
       "</style>\n",
       "<table border=\"1\" class=\"dataframe\">\n",
       "  <thead>\n",
       "    <tr style=\"text-align: right;\">\n",
       "      <th></th>\n",
       "      <th>lat_x</th>\n",
       "      <th>lon_x</th>\n",
       "      <th>lat_y</th>\n",
       "      <th>lon_y</th>\n",
       "      <th>dist</th>\n",
       "    </tr>\n",
       "    <tr>\n",
       "      <th>User_ID</th>\n",
       "      <th></th>\n",
       "      <th></th>\n",
       "      <th></th>\n",
       "      <th></th>\n",
       "      <th></th>\n",
       "    </tr>\n",
       "  </thead>\n",
       "  <tbody>\n",
       "    <tr>\n",
       "      <th>19</th>\n",
       "      <td>40.980988</td>\n",
       "      <td>-72.123841</td>\n",
       "      <td>40.724158</td>\n",
       "      <td>-73.988653</td>\n",
       "      <td>11957.0</td>\n",
       "    </tr>\n",
       "    <tr>\n",
       "      <th>58</th>\n",
       "      <td>29.933542</td>\n",
       "      <td>-90.098043</td>\n",
       "      <td>40.695894</td>\n",
       "      <td>-73.986256</td>\n",
       "      <td>10412.0</td>\n",
       "    </tr>\n",
       "    <tr>\n",
       "      <th>256</th>\n",
       "      <td>36.958127</td>\n",
       "      <td>-121.987122</td>\n",
       "      <td>33.947396</td>\n",
       "      <td>-116.982608</td>\n",
       "      <td>13801.0</td>\n",
       "    </tr>\n",
       "    <tr>\n",
       "      <th>277</th>\n",
       "      <td>45.425242</td>\n",
       "      <td>-122.553632</td>\n",
       "      <td>45.433243</td>\n",
       "      <td>-122.552361</td>\n",
       "      <td>51.0</td>\n",
       "    </tr>\n",
       "    <tr>\n",
       "      <th>283</th>\n",
       "      <td>37.706045</td>\n",
       "      <td>-122.463708</td>\n",
       "      <td>37.733366</td>\n",
       "      <td>-122.453535</td>\n",
       "      <td>186.0</td>\n",
       "    </tr>\n",
       "    <tr>\n",
       "      <th>...</th>\n",
       "      <td>...</td>\n",
       "      <td>...</td>\n",
       "      <td>...</td>\n",
       "      <td>...</td>\n",
       "      <td>...</td>\n",
       "    </tr>\n",
       "    <tr>\n",
       "      <th>2162078</th>\n",
       "      <td>39.904579</td>\n",
       "      <td>-75.323726</td>\n",
       "      <td>39.906446</td>\n",
       "      <td>-75.326858</td>\n",
       "      <td>17.0</td>\n",
       "    </tr>\n",
       "    <tr>\n",
       "      <th>2163103</th>\n",
       "      <td>39.661642</td>\n",
       "      <td>-104.839625</td>\n",
       "      <td>39.704853</td>\n",
       "      <td>-104.997804</td>\n",
       "      <td>489.0</td>\n",
       "    </tr>\n",
       "    <tr>\n",
       "      <th>2166514</th>\n",
       "      <td>28.480089</td>\n",
       "      <td>-81.455364</td>\n",
       "      <td>28.472556</td>\n",
       "      <td>-81.462514</td>\n",
       "      <td>66.0</td>\n",
       "    </tr>\n",
       "    <tr>\n",
       "      <th>2166978</th>\n",
       "      <td>39.944327</td>\n",
       "      <td>-83.084453</td>\n",
       "      <td>39.963076</td>\n",
       "      <td>-83.077521</td>\n",
       "      <td>123.0</td>\n",
       "    </tr>\n",
       "    <tr>\n",
       "      <th>2174127</th>\n",
       "      <td>38.991378</td>\n",
       "      <td>-94.722579</td>\n",
       "      <td>38.992182</td>\n",
       "      <td>-94.728700</td>\n",
       "      <td>12.0</td>\n",
       "    </tr>\n",
       "  </tbody>\n",
       "</table>\n",
       "<p>4633 rows × 5 columns</p>\n",
       "</div>"
      ],
      "text/plain": [
       "             lat_x       lon_x      lat_y       lon_y     dist\n",
       "User_ID                                                       \n",
       "19       40.980988  -72.123841  40.724158  -73.988653  11957.0\n",
       "58       29.933542  -90.098043  40.695894  -73.986256  10412.0\n",
       "256      36.958127 -121.987122  33.947396 -116.982608  13801.0\n",
       "277      45.425242 -122.553632  45.433243 -122.552361     51.0\n",
       "283      37.706045 -122.463708  37.733366 -122.453535    186.0\n",
       "...            ...         ...        ...         ...      ...\n",
       "2162078  39.904579  -75.323726  39.906446  -75.326858     17.0\n",
       "2163103  39.661642 -104.839625  39.704853 -104.997804    489.0\n",
       "2166514  28.480089  -81.455364  28.472556  -81.462514     66.0\n",
       "2166978  39.944327  -83.084453  39.963076  -83.077521    123.0\n",
       "2174127  38.991378  -94.722579  38.992182  -94.728700     12.0\n",
       "\n",
       "[4633 rows x 5 columns]"
      ]
     },
     "execution_count": 21,
     "metadata": {},
     "output_type": "execute_result"
    }
   ],
   "source": [
    "df_distance_detection_from_truth"
   ]
  },
  {
   "cell_type": "markdown",
   "metadata": {},
   "source": [
    "Now, we visualize the distribution of distances. We plot the distribution of distances on a log-log scale."
   ]
  },
  {
   "cell_type": "code",
   "execution_count": 22,
   "metadata": {},
   "outputs": [],
   "source": [
    "def power_func(x, a, b):\n",
    "    \"\"\"\n",
    "    function to compute a*(x^b)\n",
    "    \"\"\"\n",
    "    return a * np.power(x, b)"
   ]
  },
  {
   "cell_type": "code",
   "execution_count": 23,
   "metadata": {},
   "outputs": [],
   "source": [
    "def density_loglog_dist_plot(series, fit_line=False):\n",
    "    fig = plt.figure()\n",
    "    array = plt.hist(series, bins=1000, log=True, density=True, bottom=0, histtype='step')\n",
    "    plt.close(fig)\n",
    "\n",
    "    plt.loglog(array[1][1:], array[0], alpha=0.5, label='Distance from home probability density')\n",
    "    \n",
    "    if fit_line:\n",
    "        start = 4\n",
    "\n",
    "        distribution = array[0][start:]\n",
    "        distances = array[1][start+1:]\n",
    "\n",
    "        [a, b], _ = curve_fit(power_func, distances, distribution)\n",
    "\n",
    "        x = range(round(distances[0]), round(distances[-1]))\n",
    "        y = power_func(x, a, b)\n",
    "\n",
    "        plt.loglog(x, y, color='r', label=r'$%.4f*x^{%.4f}$' % (a,b))\n",
    "    \n",
    "    plt.ylim(1e-6, 1e-2)\n",
    "    plt.xlim(10, 5*1e4)\n",
    "    \n",
    "    plt.ylabel(\"Probability density\", fontsize=12)\n",
    "    plt.xlabel(\"Distance from true home (km)\", fontsize=12)\n",
    "\n",
    "    plt.title(\"Probability distribution\\nof the distance between the detected\\nhome and the actual home\\n\",\n",
    "              fontsize=18)\n",
    "\n",
    "    plt.legend()"
   ]
  },
  {
   "cell_type": "code",
   "execution_count": 24,
   "metadata": {
    "scrolled": false
   },
   "outputs": [
    {
     "data": {
      "image/png": "[encoded data removed]",
      "text/plain": [
       "<Figure size 432x288 with 1 Axes>"
      ]
     },
     "metadata": {
      "needs_background": "light"
     },
     "output_type": "display_data"
    }
   ],
   "source": [
    "density_loglog_dist_plot(df_distance_detection_from_truth.dist, fit_line=True)"
   ]
  },
  {
   "cell_type": "markdown",
   "metadata": {},
   "source": [
    "We see that the distribution of distances follows a power law that can be approximated by $0.3393x ^{-1.2277}$. This means that there are users whose predicted home location is far by orders of magnitude from the original actual home location."
   ]
  },
  {
   "cell_type": "markdown",
   "metadata": {},
   "source": [
    "Let us explore the distribution of distances a bit further by seeing its mean, standard deviation, and its 10-percentiles."
   ]
  },
  {
   "cell_type": "code",
   "execution_count": 25,
   "metadata": {},
   "outputs": [
    {
     "data": {
      "text/html": [
       "<div>\n",
       "<style scoped>\n",
       "    .dataframe tbody tr th:only-of-type {\n",
       "        vertical-align: middle;\n",
       "    }\n",
       "\n",
       "    .dataframe tbody tr th {\n",
       "        vertical-align: top;\n",
       "    }\n",
       "\n",
       "    .dataframe thead th {\n",
       "        text-align: right;\n",
       "    }\n",
       "</style>\n",
       "<table border=\"1\" class=\"dataframe\">\n",
       "  <thead>\n",
       "    <tr style=\"text-align: right;\">\n",
       "      <th></th>\n",
       "      <th>dist</th>\n",
       "    </tr>\n",
       "  </thead>\n",
       "  <tbody>\n",
       "    <tr>\n",
       "      <th>count</th>\n",
       "      <td>4633.000000</td>\n",
       "    </tr>\n",
       "    <tr>\n",
       "      <th>mean</th>\n",
       "      <td>2856.772286</td>\n",
       "    </tr>\n",
       "    <tr>\n",
       "      <th>std</th>\n",
       "      <td>4715.070206</td>\n",
       "    </tr>\n",
       "    <tr>\n",
       "      <th>min</th>\n",
       "      <td>0.000000</td>\n",
       "    </tr>\n",
       "    <tr>\n",
       "      <th>10%</th>\n",
       "      <td>34.000000</td>\n",
       "    </tr>\n",
       "    <tr>\n",
       "      <th>20%</th>\n",
       "      <td>68.000000</td>\n",
       "    </tr>\n",
       "    <tr>\n",
       "      <th>30%</th>\n",
       "      <td>124.600000</td>\n",
       "    </tr>\n",
       "    <tr>\n",
       "      <th>40%</th>\n",
       "      <td>227.000000</td>\n",
       "    </tr>\n",
       "    <tr>\n",
       "      <th>50%</th>\n",
       "      <td>430.000000</td>\n",
       "    </tr>\n",
       "    <tr>\n",
       "      <th>60%</th>\n",
       "      <td>817.000000</td>\n",
       "    </tr>\n",
       "    <tr>\n",
       "      <th>70%</th>\n",
       "      <td>1733.000000</td>\n",
       "    </tr>\n",
       "    <tr>\n",
       "      <th>80%</th>\n",
       "      <td>5427.000000</td>\n",
       "    </tr>\n",
       "    <tr>\n",
       "      <th>90%</th>\n",
       "      <td>11154.400000</td>\n",
       "    </tr>\n",
       "    <tr>\n",
       "      <th>max</th>\n",
       "      <td>19895.000000</td>\n",
       "    </tr>\n",
       "  </tbody>\n",
       "</table>\n",
       "</div>"
      ],
      "text/plain": [
       "               dist\n",
       "count   4633.000000\n",
       "mean    2856.772286\n",
       "std     4715.070206\n",
       "min        0.000000\n",
       "10%       34.000000\n",
       "20%       68.000000\n",
       "30%      124.600000\n",
       "40%      227.000000\n",
       "50%      430.000000\n",
       "60%      817.000000\n",
       "70%     1733.000000\n",
       "80%     5427.000000\n",
       "90%    11154.400000\n",
       "max    19895.000000"
      ]
     },
     "execution_count": 25,
     "metadata": {},
     "output_type": "execute_result"
    }
   ],
   "source": [
    "df_distance_detection_from_truth.dist.describe(np.array(range(1,10))/10).to_frame()"
   ]
  },
  {
   "cell_type": "markdown",
   "metadata": {},
   "source": [
    "We see that only less than 10% of distances are less than 34km and we need a tolerance of more than 5427km to have an accuracy higher than 80%."
   ]
  },
  {
   "cell_type": "markdown",
   "metadata": {},
   "source": [
    "Let us go a bit further by plotting the culuative distribution of distances."
   ]
  },
  {
   "cell_type": "code",
   "execution_count": 26,
   "metadata": {},
   "outputs": [],
   "source": [
    "def cumulative_dist_plot(series):\n",
    "    fig = plt.figure()\n",
    "    array = plt.hist(series, bins=1000, density=True, cumulative=True, bottom=0, histtype='step')\n",
    "    plt.close(fig)\n",
    "    \n",
    "    x = array[1][1:]\n",
    "    y = array[0]\n",
    "    \n",
    "    plt.plot(x, y, alpha=0.8, label='Distance from home CDF')\n",
    "    \n",
    "    percentage = 0.85\n",
    "    \n",
    "    percentile = np.percentile(series, 85)\n",
    "    \n",
    "    plt.plot([10, percentile], [percentage, percentage], color='g', linestyle='dotted')\n",
    "    plt.plot([percentile, percentile], [0, percentage], color='g', linestyle='dotted')\n",
    "    \n",
    "    plt.xscale('log')\n",
    "    plt.xlim(10, 5*1e4)\n",
    "    plt.ylim(0, 1.1)\n",
    "    \n",
    "    plt.yticks(sorted(list(plt.yticks()[0]) + [percentage])[:-1])\n",
    "    \n",
    "    plt.annotate(f'{percentile:.0f} km', (percentile, 0), xytext=(percentile+1000, 0.12),\n",
    "                 arrowprops={'width':1, 'headlength':10, 'headwidth':5})\n",
    "    \n",
    "    plt.ylabel(\"Cumulative density\", fontsize=12)\n",
    "    plt.xlabel(\"Distance from true home (km)\", fontsize=12)\n",
    "\n",
    "    plt.title(\"Cumulative distribution\\nof the distance between the detected\\nhome and the actual home\\n\",\n",
    "              fontsize=18)\n",
    "\n",
    "    plt.legend()"
   ]
  },
  {
   "cell_type": "code",
   "execution_count": 27,
   "metadata": {},
   "outputs": [
    {
     "data": {
      "image/png": "[encoded data removed]",
      "text/plain": [
       "<Figure size 432x288 with 1 Axes>"
      ]
     },
     "metadata": {
      "needs_background": "light"
     },
     "output_type": "display_data"
    }
   ],
   "source": [
    "cumulative_dist_plot(df_distance_detection_from_truth.dist)"
   ]
  },
  {
   "cell_type": "markdown",
   "metadata": {},
   "source": [
    "We see that to attain an accuracy of 85%, we need to consider detected home locations to be true up to a distance of\n",
    "8'305 km from the true home location. This distance is more than two times the length of the Mediterranean Sea."
   ]
  },
  {
   "cell_type": "markdown",
   "metadata": {},
   "source": [
    "Therefore, we conclude that the method proposed by the paper does not generalize well to our proposed dataset. Therefore, we explore machine learning techniques to find home locations of users based on their check-ins."
   ]
  },
  {
   "cell_type": "markdown",
   "metadata": {},
   "source": [
    "## Proposed Model Testing"
   ]
  },
  {
   "cell_type": "markdown",
   "metadata": {},
   "source": [
    "The Machine Learning based method we propose is deeply described in separate notebooks (see to the README file). Here, we only test for its performance and compare it to the method proposed by the paper."
   ]
  },
  {
   "cell_type": "markdown",
   "metadata": {},
   "source": [
    "Let us start by importing the model and load pre-prepared data for prediction."
   ]
  },
  {
   "cell_type": "code",
   "execution_count": 46,
   "metadata": {
    "pycharm": {
     "name": "#%%\n"
    }
   },
   "outputs": [],
   "source": [
    "scaler = joblib.load('models/scaler.pkl')\n",
    "clf_svc = joblib.load('models/SVC_USA.pkl')"
   ]
  },
  {
   "cell_type": "code",
   "execution_count": 47,
   "metadata": {
    "pycharm": {
     "name": "#%%\n"
    }
   },
   "outputs": [],
   "source": [
    "df_features = pd.read_csv('data/training_dataset.csv', index_col = 0)"
   ]
  },
  {
   "cell_type": "markdown",
   "metadata": {},
   "source": [
    "Here we extract the needed features for the ML prediction."
   ]
  },
  {
   "cell_type": "code",
   "execution_count": 48,
   "metadata": {
    "pycharm": {
     "name": "#%%\n"
    }
   },
   "outputs": [],
   "source": [
    "def get_X(df, scaler):\n",
    "    X = df[['CR','MR','EDR','EIDR','PR','RPR']].values\n",
    "\n",
    "    X = scaler.transform(X)\n",
    "\n",
    "    return X"
   ]
  },
  {
   "cell_type": "code",
   "execution_count": 49,
   "metadata": {
    "pycharm": {
     "name": "#%%\n"
    }
   },
   "outputs": [],
   "source": [
    "features = get_X(df_features, scaler)"
   ]
  },
  {
   "cell_type": "markdown",
   "metadata": {},
   "source": [
    "Now, we use the model to predict whether a location is a home location."
   ]
  },
  {
   "cell_type": "code",
   "execution_count": 50,
   "metadata": {
    "pycharm": {
     "name": "#%%\n"
    }
   },
   "outputs": [],
   "source": [
    "prediction = clf_svc.predict(features) > 0.5"
   ]
  },
  {
   "cell_type": "code",
   "execution_count": 51,
   "metadata": {
    "pycharm": {
     "name": "#%%\n"
    }
   },
   "outputs": [],
   "source": [
    "df_features['prediction'] = prediction"
   ]
  },
  {
   "cell_type": "markdown",
   "metadata": {},
   "source": [
    "Now we keep the locations that were predicted as homes. We also discard the users that have two predicted homes."
   ]
  },
  {
   "cell_type": "code",
   "execution_count": 52,
   "metadata": {
    "pycharm": {
     "name": "#%%\n"
    }
   },
   "outputs": [],
   "source": [
    "df_features_filtered = df_features[df_features.prediction == True][['user', 'lat', 'lon']]"
   ]
  },
  {
   "cell_type": "code",
   "execution_count": 53,
   "metadata": {
    "pycharm": {
     "name": "#%%\n"
    }
   },
   "outputs": [],
   "source": [
    "df_features_filtered = df_features_filtered.drop_duplicates('user', keep=False)"
   ]
  },
  {
   "cell_type": "code",
   "execution_count": 54,
   "metadata": {
    "pycharm": {
     "name": "#%%\n"
    }
   },
   "outputs": [
    {
     "data": {
      "text/html": [
       "<div>\n",
       "<style scoped>\n",
       "    .dataframe tbody tr th:only-of-type {\n",
       "        vertical-align: middle;\n",
       "    }\n",
       "\n",
       "    .dataframe tbody tr th {\n",
       "        vertical-align: top;\n",
       "    }\n",
       "\n",
       "    .dataframe thead th {\n",
       "        text-align: right;\n",
       "    }\n",
       "</style>\n",
       "<table border=\"1\" class=\"dataframe\">\n",
       "  <thead>\n",
       "    <tr style=\"text-align: right;\">\n",
       "      <th></th>\n",
       "      <th>user</th>\n",
       "      <th>lat</th>\n",
       "      <th>lon</th>\n",
       "    </tr>\n",
       "  </thead>\n",
       "  <tbody>\n",
       "    <tr>\n",
       "      <th>0</th>\n",
       "      <td>19</td>\n",
       "      <td>38.652989</td>\n",
       "      <td>-73.973113</td>\n",
       "    </tr>\n",
       "    <tr>\n",
       "      <th>8</th>\n",
       "      <td>58</td>\n",
       "      <td>39.007991</td>\n",
       "      <td>-87.881967</td>\n",
       "    </tr>\n",
       "    <tr>\n",
       "      <th>10</th>\n",
       "      <td>190</td>\n",
       "      <td>-18.208942</td>\n",
       "      <td>-42.529624</td>\n",
       "    </tr>\n",
       "    <tr>\n",
       "      <th>12</th>\n",
       "      <td>256</td>\n",
       "      <td>34.119034</td>\n",
       "      <td>-117.571095</td>\n",
       "    </tr>\n",
       "    <tr>\n",
       "      <th>58</th>\n",
       "      <td>277</td>\n",
       "      <td>45.425242</td>\n",
       "      <td>-122.553632</td>\n",
       "    </tr>\n",
       "  </tbody>\n",
       "</table>\n",
       "</div>"
      ],
      "text/plain": [
       "    user        lat         lon\n",
       "0     19  38.652989  -73.973113\n",
       "8     58  39.007991  -87.881967\n",
       "10   190 -18.208942  -42.529624\n",
       "12   256  34.119034 -117.571095\n",
       "58   277  45.425242 -122.553632"
      ]
     },
     "execution_count": 54,
     "metadata": {},
     "output_type": "execute_result"
    }
   ],
   "source": [
    "df_features_filtered.head()"
   ]
  },
  {
   "cell_type": "markdown",
   "metadata": {},
   "source": [
    "Now, let us move to the testing. We first merge the prediction dataframe with the \"ground truth\" dataframe. Then we copute the distances between the true location and the predicted location."
   ]
  },
  {
   "cell_type": "code",
   "execution_count": 55,
   "metadata": {
    "pycharm": {
     "name": "#%%\n"
    }
   },
   "outputs": [],
   "source": [
    "df_distance_prediction_from_truth = pd.merge(df_homes, df_features_filtered, left_index=True, right_on='user')"
   ]
  },
  {
   "cell_type": "code",
   "execution_count": 56,
   "metadata": {
    "pycharm": {
     "name": "#%%\n"
    }
   },
   "outputs": [
    {
     "data": {
      "text/html": [
       "<div>\n",
       "<style scoped>\n",
       "    .dataframe tbody tr th:only-of-type {\n",
       "        vertical-align: middle;\n",
       "    }\n",
       "\n",
       "    .dataframe tbody tr th {\n",
       "        vertical-align: top;\n",
       "    }\n",
       "\n",
       "    .dataframe thead th {\n",
       "        text-align: right;\n",
       "    }\n",
       "</style>\n",
       "<table border=\"1\" class=\"dataframe\">\n",
       "  <thead>\n",
       "    <tr style=\"text-align: right;\">\n",
       "      <th></th>\n",
       "      <th>lat_x</th>\n",
       "      <th>lon_x</th>\n",
       "      <th>user</th>\n",
       "      <th>lat_y</th>\n",
       "      <th>lon_y</th>\n",
       "    </tr>\n",
       "  </thead>\n",
       "  <tbody>\n",
       "    <tr>\n",
       "      <th>0</th>\n",
       "      <td>40.980988</td>\n",
       "      <td>-72.123841</td>\n",
       "      <td>19</td>\n",
       "      <td>38.652989</td>\n",
       "      <td>-73.973113</td>\n",
       "    </tr>\n",
       "    <tr>\n",
       "      <th>8</th>\n",
       "      <td>29.933542</td>\n",
       "      <td>-90.098043</td>\n",
       "      <td>58</td>\n",
       "      <td>39.007991</td>\n",
       "      <td>-87.881967</td>\n",
       "    </tr>\n",
       "    <tr>\n",
       "      <th>12</th>\n",
       "      <td>36.958127</td>\n",
       "      <td>-121.987122</td>\n",
       "      <td>256</td>\n",
       "      <td>34.119034</td>\n",
       "      <td>-117.571095</td>\n",
       "    </tr>\n",
       "    <tr>\n",
       "      <th>58</th>\n",
       "      <td>45.425242</td>\n",
       "      <td>-122.553632</td>\n",
       "      <td>277</td>\n",
       "      <td>45.425242</td>\n",
       "      <td>-122.553632</td>\n",
       "    </tr>\n",
       "    <tr>\n",
       "      <th>91</th>\n",
       "      <td>37.706045</td>\n",
       "      <td>-122.463708</td>\n",
       "      <td>283</td>\n",
       "      <td>38.379869</td>\n",
       "      <td>-115.579788</td>\n",
       "    </tr>\n",
       "  </tbody>\n",
       "</table>\n",
       "</div>"
      ],
      "text/plain": [
       "        lat_x       lon_x  user      lat_y       lon_y\n",
       "0   40.980988  -72.123841    19  38.652989  -73.973113\n",
       "8   29.933542  -90.098043    58  39.007991  -87.881967\n",
       "12  36.958127 -121.987122   256  34.119034 -117.571095\n",
       "58  45.425242 -122.553632   277  45.425242 -122.553632\n",
       "91  37.706045 -122.463708   283  38.379869 -115.579788"
      ]
     },
     "execution_count": 56,
     "metadata": {},
     "output_type": "execute_result"
    }
   ],
   "source": [
    "df_distance_prediction_from_truth.head()"
   ]
  },
  {
   "cell_type": "code",
   "execution_count": 57,
   "metadata": {
    "pycharm": {
     "name": "#%%\n"
    }
   },
   "outputs": [],
   "source": [
    "df_distance_prediction_from_truth['dist'] = haversine(df_distance_prediction_from_truth.lat_x,\n",
    "                                                      df_distance_prediction_from_truth.lat_y,\n",
    "                                                      df_distance_prediction_from_truth.lon_x,\n",
    "                                                      df_distance_prediction_from_truth.lon_y)"
   ]
  },
  {
   "cell_type": "code",
   "execution_count": 58,
   "metadata": {
    "pycharm": {
     "name": "#%%\n"
    }
   },
   "outputs": [
    {
     "data": {
      "text/html": [
       "<div>\n",
       "<style scoped>\n",
       "    .dataframe tbody tr th:only-of-type {\n",
       "        vertical-align: middle;\n",
       "    }\n",
       "\n",
       "    .dataframe tbody tr th {\n",
       "        vertical-align: top;\n",
       "    }\n",
       "\n",
       "    .dataframe thead th {\n",
       "        text-align: right;\n",
       "    }\n",
       "</style>\n",
       "<table border=\"1\" class=\"dataframe\">\n",
       "  <thead>\n",
       "    <tr style=\"text-align: right;\">\n",
       "      <th></th>\n",
       "      <th>lat_x</th>\n",
       "      <th>lon_x</th>\n",
       "      <th>user</th>\n",
       "      <th>lat_y</th>\n",
       "      <th>lon_y</th>\n",
       "      <th>dist</th>\n",
       "    </tr>\n",
       "  </thead>\n",
       "  <tbody>\n",
       "    <tr>\n",
       "      <th>0</th>\n",
       "      <td>40.980988</td>\n",
       "      <td>-72.123841</td>\n",
       "      <td>19</td>\n",
       "      <td>38.652989</td>\n",
       "      <td>-73.973113</td>\n",
       "      <td>9731.0</td>\n",
       "    </tr>\n",
       "    <tr>\n",
       "      <th>8</th>\n",
       "      <td>29.933542</td>\n",
       "      <td>-90.098043</td>\n",
       "      <td>58</td>\n",
       "      <td>39.007991</td>\n",
       "      <td>-87.881967</td>\n",
       "      <td>18613.0</td>\n",
       "    </tr>\n",
       "    <tr>\n",
       "      <th>12</th>\n",
       "      <td>36.958127</td>\n",
       "      <td>-121.987122</td>\n",
       "      <td>256</td>\n",
       "      <td>34.119034</td>\n",
       "      <td>-117.571095</td>\n",
       "      <td>10591.0</td>\n",
       "    </tr>\n",
       "    <tr>\n",
       "      <th>58</th>\n",
       "      <td>45.425242</td>\n",
       "      <td>-122.553632</td>\n",
       "      <td>277</td>\n",
       "      <td>45.425242</td>\n",
       "      <td>-122.553632</td>\n",
       "      <td>0.0</td>\n",
       "    </tr>\n",
       "    <tr>\n",
       "      <th>91</th>\n",
       "      <td>37.706045</td>\n",
       "      <td>-122.463708</td>\n",
       "      <td>283</td>\n",
       "      <td>38.379869</td>\n",
       "      <td>-115.579788</td>\n",
       "      <td>5538.0</td>\n",
       "    </tr>\n",
       "  </tbody>\n",
       "</table>\n",
       "</div>"
      ],
      "text/plain": [
       "        lat_x       lon_x  user      lat_y       lon_y     dist\n",
       "0   40.980988  -72.123841    19  38.652989  -73.973113   9731.0\n",
       "8   29.933542  -90.098043    58  39.007991  -87.881967  18613.0\n",
       "12  36.958127 -121.987122   256  34.119034 -117.571095  10591.0\n",
       "58  45.425242 -122.553632   277  45.425242 -122.553632      0.0\n",
       "91  37.706045 -122.463708   283  38.379869 -115.579788   5538.0"
      ]
     },
     "execution_count": 58,
     "metadata": {},
     "output_type": "execute_result"
    }
   ],
   "source": [
    "df_distance_prediction_from_truth.head()\n"
   ]
  },
  {
   "cell_type": "markdown",
   "metadata": {},
   "source": [
    "Here, we plot the log-log distribution of the distances."
   ]
  },
  {
   "cell_type": "code",
   "execution_count": 59,
   "metadata": {
    "pycharm": {
     "name": "#%%\n"
    }
   },
   "outputs": [
    {
     "data": {
      "image/png": "[encoded data removed]",
      "text/plain": [
       "<Figure size 432x288 with 1 Axes>"
      ]
     },
     "metadata": {
      "needs_background": "light"
     },
     "output_type": "display_data"
    }
   ],
   "source": [
    "density_loglog_dist_plot(df_distance_prediction_from_truth.dist)"
   ]
  },
  {
   "cell_type": "markdown",
   "metadata": {},
   "source": [
    "We see that our model does not perform as expected. Indeed, we see that our model underperforms the method proposed in the paper."
   ]
  },
  {
   "cell_type": "code",
   "execution_count": 60,
   "metadata": {
    "pycharm": {
     "name": "#%%\n"
    }
   },
   "outputs": [
    {
     "data": {
      "image/png": "[encoded data removed]",
      "text/plain": [
       "<Figure size 432x288 with 1 Axes>"
      ]
     },
     "metadata": {
      "needs_background": "light"
     },
     "output_type": "display_data"
    }
   ],
   "source": [
    "cumulative_dist_plot(df_distance_prediction_from_truth.dist)"
   ]
  },
  {
   "cell_type": "markdown",
   "metadata": {
    "pycharm": {
     "name": "#%% md\n"
    }
   },
   "source": [
    "In fact, we see that to attain an accuracy of 85%, we need to consider detected home locations to be true up to a distance of\n",
    "12'977 km from the true home location, which is larger than the 8'305 km we found when testing the method proposed in the paper."
   ]
  },
  {
   "cell_type": "markdown",
   "metadata": {},
   "source": [
    "## Impact on Distances Between Friends"
   ]
  },
  {
   "cell_type": "markdown",
   "metadata": {},
   "source": [
    "Let us see how our predictions impact the distribution of distances between homes of friends."
   ]
  },
  {
   "cell_type": "markdown",
   "metadata": {},
   "source": [
    "### Load Data and Compute Distances"
   ]
  },
  {
   "cell_type": "markdown",
   "metadata": {},
   "source": [
    "The following steps are similar to those of the first replication."
   ]
  },
  {
   "cell_type": "code",
   "execution_count": 111,
   "metadata": {},
   "outputs": [],
   "source": [
    "def load_edges(filename):\n",
    "    names = ['user1', 'user2']\n",
    "\n",
    "    return pd.read_csv(\"data/\"+filename,\n",
    "                   compression='gzip',sep='\\n',delimiter='\\t',\n",
    "                   names=names,\n",
    "                   error_bad_lines=False,warn_bad_lines=False, skipinitialspace=True)"
   ]
  },
  {
   "cell_type": "code",
   "execution_count": 112,
   "metadata": {
    "pycharm": {
     "name": "#%%\n"
    }
   },
   "outputs": [],
   "source": [
    "df_gowalla_checkins = pd.read_csv('data/gowalla_checkin_features.csv', index_col=0)"
   ]
  },
  {
   "cell_type": "code",
   "execution_count": 113,
   "metadata": {
    "pycharm": {
     "name": "#%%\n"
    }
   },
   "outputs": [],
   "source": [
    "df_brightkite_checkins = pd.read_csv('data/brightkite_checkin_features.csv', index_col=0)"
   ]
  },
  {
   "cell_type": "code",
   "execution_count": 116,
   "metadata": {
    "pycharm": {
     "name": "#%%\n"
    }
   },
   "outputs": [],
   "source": [
    "df_gowalla_edges = load_edges('loc-gowalla_edges.txt.gz')"
   ]
  },
  {
   "cell_type": "code",
   "execution_count": 117,
   "metadata": {
    "pycharm": {
     "name": "#%%\n"
    }
   },
   "outputs": [],
   "source": [
    "df_brightkite_edges = load_edges('loc-brightkite_edges.txt.gz')"
   ]
  },
  {
   "cell_type": "markdown",
   "metadata": {},
   "source": [
    "This function copies the df, swaps the column labels and intersects. This makes sure to keep only\n",
    "bidirectional relationships."
   ]
  },
  {
   "cell_type": "code",
   "execution_count": 75,
   "metadata": {
    "pycharm": {
     "name": "#%%\n"
    }
   },
   "outputs": [],
   "source": [
    "def edges_to_undirected(df):\n",
    "    df_swapped = df.copy()\n",
    "    df_swapped.columns = reversed(df.columns)\n",
    "    return pd.merge(df, df_swapped, how='inner')"
   ]
  },
  {
   "cell_type": "code",
   "execution_count": 76,
   "metadata": {
    "pycharm": {
     "name": "#%%\n"
    }
   },
   "outputs": [],
   "source": [
    "df_brightkite_edges = edges_to_undirected(df_brightkite_edges)"
   ]
  },
  {
   "cell_type": "markdown",
   "metadata": {},
   "source": [
    "Here we get the features for our model."
   ]
  },
  {
   "cell_type": "code",
   "execution_count": 87,
   "metadata": {
    "pycharm": {
     "name": "#%%\n"
    }
   },
   "outputs": [],
   "source": [
    "gowalla_features = get_X(df_gowalla_checkins, scaler)\n",
    "brightkite_features = get_X(df_brightkite_checkins, scaler)"
   ]
  },
  {
   "cell_type": "code",
   "execution_count": 88,
   "metadata": {
    "pycharm": {
     "name": "#%%\n"
    }
   },
   "outputs": [],
   "source": [
    "df_gowalla_checkins['pred'] = clf_svc.predict(gowalla_features) > 0.5"
   ]
  },
  {
   "cell_type": "code",
   "execution_count": 89,
   "metadata": {
    "pycharm": {
     "name": "#%%\n"
    }
   },
   "outputs": [],
   "source": [
    "df_brightkite_checkins['pred'] = clf_svc.predict(brightkite_features) > 0.5"
   ]
  },
  {
   "cell_type": "markdown",
   "metadata": {},
   "source": [
    "Now we keep the locations that were predicted as homes. We also discard the users that have two predicted homes."
   ]
  },
  {
   "cell_type": "code",
   "execution_count": 90,
   "metadata": {
    "pycharm": {
     "name": "#%%\n"
    }
   },
   "outputs": [],
   "source": [
    "df_gowalla_homes = df_gowalla_checkins[df_gowalla_checkins.pred == True][['user', 'lat', 'lon']]\n",
    "df_gowalla_homes = df_gowalla_homes.drop_duplicates('user', keep=False)"
   ]
  },
  {
   "cell_type": "code",
   "execution_count": 91,
   "metadata": {
    "pycharm": {
     "name": "#%%\n"
    }
   },
   "outputs": [],
   "source": [
    "df_brightkite_homes = df_brightkite_checkins[df_brightkite_checkins.pred == True][['user', 'lat', 'lon']]\n",
    "df_brightkite_homes = df_brightkite_homes.drop_duplicates('user', keep=False)"
   ]
  },
  {
   "cell_type": "markdown",
   "metadata": {},
   "source": [
    "This function computes the distance between homes of friends."
   ]
  },
  {
   "cell_type": "code",
   "execution_count": 103,
   "metadata": {
    "pycharm": {
     "name": "#%%\n"
    }
   },
   "outputs": [],
   "source": [
    "def get_distances(edges_df, homes_df):\n",
    "    df = edges_df.copy()\n",
    "    df = df[df['user1'] < df['user2']]\n",
    "    with_loc = df.merge(homes_df, left_on='user1', right_on='user')\\\n",
    "                 .merge(homes_df, left_on='user2', right_on='user')\n",
    "\n",
    "    distances = haversine(with_loc.lat_x,\n",
    "                          with_loc.lat_y,\n",
    "                          with_loc.lon_x,\n",
    "                          with_loc.lon_y)\n",
    "    \n",
    "    return distances.astype(int)"
   ]
  },
  {
   "cell_type": "markdown",
   "metadata": {},
   "source": [
    "Now let us create two new dataframes for the distances between friends."
   ]
  },
  {
   "cell_type": "code",
   "execution_count": 118,
   "metadata": {
    "pycharm": {
     "name": "#%%\n"
    }
   },
   "outputs": [
    {
     "data": {
      "text/html": [
       "<div>\n",
       "<style scoped>\n",
       "    .dataframe tbody tr th:only-of-type {\n",
       "        vertical-align: middle;\n",
       "    }\n",
       "\n",
       "    .dataframe tbody tr th {\n",
       "        vertical-align: top;\n",
       "    }\n",
       "\n",
       "    .dataframe thead th {\n",
       "        text-align: right;\n",
       "    }\n",
       "</style>\n",
       "<table border=\"1\" class=\"dataframe\">\n",
       "  <thead>\n",
       "    <tr style=\"text-align: right;\">\n",
       "      <th></th>\n",
       "      <th>dist</th>\n",
       "    </tr>\n",
       "  </thead>\n",
       "  <tbody>\n",
       "    <tr>\n",
       "      <th>0</th>\n",
       "      <td>11649</td>\n",
       "    </tr>\n",
       "    <tr>\n",
       "      <th>1</th>\n",
       "      <td>677</td>\n",
       "    </tr>\n",
       "    <tr>\n",
       "      <th>2</th>\n",
       "      <td>13771</td>\n",
       "    </tr>\n",
       "    <tr>\n",
       "      <th>3</th>\n",
       "      <td>10761</td>\n",
       "    </tr>\n",
       "    <tr>\n",
       "      <th>4</th>\n",
       "      <td>11649</td>\n",
       "    </tr>\n",
       "  </tbody>\n",
       "</table>\n",
       "</div>"
      ],
      "text/plain": [
       "    dist\n",
       "0  11649\n",
       "1    677\n",
       "2  13771\n",
       "3  10761\n",
       "4  11649"
      ]
     },
     "execution_count": 118,
     "metadata": {},
     "output_type": "execute_result"
    }
   ],
   "source": [
    "df_brightkite_distances = get_distances(df_brightkite_edges, df_brightkite_homes)\n",
    "df_brightkite_distances.to_frame('dist').head()"
   ]
  },
  {
   "cell_type": "code",
   "execution_count": 119,
   "metadata": {
    "pycharm": {
     "name": "#%%\n"
    }
   },
   "outputs": [
    {
     "data": {
      "text/html": [
       "<div>\n",
       "<style scoped>\n",
       "    .dataframe tbody tr th:only-of-type {\n",
       "        vertical-align: middle;\n",
       "    }\n",
       "\n",
       "    .dataframe tbody tr th {\n",
       "        vertical-align: top;\n",
       "    }\n",
       "\n",
       "    .dataframe thead th {\n",
       "        text-align: right;\n",
       "    }\n",
       "</style>\n",
       "<table border=\"1\" class=\"dataframe\">\n",
       "  <thead>\n",
       "    <tr style=\"text-align: right;\">\n",
       "      <th></th>\n",
       "      <th>dist</th>\n",
       "    </tr>\n",
       "  </thead>\n",
       "  <tbody>\n",
       "    <tr>\n",
       "      <th>0</th>\n",
       "      <td>14718</td>\n",
       "    </tr>\n",
       "    <tr>\n",
       "      <th>1</th>\n",
       "      <td>10645</td>\n",
       "    </tr>\n",
       "    <tr>\n",
       "      <th>2</th>\n",
       "      <td>9764</td>\n",
       "    </tr>\n",
       "    <tr>\n",
       "      <th>3</th>\n",
       "      <td>9768</td>\n",
       "    </tr>\n",
       "    <tr>\n",
       "      <th>4</th>\n",
       "      <td>26</td>\n",
       "    </tr>\n",
       "  </tbody>\n",
       "</table>\n",
       "</div>"
      ],
      "text/plain": [
       "    dist\n",
       "0  14718\n",
       "1  10645\n",
       "2   9764\n",
       "3   9768\n",
       "4     26"
      ]
     },
     "execution_count": 119,
     "metadata": {},
     "output_type": "execute_result"
    }
   ],
   "source": [
    "df_gowalla_distances = get_distances(df_gowalla_edges, df_gowalla_homes)\n",
    "df_gowalla_distances.to_frame('dist').head()"
   ]
  },
  {
   "cell_type": "code",
   "execution_count": 120,
   "metadata": {
    "pycharm": {
     "name": "#%%\n"
    }
   },
   "outputs": [],
   "source": [
    "def get_pmf_2(vals):\n",
    "    \"\"\"\n",
    "    This function computes the pmf by differentiating the cdf. The deltaX of the differentiation is constant\n",
    "    in a logarithmic scale. The purpose of that is obtain a smooth pmf curve in logarithmic scale.\n",
    "    \n",
    "    Input: \n",
    "    -- vals: an np.array of positive integers\n",
    "    Output:\n",
    "    -- val: unique values of the array vals;\n",
    "    -- p: probability of occurance of each value in val\n",
    "    \n",
    "    \"\"\" \n",
    "    # Compute cdf\n",
    "    y = np.cumsum(np.bincount(vals)[1:])\n",
    "    y = y / y[-1]\n",
    "    x = list(range(1, max(vals) + 1))\n",
    "    \n",
    "    # Compute it's derivative (the step size of the gradient is increasing exponentially)\n",
    "    # Redistribute the x vector in logspace\n",
    "    val = np.logspace(0,np.log2(np.max(x)),base=2,num=50)\n",
    "    # Interpolate the cdf with respect to the previously defined vector \n",
    "    log_y = np.interp(val,x,y)\n",
    "    # Compute the gradient of log_y with respect to val\n",
    "    p = np.gradient(log_y,val)\n",
    "    # Correct p \n",
    "    p = p/np.sum(p)\n",
    "    \n",
    "    return val, p"
   ]
  },
  {
   "cell_type": "code",
   "execution_count": 121,
   "metadata": {
    "pycharm": {
     "name": "#%%\n"
    }
   },
   "outputs": [],
   "source": [
    "from matplotlib.legend_handler import HandlerLine2D\n",
    "\n",
    "def plotter(g_x, g_y, b_x, b_y):\n",
    "    plt.figure(figsize=(7,5), facecolor='white')\n",
    "\n",
    "    line_brightkite, = plt.loglog(b_x, b_y, label=\"Brightkite\", color='midnightblue',\n",
    "                                  marker='o', linestyle='-.', ms=12, mfc=(0,0,0,0), mew=1.5, mec='midnightblue',\n",
    "                                  lw=0.5)\n",
    "\n",
    "    line_gowalla, = plt.loglog(g_x, g_y, label=\"Gowalla\", color='red', marker=(8,2),\n",
    "                               linestyle='-.', ms=12, mew=1.5, mec='red', lw=0.5)\n",
    "\n",
    "    plt.ylim(1e-6, 1)\n",
    "    plt.xlim(0.9, 1e5)\n",
    "\n",
    "    plt.legend(handler_map={line_gowalla: HandlerLine2D(numpoints=1), line_brightkite: HandlerLine2D(numpoints=1)},\n",
    "               prop={'size': 12}, markerscale=1)\n",
    "\n",
    "    plt.xticks(fontsize=10)\n",
    "    plt.yticks(fontsize=10)\n",
    "\n",
    "    plt.ylabel(\"Probability\", fontsize=12)\n",
    "    plt.xlabel(\"Distance between homes (km)\", fontsize=12)\n",
    "\n",
    "    plt.title(\"\\nDistribution of distances between\\nhomes of friends\\n\", fontsize=18)\n",
    "\n",
    "    plt.show()"
   ]
  },
  {
   "cell_type": "code",
   "execution_count": 122,
   "metadata": {
    "pycharm": {
     "name": "#%%\n"
    }
   },
   "outputs": [],
   "source": [
    "gx, gy = get_pmf_2(df_gowalla_distances.values)\n",
    "bx, by = get_pmf_2(df_brightkite_distances.values)"
   ]
  },
  {
   "cell_type": "code",
   "execution_count": 123,
   "metadata": {
    "pycharm": {
     "name": "#%%\n"
    }
   },
   "outputs": [
    {
     "data": {
      "image/png": "[encoded data removed]",
      "text/plain": [
       "<Figure size 504x360 with 1 Axes>"
      ]
     },
     "metadata": {},
     "output_type": "display_data"
    }
   ],
   "source": [
    "plotter(gx, gy, bx, by)"
   ]
  },
  {
   "cell_type": "markdown",
   "metadata": {},
   "source": [
    "We see that the resut is quite different from the results stated in the paper. Indeed, the distribution is nearly constant for all distances. This may be a consequence of our model's bad behavior, relatively to the method proposed by the paper."
   ]
  }
 ],
 "metadata": {
  "kernelspec": {
   "display_name": "ada-venv",
   "language": "python",
   "name": "ada-venv"
  },
  "language_info": {
   "codemirror_mode": {
    "name": "ipython",
    "version": 3
   },
   "file_extension": ".py",
   "mimetype": "text/x-python",
   "name": "python",
   "nbconvert_exporter": "python",
   "pygments_lexer": "ipython3",
   "version": "3.8.6"
  }
 },
 "nbformat": 4,
 "nbformat_minor": 4
}
