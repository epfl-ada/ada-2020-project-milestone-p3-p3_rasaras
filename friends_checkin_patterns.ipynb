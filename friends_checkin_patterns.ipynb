{
 "cells": [
  {
   "cell_type": "markdown",
   "metadata": {
    "colab": {
     "base_uri": "https://localhost:8080/"
    },
    "id": "sxh_ptU0N365",
    "outputId": "f5647316-57e6-49ba-9cea-3c361990e391"
   },
   "source": [
    "# **Last part of the extension**\n",
    "- In this notebook, we will study friends meetings  patterns\n",
    "- We will do two tasks :  \n",
    "1) First, we will study the difference between check-ins with friends and checkins overall.  \n",
    "2) Then we will try to find some check-in patterns between fiends (depending on the places and the time)"
   ]
  },
  {
   "cell_type": "code",
   "execution_count": 1,
   "metadata": {
    "id": "6iGbakvmN-TQ"
   },
   "outputs": [],
   "source": [
    "#Import needed libraries\n",
    "\n",
    "import pandas as pd\n",
    "import numpy as np\n",
    "import seaborn as sns\n",
    "import matplotlib.pyplot as plt\n",
    "import os\n",
    "import datetime as dt\n",
    "\n",
    "from scipy.interpolate import interp1d\n",
    "from scipy.optimize import curve_fit"
   ]
  },
  {
   "cell_type": "code",
   "execution_count": 2,
   "metadata": {
    "id": "RkkKhDxYVt8a"
   },
   "outputs": [],
   "source": [
    "def calculate_distance (lat1, lon1, lat2, lon2):\n",
    "    \"\"\"\n",
    "    ############ Function we used in P2 and P4 (individual) to calculte distances ##########\n",
    "\n",
    "    R : radius of earth : 6378.137 km\n",
    "    lat1,lon1 : latitude and longitude of one user\n",
    "    lat2,lon2 : latitude and longitude of other user\n",
    "    \"\"\"\n",
    "    R = 6378.137\n",
    "    # convert into radians\n",
    "    lat1_rad = np.deg2rad(lat1)\n",
    "    lat2_rad = np.deg2rad(lat2)\n",
    "    lon1_rad = np.deg2rad(lon1)\n",
    "    lon2_rad = np.deg2rad(lon2)\n",
    "    \n",
    "    #get difference of lattitude and difference of longitude\n",
    "    delta_lat = lat2_rad-lat1_rad\n",
    "    delta_lon = lon2_rad-lon1_rad\n",
    "    \n",
    "    #return formula Haversine formula\n",
    "    a = ((np.sin(0.5 * delta_lat)) ** 2) + np.cos(lat1_rad) * np.cos(lat2_rad) *\\\n",
    "                                            ((np.sin(0.5 * delta_lon)) ** 2)\n",
    "    return 2 * R * np.arcsin(np.sqrt(a))"
   ]
  },
  {
   "cell_type": "code",
   "execution_count": 3,
   "metadata": {
    "id": "zd2nd8d8zmXF"
   },
   "outputs": [],
   "source": [
    "def drop_inf_na(df):\n",
    "    \"\"\"\n",
    "    drops +inf , -inf , nan values from dataset\n",
    "    \"\"\"\n",
    "    df.replace ([np.inf, -np.inf], np.nan)\n",
    "    return df.dropna()"
   ]
  },
  {
   "cell_type": "markdown",
   "metadata": {},
   "source": [
    "### **Import datasets paths** : \n",
    "- We will use them in the future function .\n",
    "- We will import the needed datasets in the future funcions in order to preserve memory"
   ]
  },
  {
   "cell_type": "code",
   "execution_count": 4,
   "metadata": {},
   "outputs": [],
   "source": [
    "#Venues path\n",
    "VENUES_PATH = os.path.join('data', 'raw_POIs.txt')\n",
    "\n",
    "#Check-ins path\n",
    "CHECKINS_PATH = os.path.join('data', 'dataset_WWW_Checkins_anonymized.txt')\n",
    "\n",
    "#Import friendship paths\n",
    "FRIENDSHIPS_PATH = os.path.join('data', 'dataset_WWW_friendship_new.txt')\n",
    "\n",
    "#If the dataset is already saved, we can choose to just upload it\n",
    "FOURSQUARE_PATH = os.path.join('data', 'foursquare_checkin_data.csv.zip')"
   ]
  },
  {
   "cell_type": "markdown",
   "metadata": {},
   "source": [
    "## **1. Friends checkins:**\n",
    "\n",
    "- We want to find checkin patterns between friends gaherings.\n",
    "- For that, we create a new dataframe, with whome we are are going to work for this whole part.\n",
    "- We assume two friends have met together if they have checked in the same place with at most one hour difference. Since our dataframe is labeled and each place has its own id, we don't need to do any approximation on the checkin distance between friends.\n"
   ]
  },
  {
   "cell_type": "code",
   "execution_count": 5,
   "metadata": {},
   "outputs": [],
   "source": [
    "def get_initial_df (VENUES_PATH, CHECKINS_PATH, save_initial_df=False):\n",
    "    \"\"\"\n",
    "    function used to create the foursquare complete checkin data \n",
    "    \n",
    "    - In order to preserve memory, we work with chunks.\n",
    "    - In the new proceeded dataset we will create, we want to have both the user Id \n",
    "    and the place where he checked in, as well as its locations.\n",
    "    - We will also take the day into a separate column (we will need it in the future).\n",
    "    - Finally, we will build a column that takes the format datetime \n",
    "    (we will also need this column in the future)\n",
    "    \n",
    "    The file returned will contain the columns :\n",
    "    ['User_ID','Venue_ID',local_time','day','lat','lon','country']\n",
    "    \n",
    "    \"\"\"\n",
    "    #Import venues dataset\n",
    "    venues = pd.read_csv(VENUES_PATH, sep='\\t', encoding='latin-1',\\\n",
    "                         names=['Venue_ID', 'lat', 'lon', 'place', 'country'], header=None)\n",
    "\n",
    "    chunksize = 5*10 ** 6\n",
    "    #df : dataframe to be returned\n",
    "    df = pd.DataFrame()\n",
    "\n",
    "    for chunk in pd.read_csv(CHECKINS_PATH, chunksize=chunksize, sep='\\t',\\\n",
    "           names=['User_ID','Venue_ID','UTC_time','hour'], header=None):\n",
    "        chunk = drop_inf_na(chunk)\n",
    "        chunk['day'] = chunk['UTC_time'].str.split(\" \",expand=True).dropna(how='any')[0]\n",
    "        chunk['local_time'] = (pd.to_datetime(chunk[\"UTC_time\"],errors='coerce') + chunk['hour'].\\\n",
    "                               apply(lambda x: dt.timedelta(minutes =x))).dropna(how='any') \n",
    "        \n",
    "        df = df.append(chunk.drop(axis=1, columns=['UTC_time', 'hour']).\\\n",
    "                       merge(venues), ignore_index=True)\n",
    "    if save_initial_df : df.to_csv('foursquare_checkin_data.csv.zip', compression='zip')\n",
    "    return df"
   ]
  },
  {
   "cell_type": "markdown",
   "metadata": {},
   "source": [
    "### 1.1.Process data:"
   ]
  },
  {
   "cell_type": "code",
   "execution_count": 6,
   "metadata": {
    "id": "jpLatClBVKhM"
   },
   "outputs": [],
   "source": [
    "def friends_gatherings(import_ready_file, FRIENDSHIPS_PATH, FOURSQUARE_PATH=None,\\\n",
    "                       VENUES_PATH=None, CHECKINS_PATH=None, save_initial_df=True):\n",
    "    \"\"\"\n",
    "    function to get dataframe where friends gathered\n",
    "    INPUTS : \n",
    "        - import_ready_file : boolean : Whether the user wants to import the already \n",
    "        preprocessed file or if he wants to generate it himself\n",
    "        - FRIENDSHIPS_PATH : friendships (edges) path\n",
    "        - FOURSQUARE_PATH : path of the preproceeded file (if the user just wants to load it)\n",
    "        This parameter is ignored if the user chooses to generate the file himself again\n",
    "        - VENUES_PATH : path for venues dataframe\n",
    "        This parameter is ignored if the user chooses to just import the preprocessed file\n",
    "        - CHECKINS_PATH : path for checkins dataframe\n",
    "        This parameter is ignored if the user chooses to just import the preprocessed file\n",
    "        - save_initial_df : if the user chooses to run the file again, he can choose to \n",
    "        download the proceeded dataframe\n",
    "        \n",
    "    OUTPUTS :\n",
    "        - dataframe that will be used for 1 futur plot, contains two columns : \n",
    "        distance from home and probability of checkin\n",
    "        This dataframe isn't limited to friends checkins and is used to see \n",
    "        if there is any difference between considering friends gatherings or not\n",
    "        \n",
    "        - Friends dataframe : contains the dataframe that will be used all this part for our studies.\n",
    "    This dataframe contains the columns :\n",
    "    ['User ID','Venue ID','day','local time','lat','lon','place','country']\n",
    "\n",
    "    ** In order to have a study that is the most accurate possible, \n",
    "    we only work on users that checked in their homes at least once.\n",
    "    That helps us make no approximation on the home location. \n",
    "    Moreover, our dataframe being large, \n",
    "    we don't have the problem of not having enough data to study.\n",
    "\n",
    "    ** In order to preserve memory, we will import the friendship dataframe in this function, \n",
    "    we won't need it after that.\n",
    "    \"\"\"\n",
    "    \n",
    "    #Import two datasets\n",
    "    if import_ready_file : \n",
    "        if FOURSQUARE_PATH is None :\n",
    "            raise ValueError (\"You need to specify the path from where you want to import \\\n",
    "            the data ('FOURSQUARE_PATH')\")\n",
    "        df = pd.read_csv(FOURSQUARE_PATH, parse_dates=['local_time'], compression='zip')\n",
    "        \n",
    "    else:\n",
    "        if VENUES_PATH is None or CHECKINS_PATH is None:\n",
    "            raise ValueError (\"You need to specify the path from where you want to import \\\n",
    "            the data ('VENUES_PATH','CHECKINS_PATH')\") \n",
    "        df = get_initial_df (VENUES_PATH, CHECKINS_PATH, save_initial_df=False)\n",
    "    \n",
    "    friendships = pd.read_csv(FRIENDSHIPS_PATH, sep='\\t', encoding='latin-1',\\\n",
    "                              names=['User_ID','User2_ID'], header=None)\n",
    "\n",
    "    #clean edges dataframe : erase columns where the person following \n",
    "    #and the person followed are the same\n",
    "    friendships = friendships[friendships['User_ID'] != friendships['User2_ID']]\n",
    "\n",
    "    #create a new dataframe : df1 : used to find the home location of each user \n",
    "    #To do that,  we keep only the line where the user checked in their homes\n",
    "    #Then, we get the means of checkin latitude and longitude for each user \n",
    "    #and each place checked in to find the home location\n",
    "    # ==> The home location is the mean of checkins that were in the home of a user\n",
    "    # We finally return only the three columns needed to perform the final merge to have the final \n",
    "\n",
    "    #We just initialize the two columns we need\n",
    "    df1 = df[['User_ID', 'lat', 'lon', 'place']].rename(columns={'lat':'home_lat','lon':'home_lon'})\n",
    "    df1 = df1.groupby(['User_ID', 'place'], as_index=False).\\\n",
    "        agg({'home_lat':'mean', 'home_lon':'mean'}, axis='columns')\n",
    "    df1 = df1[df1['place'].str.contains('Home (private)', regex=False)][['User_ID','home_lat','home_lon']]\n",
    "    #df1 now contains for each user his home longitude and home latitude\n",
    "\n",
    "    #We then perform a merge with the original dataset to integrate the home coordinates to the dataset\n",
    "    df1 = df1.merge(df[['User_ID','Venue_ID','day','local_time','lat','lon','place','country']])\n",
    "    df1['dist_home'] = calculate_distance(df1['lat'], df1['lon'], df1['home_lat'], df1['home_lon']).\\\n",
    "                        round()\n",
    "    \n",
    "    #Now we move to finding the final dataframe (the one we will use in the future)\n",
    "    merged_friends = pd.DataFrame()\n",
    "    chunksize = 5*10**6\n",
    "    numb_chunks = int(np.ceil(df1.shape[0]/chunksize))\n",
    "    #We work with chunks of size 10**6 each\n",
    "    for i in range(numb_chunks):\n",
    "        # Since we want the checkin place to be exactly the same for each user (have the same id),\n",
    "        #we perform the merge on both the user and his checkin place \n",
    "        #(this procedure helped us save much memory and time)\n",
    "        tmp_merge = df1[chunksize*i:chunksize*(i+1)].merge(friendships).\\\n",
    "                    merge(df1[['User_ID', 'Venue_ID', 'local_time']],\\\n",
    "                          left_on=['User2_ID', 'Venue_ID'], right_on=['User_ID','Venue_ID']).\\\n",
    "                    rename(columns={'dist_home_x':'dist_home'})\n",
    "\n",
    "        #filter the tmp_merge with friends that checked in at most with \n",
    "        #one hour difference in the same place\n",
    "        tmp_merge = tmp_merge[(np.abs((tmp_merge['local_time_x'] - tmp_merge['local_time_y']).\\\n",
    "                                      dt.total_seconds())<3600)]\n",
    "        tmp_merge = tmp_merge.rename(columns={'local_time_x':'local_time'})\n",
    "\n",
    "        #append the chunk to the final dataset\n",
    "        merged_friends = merged_friends.append(tmp_merge[['day','local_time','place', 'country',\\\n",
    "                                                          'dist_home']], ignore_index=True)\n",
    "        \n",
    "    return get_vects_plot(df1[['dist_home']]), merged_friends"
   ]
  },
  {
   "cell_type": "code",
   "execution_count": 7,
   "metadata": {
    "id": "dF6PwpLVKAy-"
   },
   "outputs": [],
   "source": [
    "def get_vects_plot(df):\n",
    "    \"\"\"\n",
    "    function to calculate the probability of checkin as a function of the distance\n",
    "    Returns a dataframe where there are two columns: the distance from home and its probiability\n",
    "\n",
    "    We begin by counting the number of checkin for each distance\n",
    "    The we divide by the total number of counts to get a  probability.\n",
    "    \"\"\"\n",
    "    #Create a new column, we will change it after\n",
    "    #This new column will contain the probability of probability of checking in knowing the distance from home\n",
    "    df1 = df.copy()\n",
    "    df1['proba_dist'] = df1['dist_home']\n",
    "    \n",
    "    #'proba dist' column now contains the number of checkins for each distance\n",
    "    df1 = df1.groupby('dist_home', as_index=False).count()[['dist_home','proba_dist']]\n",
    "\n",
    "    #We divide the 'proba dist' column by the total number of checkins\n",
    "    df1.loc[:,'proba_dist'] = df1['proba_dist'] / df1['proba_dist'].sum()\n",
    "    return df1[['dist_home', 'proba_dist']]"
   ]
  },
  {
   "cell_type": "code",
   "execution_count": 8,
   "metadata": {
    "colab": {
     "base_uri": "https://localhost:8080/"
    },
    "id": "tPraOQnoN-WA",
    "outputId": "51038ef7-130b-4cfd-9df1-f1b83c2557f7"
   },
   "outputs": [],
   "source": [
    "df_tot, df_friends = friends_gatherings(import_ready_file=True, FRIENDSHIPS_PATH=FRIENDSHIPS_PATH,\\\n",
    "                                     FOURSQUARE_PATH=FOURSQUARE_PATH)"
   ]
  },
  {
   "cell_type": "code",
   "execution_count": 9,
   "metadata": {
    "colab": {
     "base_uri": "https://localhost:8080/",
     "height": 110
    },
    "id": "a7FLzvIde9eq",
    "outputId": "cc426959-3b46-403a-cc08-561c261ea635"
   },
   "outputs": [
    {
     "data": {
      "text/html": [
       "<div>\n",
       "<style scoped>\n",
       "    .dataframe tbody tr th:only-of-type {\n",
       "        vertical-align: middle;\n",
       "    }\n",
       "\n",
       "    .dataframe tbody tr th {\n",
       "        vertical-align: top;\n",
       "    }\n",
       "\n",
       "    .dataframe thead th {\n",
       "        text-align: right;\n",
       "    }\n",
       "</style>\n",
       "<table border=\"1\" class=\"dataframe\">\n",
       "  <thead>\n",
       "    <tr style=\"text-align: right;\">\n",
       "      <th></th>\n",
       "      <th>day</th>\n",
       "      <th>local_time</th>\n",
       "      <th>place</th>\n",
       "      <th>country</th>\n",
       "      <th>dist_home</th>\n",
       "    </tr>\n",
       "  </thead>\n",
       "  <tbody>\n",
       "    <tr>\n",
       "      <th>0</th>\n",
       "      <td>Sat</td>\n",
       "      <td>2012-05-05 19:24:41+00:00</td>\n",
       "      <td>Bar</td>\n",
       "      <td>US</td>\n",
       "      <td>161.0</td>\n",
       "    </tr>\n",
       "    <tr>\n",
       "      <th>1</th>\n",
       "      <td>Fri</td>\n",
       "      <td>2012-05-04 16:45:44+00:00</td>\n",
       "      <td>Airport</td>\n",
       "      <td>US</td>\n",
       "      <td>18.0</td>\n",
       "    </tr>\n",
       "  </tbody>\n",
       "</table>\n",
       "</div>"
      ],
      "text/plain": [
       "   day                local_time    place country  dist_home\n",
       "0  Sat 2012-05-05 19:24:41+00:00      Bar      US      161.0\n",
       "1  Fri 2012-05-04 16:45:44+00:00  Airport      US       18.0"
      ]
     },
     "execution_count": 9,
     "metadata": {},
     "output_type": "execute_result"
    }
   ],
   "source": [
    "df_friends.head(2)"
   ]
  },
  {
   "cell_type": "code",
   "execution_count": 10,
   "metadata": {
    "id": "uF0AP_YGkvPH"
   },
   "outputs": [],
   "source": [
    "def power_func(x, a, b):\n",
    "    \"\"\"\n",
    "    function to compute a*(x^b)\n",
    "    This function will be used to fit a power law to the distribution of distance from home checkins\n",
    "    \"\"\"\n",
    "    return a * np.power(x,b)\n"
   ]
  },
  {
   "cell_type": "code",
   "execution_count": 11,
   "metadata": {
    "id": "EFvI8a6mlO92"
   },
   "outputs": [],
   "source": [
    "#df_plot_friends : dataframe used for the plot below\n",
    "df_plot_friends = get_vects_plot(df_friends)"
   ]
  },
  {
   "cell_type": "code",
   "execution_count": 12,
   "metadata": {
    "colab": {
     "base_uri": "https://localhost:8080/",
     "height": 110
    },
    "id": "IU55ZJY1q45i",
    "outputId": "bf37c7ee-c79e-4858-a8b9-515504a24320"
   },
   "outputs": [
    {
     "data": {
      "text/html": [
       "<div>\n",
       "<style scoped>\n",
       "    .dataframe tbody tr th:only-of-type {\n",
       "        vertical-align: middle;\n",
       "    }\n",
       "\n",
       "    .dataframe tbody tr th {\n",
       "        vertical-align: top;\n",
       "    }\n",
       "\n",
       "    .dataframe thead th {\n",
       "        text-align: right;\n",
       "    }\n",
       "</style>\n",
       "<table border=\"1\" class=\"dataframe\">\n",
       "  <thead>\n",
       "    <tr style=\"text-align: right;\">\n",
       "      <th></th>\n",
       "      <th>dist_home</th>\n",
       "      <th>proba_dist</th>\n",
       "    </tr>\n",
       "  </thead>\n",
       "  <tbody>\n",
       "    <tr>\n",
       "      <th>0</th>\n",
       "      <td>0.0</td>\n",
       "      <td>0.026705</td>\n",
       "    </tr>\n",
       "    <tr>\n",
       "      <th>1</th>\n",
       "      <td>1.0</td>\n",
       "      <td>0.081007</td>\n",
       "    </tr>\n",
       "  </tbody>\n",
       "</table>\n",
       "</div>"
      ],
      "text/plain": [
       "   dist_home  proba_dist\n",
       "0        0.0    0.026705\n",
       "1        1.0    0.081007"
      ]
     },
     "execution_count": 12,
     "metadata": {},
     "output_type": "execute_result"
    }
   ],
   "source": [
    "df_plot_friends.head(2)"
   ]
  },
  {
   "cell_type": "markdown",
   "metadata": {},
   "source": [
    "### 1.2.Visualization :\n",
    "- After getting the data, we now move to the visualization.\n",
    "- We will begin by creating a logspace vector that will span the distances (x_axis in plots)\n",
    "- Then we will find the respective probabilities (y_axis) by interpolation\n",
    "- Finally, we will fit the distribution of distances from home for check-ins with friends as a power law and compare it to the original paper (figure 1)"
   ]
  },
  {
   "cell_type": "code",
   "execution_count": 13,
   "metadata": {
    "colab": {
     "base_uri": "https://localhost:8080/",
     "height": 370
    },
    "id": "o7aVHm2OQ1Y8",
    "outputId": "5cf02085-2697-4922-a29c-5adf56bc1dda",
    "scrolled": true
   },
   "outputs": [
    {
     "data": {
      "text/plain": [
       "<matplotlib.legend.Legend at 0x26483920b50>"
      ]
     },
     "execution_count": 13,
     "metadata": {},
     "output_type": "execute_result"
    },
    {
     "data": {
      "image/png": "[encoded data removed]",
      "text/plain": [
       "<Figure size 720x360 with 1 Axes>"
      ]
     },
     "metadata": {
      "needs_background": "light"
     },
     "output_type": "display_data"
    }
   ],
   "source": [
    "#The change_point isthe point where the behavior of the curves changes\n",
    "#We find the chnge point empirically\n",
    "change_point = 16\n",
    "#We create a logspace x_axis, we will use this vector for our futur plots\n",
    "x_log = np.logspace(0,4.05,50)\n",
    "\n",
    "#For both dataframes, we do an interpolation to find the corresponding values in the new logspace axis\n",
    "#First, we begin by finding the interpolation functions for each vector,\n",
    "#Then, we apply them of the dataframes\n",
    "f_friends = interp1d(df_plot_friends['dist_home'], df_plot_friends['proba_dist'], kind='zero')\n",
    "f_tot = interp1d(df_tot['dist_home'], df_tot['proba_dist'], kind='zero')\n",
    "\n",
    "#y_friends,y_tot will be the vectors used for the plot.\n",
    "#We don't apply the  median because we want to see the true curve, not a smoothed one.\n",
    "y_friends = f_friends(x_log)\n",
    "y_tot = f_tot(x_log)\n",
    "\n",
    "#Since we want to approximate the parameters of our curves, we use scipy function 'fit_curve' \n",
    "#'params_friends1' are parameters for smaller distnces\n",
    "#'params_friends2' are parameters for bigger distances\n",
    "params_friends1,_ = curve_fit(power_func, x_log[:change_point], y_friends[:change_point])\n",
    "params_friends2,_ = curve_fit(power_func, x_log[change_point:], y_friends[change_point:])\n",
    "\n",
    "plt.figure(figsize=(10,5))\n",
    "#Create marker style for both vectors and do the plots\n",
    "#Plot all checkins\n",
    "marker_style_all = dict(color='r', linestyle=':', marker=(6, 2, 0), markersize=16)\n",
    "plt.loglog(x_log,y_tot, markevery=0.05, **marker_style_all, label='all checkins')\n",
    "\n",
    "#Plot checkins proceeded only with friends\n",
    "marker_style_friends = dict(color='blue', linestyle=':', marker='o', markersize=16, fillstyle='none')\n",
    "plt.loglog(x_log, y_friends, markevery=0.05, **marker_style_friends, label='only meeting friends')\n",
    "plt.xlabel('distance from home')\n",
    "plt.ylabel('probability')\n",
    "plt.title('distribution of the distance from home checkins')\n",
    "\n",
    "#Now we proceed the plot of the approximation curve for smaller and larger distances\n",
    "plt.loglog(x_log[change_point-1:], power_func(x_log[change_point-1:], params_friends2[0],\\\n",
    "                                              params_friends2[1]),\\\n",
    "                  color='g', linewidth=3, label='slopes (meeting friends)')\n",
    "\n",
    "plt.loglog(x_log[:change_point], power_func(x_log[:change_point], params_friends1[0],\\\n",
    "                                            params_friends1[1]),\\\n",
    "                  color='g',linewidth=3)\n",
    "\n",
    "plt.axvline(x_log[change_point-1], linestyle='--', linewidth=1, color='grey')\n",
    "#plt.xticks([change_point+1],[round(x_log[change_point-1],0)])\n",
    "plt.legend()"
   ]
  },
  {
   "cell_type": "code",
   "execution_count": 14,
   "metadata": {
    "colab": {
     "base_uri": "https://localhost:8080/"
    },
    "id": "65lixHQdiw6k",
    "outputId": "294b8864-e9ca-4451-b14d-49471d4f23cf"
   },
   "outputs": [
    {
     "name": "stdout",
     "output_type": "stream",
     "text": [
      "we have slopes of -0.44 for distances inferior to 30km\n",
      "and slopes of -1.3 for distances superior to 20km\n"
     ]
    }
   ],
   "source": [
    "print('we have slopes of {} for distances inferior to 30km\\nand slopes of {} \\\n",
    "for distances superior to 20km'.\\\n",
    "      format(round(params_friends1[1],2), round(params_friends2[1],2)))"
   ]
  },
  {
   "cell_type": "code",
   "execution_count": 15,
   "metadata": {
    "colab": {
     "base_uri": "https://localhost:8080/"
    },
    "id": "-v_UOGN35Nut",
    "outputId": "0507a77f-a195-4513-9983-71393bfe799f"
   },
   "outputs": [
    {
     "name": "stdout",
     "output_type": "stream",
     "text": [
      "For distances inferior to 20km:\n",
      "The distribution checkins knowing the distance from home can ba approximates as :\n",
      "P(x)=0.1*exp(-0.44*x)\n",
      "\n",
      "For distances superior to 20km:\n",
      "the distribution checkins knowing the distance from home can ba approximates as :\n",
      "P(x)=0.35*exp(-1.3*x)\n"
     ]
    }
   ],
   "source": [
    "print('For distances inferior to 20km:\\nThe distribution checkins knowing the distance',\n",
    "      'from home can ba approximates as :\\nP(x)={}*exp({}*x)'.\\\n",
    "      format(round(params_friends1[0], 2), round(params_friends1[1],2)))\n",
    "\n",
    "print('\\nFor distances superior to 20km:\\nthe distribution checkins knowing the distance',\n",
    "    'from home can ba approximates as :\\nP(x)={}*exp({}*x)'.\\\n",
    "      format(round(params_friends2[0],2),round(params_friends2[1],2)))"
   ]
  },
  {
   "cell_type": "markdown",
   "metadata": {
    "id": "sUTw8zp12GT6"
   },
   "source": [
    "- We can also approximate the probability of moving from home knowing the distance with two equations:\n",
    "\n",
    "$$ P(x)=\n",
    "\\begin{cases}\n",
    "    0.1e^{-0.44x} & \\text{if x<20 km}\\\\\n",
    "    0.35e^{-1.3x} & \\text{otherwise}\n",
    "\\end{cases}\n",
    "$$"
   ]
  },
  {
   "cell_type": "markdown",
   "metadata": {
    "id": "St79UGju3LcN"
   },
   "source": [
    "- We notice a change in the slope at a distance of approximately 20km distance from home. This behavior is similar to the one described in the paper. However, some differences are noticeble:  \n",
    "1) The shift happened in a distance of 20km from home (vs 100km using other daasets)  \n",
    "2) The slope are different than the ones described in the paper.  \n",
    "Firstly, the slopes generally are smaller in our study compared to the ones found in the paper.  \n",
    "Secondly, while the slope is smaller for small distances in the paper (-1.9 < -0.9), the behaviour is different in our study (-0.44 > -1.3)"
   ]
  },
  {
   "cell_type": "markdown",
   "metadata": {
    "id": "kRybDUSU1MUZ"
   },
   "source": [
    "- Finally, we notice in the plots that whether a user visited a friend or not does not make much differences in the overall behavior of checkins. We make the hypothesis that the behavior is the same and we test it. This hypothesis states that friends don't have any influence on a user's movement.\n",
    "- Before going into that, we test whether our data is normally distributed or not. We perform a Kolmogorov Smirnov test, a test made to check whether a distribution is normal or not. The  Null hypothesis is that the sample comes from a normal distribution. and we reject it depending on the pvalue we get. The p-value is the probability of obtaining results that aren't more extereme than the ones observed, if we assume the null hypothesis is true.\n"
   ]
  },
  {
   "cell_type": "code",
   "execution_count": 16,
   "metadata": {
    "id": "VAqv2gZeFtZX"
   },
   "outputs": [],
   "source": [
    "from statsmodels.stats import diagnostic \n",
    "_, p_value_friends = diagnostic.kstest_normal(df_plot_friends['proba_dist'], dist='norm')\n",
    "_, p_value_tot = diagnostic.kstest_normal(df_tot['proba_dist'], dist='norm')"
   ]
  },
  {
   "cell_type": "code",
   "execution_count": 17,
   "metadata": {
    "colab": {
     "base_uri": "https://localhost:8080/"
    },
    "id": "XIxXrg_ZT6MJ",
    "outputId": "15a62e2d-7167-4762-9996-0dec5ad0d3cb"
   },
   "outputs": [
    {
     "name": "stdout",
     "output_type": "stream",
     "text": [
      "Having the Null hypothesis that the data is derived from a normal distribution,we get:\n",
      " \t pvalue 0.001 for the total checkins \n",
      " \t pvalue 0.001 for the checkins with only friends\n"
     ]
    }
   ],
   "source": [
    "\n",
    "print('Having the Null hypothesis that the data is derived from a normal distribution,we get\\\n",
    ":\\n \\t pvalue {} for the total checkins \\n \\t pvalue {} for the checkins with only friends'.\\\n",
    "      format(round(p_value_tot,4),round(p_value_friends,4)))"
   ]
  },
  {
   "cell_type": "code",
   "execution_count": 18,
   "metadata": {
    "colab": {
     "base_uri": "https://localhost:8080/"
    },
    "id": "avw1cLCJglp8",
    "outputId": "1c5e1a5a-b499-44a8-f57e-1e41c34ab607"
   },
   "outputs": [
    {
     "name": "stdout",
     "output_type": "stream",
     "text": [
      "The dataframe containing only checkins with friends contains {} ligns\n",
      " The dataframe containing all checkins contains 3249 ligns\n"
     ]
    }
   ],
   "source": [
    "print('The dataframe containing only checkins with friends contains {} ligns\\n',\n",
    "    'The dataframe containing all checkins contains {} ligns'.\\\n",
    "      format(df_plot_friends.shape[0],df_tot.shape[0]))"
   ]
  },
  {
   "cell_type": "markdown",
   "metadata": {
    "id": "XUsL5FqeEBQV"
   },
   "source": [
    "$\\Rightarrow$ Using the result found before, we conclude our data is not derived from a normal distribution\n",
    "\n",
    "- Now we test whether the behaviour is the same or not for the two sets (considering all checkins vs considering only checkins with friends). This will help us know whether friends do have an influence on people's movement or not.\n",
    "- We use the assertions below:  \n",
    "1) We took two different samples from the same population.  \n",
    "2) The data we're treating (probabilities) is not derived from a normal disrtibution (verified).  \n",
    "3) Our samples are paired since they are derived from the same dataset  \n",
    "$\\Rightarrow$  We do a Wilcoxon test.  \n",
    "To test the null hypothesis that there is no difference in behavior, we can apply the two-sided test.\n",
    "\n",
    "- Our frames being of different shapes, we create a vector that will be used to make to comparision between the two frames and we use interpolations in order to have the the most precise values possible. \n"
   ]
  },
  {
   "cell_type": "code",
   "execution_count": 19,
   "metadata": {
    "id": "dUY99BSVpY5u"
   },
   "outputs": [],
   "source": [
    "x_log_exp=np.logspace(0,4.05,3000)\n",
    "\n",
    "#For both dataframes, we do an interpolation to find the corresponding values in the new logspace axis\n",
    "#First, we begin by finding the interpolation functions for each vector,\n",
    "#Then, we apply them of the dataframes\n",
    "f_friends_exp = interp1d(df_plot_friends['dist_home'], df_plot_friends['proba_dist'], kind='zero')\n",
    "f_tot_exp = interp1d(df_tot['dist_home'], df_tot['proba_dist'], kind='zero')\n",
    "\n",
    "#y_friends_exp,y_tot_exp will be the expanded (working with 3000 points) vectors used for the hypothesis testing\n",
    "y_friends_exp = f_friends_exp(x_log)\n",
    "y_tot_exp = f_tot_exp(x_log)"
   ]
  },
  {
   "cell_type": "code",
   "execution_count": 20,
   "metadata": {
    "id": "0j_a4u_cHoot"
   },
   "outputs": [],
   "source": [
    "from scipy.stats import wilcoxon"
   ]
  },
  {
   "cell_type": "code",
   "execution_count": 21,
   "metadata": {
    "colab": {
     "base_uri": "https://localhost:8080/"
    },
    "id": "-wPwo6-THpb7",
    "outputId": "22386dd2-8482-4277-ec21-843b3a220162"
   },
   "outputs": [
    {
     "name": "stdout",
     "output_type": "stream",
     "text": [
      "The pvalue found after performing a wilcoxon test is : 0.0\n"
     ]
    }
   ],
   "source": [
    "_, p_value = wilcoxon(np.abs(y_friends_exp - y_tot_exp))\n",
    "print('The pvalue found after performing a wilcoxon test is :', np.round(p_value, 4))"
   ]
  },
  {
   "cell_type": "markdown",
   "metadata": {
    "id": "oaeZxaYhKd2e"
   },
   "source": [
    "- Having found a p-value of 0.0, we strongly reject our Null hypothesis.  \n",
    "$\\Rightarrow$ We conclude that friends do have a significant importance on a user's mobility. "
   ]
  },
  {
   "cell_type": "markdown",
   "metadata": {
    "id": "51gL-khOqKQi"
   },
   "source": [
    "## **2. Checkin patterns**\n",
    "### 2.1. Preprocessing :\n",
    "- From now on, we only work with checkins with friends only : Every thing we will be studying are meetings between friends.\n",
    "- We now go through our dataset and gategorize our places features into different categories:  \n",
    "1) `Eat` : Going to eat with friends (restaurant , fast food ...)  \n",
    "2) `Study` : Studying (being in school, universty ...)  \n",
    "3) `Drink` : Having a drink with friends, going out ...  \n",
    "4) `Culture` : Going to watch a movie, visit monuments ...  \n",
    "5) `Home` : meet at someone's home  \n",
    "6) `Move` : take public transports or travel to far places  \n",
    "7) `Consume` : Visit stores, malls ...  \n",
    "8) `Work` : Being in work's place  \n",
    "9) `Entertain` : Go to a spa, hotel, beach,park ...  \n",
    "10) `Sport` : practise sports together  \n",
    "\n",
    "- We also categorize the days of the week into two types:  \n",
    "1) `Working days` : Monday until Friday  \n",
    "2) `Week end day` : Saturday and Sunday  \n",
    "\n",
    "\n",
    "\n",
    "\n"
   ]
  },
  {
   "cell_type": "code",
   "execution_count": 22,
   "metadata": {
    "id": "IUduOFMniVCF"
   },
   "outputs": [],
   "source": [
    "df_classified = df_friends.copy()\n",
    "\n",
    "#Change the name of variables to its type (will be used after)\n",
    "df_classified.loc[df_classified['place'].str.\\\n",
    "                  contains('restaurant|Burger|pizza|Diner|food|Steakhouse|\\\n",
    "                  BBQ|Dessert|Ramen|Ice Cream|Fried|Sandwich|breakfast|snack|\\\n",
    "                  taco|hot|soup|wings', case=False), 'place'] = 'Eat'\n",
    "\n",
    "df_classified.loc[df_classified['place'].str.\\\n",
    "                  contains('college|University|school|student', case=False), 'place'] = 'Study'\n",
    "\n",
    "df_classified.loc[df_classified['place'].str.\\\n",
    "                  contains('coffee|Bar|Nightclub|pub|Lounge|Beer|tea|Nightlife',\\\n",
    "                           case=False), 'place'] = 'Drink'\n",
    "\n",
    "df_classified.loc[df_classified['place'].str.\\\n",
    "                  contains('multiplex|Movie|Theater|concert|Music|historic|arts|\\\n",
    "                  Museum|library|Monument|temple|art',case=False), 'place'] = 'Culture'\n",
    "\n",
    "df_classified.loc[df_classified['place'].str.\\\n",
    "                  contains('Home|Residential|Building',case=False), 'place'] = 'Home'\n",
    "\n",
    "df_classified.loc[df_classified['place'].str.\\\n",
    "                  contains('station|airport|subway|travel|boat|bus', case=False),'place'] = 'Move'\n",
    "\n",
    "df_classified.loc[df_classified['place'].str.\\\n",
    "                  contains('store|mall|plaza|shop|boutique|market', case=False),'place'] = 'Consume'\n",
    "\n",
    "df_classified.loc[df_classified['place'].str.\\\n",
    "                  contains('work|office|Startup|professional', case=False), 'place'] = 'Work'\n",
    "\n",
    "df_classified.loc[df_classified['place'].str.\\\n",
    "                  contains('soccer stadium|Entertainment|Outdoor|beach|park|event|\\\n",
    "                  Arcade|resort|hotel|spa|Casino',case=False),'place'] = 'Entertainement'\n",
    "\n",
    "df_classified.loc[df_classified['place'].str.\\\n",
    "                  contains('soccer field|sport|gym|stadium|surf|pool|golf|\\baseball',\\\n",
    "                           case=False), 'place'] = 'Sport'\n",
    "\n",
    "#Change the name of a day to its type (work day or week end)\n",
    "df_classified.loc[df_classified['day'].str.contains('mon|tue|wed|thu|fri', case=False), 'day'] = 'Work day'\n",
    "df_classified.loc[df_classified['day'].str.contains('sat|sun', case=False), 'day'] = 'Week end'\n",
    "\n",
    "#Keep only the place types we mentioned before \n",
    "df_classified = df_classified.loc[df_classified['place'].str.\\\n",
    "    contains('sport|Entertainement|Work|Consume|Move|Home|Culture|Drink|Study|Eat', case=False),:]"
   ]
  },
  {
   "cell_type": "markdown",
   "metadata": {},
   "source": [
    "### 2.2. meeting patterns as a funtion of the day of the week :\n",
    "- We study where friends are the most likely to meet knowing the day of the week (work day or week end day)\n",
    "- We study the probability people meet in each category\n",
    "- We compare normalized probabilities"
   ]
  },
  {
   "cell_type": "code",
   "execution_count": 23,
   "metadata": {
    "id": "IUduOFMniVCF"
   },
   "outputs": [],
   "source": [
    "#Groupby the place where the friends met and the day of the week\n",
    "#probability : ratio number of checkins / total number of checkins\n",
    "df_places = df_classified.groupby(['place', 'day'], as_index=False).agg({'country':'size'}).\\\n",
    "                sort_values(by='country', ascending=False)[['place','day', 'country']].\\\n",
    "                rename(columns={'country':'numb_checkins', 'place':'place_type', 'day':'day_type'})"
   ]
  },
  {
   "cell_type": "code",
   "execution_count": 24,
   "metadata": {
    "colab": {
     "base_uri": "https://localhost:8080/",
     "height": 110
    },
    "id": "0PZnsdsHBSHh",
    "outputId": "236502ad-19b6-416e-a59b-775d418ace54"
   },
   "outputs": [
    {
     "data": {
      "text/html": [
       "<div>\n",
       "<style scoped>\n",
       "    .dataframe tbody tr th:only-of-type {\n",
       "        vertical-align: middle;\n",
       "    }\n",
       "\n",
       "    .dataframe tbody tr th {\n",
       "        vertical-align: top;\n",
       "    }\n",
       "\n",
       "    .dataframe thead th {\n",
       "        text-align: right;\n",
       "    }\n",
       "</style>\n",
       "<table border=\"1\" class=\"dataframe\">\n",
       "  <thead>\n",
       "    <tr style=\"text-align: right;\">\n",
       "      <th></th>\n",
       "      <th>day</th>\n",
       "      <th>local_time</th>\n",
       "      <th>place</th>\n",
       "      <th>country</th>\n",
       "      <th>dist_home</th>\n",
       "    </tr>\n",
       "  </thead>\n",
       "  <tbody>\n",
       "    <tr>\n",
       "      <th>0</th>\n",
       "      <td>Week end</td>\n",
       "      <td>2012-05-05 19:24:41+00:00</td>\n",
       "      <td>Drink</td>\n",
       "      <td>US</td>\n",
       "      <td>161.0</td>\n",
       "    </tr>\n",
       "    <tr>\n",
       "      <th>1</th>\n",
       "      <td>Work day</td>\n",
       "      <td>2012-05-04 16:45:44+00:00</td>\n",
       "      <td>Move</td>\n",
       "      <td>US</td>\n",
       "      <td>18.0</td>\n",
       "    </tr>\n",
       "  </tbody>\n",
       "</table>\n",
       "</div>"
      ],
      "text/plain": [
       "        day                local_time  place country  dist_home\n",
       "0  Week end 2012-05-05 19:24:41+00:00  Drink      US      161.0\n",
       "1  Work day 2012-05-04 16:45:44+00:00   Move      US       18.0"
      ]
     },
     "execution_count": 24,
     "metadata": {},
     "output_type": "execute_result"
    }
   ],
   "source": [
    "df_classified.head(2)"
   ]
  },
  {
   "cell_type": "code",
   "execution_count": 25,
   "metadata": {
    "colab": {
     "base_uri": "https://localhost:8080/",
     "height": 110
    },
    "id": "_NpmCGlCmZAG",
    "outputId": "faa399d4-ef76-4d59-a11d-7e45599af4b0"
   },
   "outputs": [
    {
     "data": {
      "text/html": [
       "<div>\n",
       "<style scoped>\n",
       "    .dataframe tbody tr th:only-of-type {\n",
       "        vertical-align: middle;\n",
       "    }\n",
       "\n",
       "    .dataframe tbody tr th {\n",
       "        vertical-align: top;\n",
       "    }\n",
       "\n",
       "    .dataframe thead th {\n",
       "        text-align: right;\n",
       "    }\n",
       "</style>\n",
       "<table border=\"1\" class=\"dataframe\">\n",
       "  <thead>\n",
       "    <tr style=\"text-align: right;\">\n",
       "      <th></th>\n",
       "      <th>place_type</th>\n",
       "      <th>day_type</th>\n",
       "      <th>numb_checkins</th>\n",
       "    </tr>\n",
       "  </thead>\n",
       "  <tbody>\n",
       "    <tr>\n",
       "      <th>17</th>\n",
       "      <td>Study</td>\n",
       "      <td>Work day</td>\n",
       "      <td>41063</td>\n",
       "    </tr>\n",
       "    <tr>\n",
       "      <th>7</th>\n",
       "      <td>Eat</td>\n",
       "      <td>Work day</td>\n",
       "      <td>16859</td>\n",
       "    </tr>\n",
       "  </tbody>\n",
       "</table>\n",
       "</div>"
      ],
      "text/plain": [
       "   place_type  day_type  numb_checkins\n",
       "17      Study  Work day          41063\n",
       "7         Eat  Work day          16859"
      ]
     },
     "execution_count": 25,
     "metadata": {},
     "output_type": "execute_result"
    }
   ],
   "source": [
    "df_places.head(2)"
   ]
  },
  {
   "cell_type": "markdown",
   "metadata": {
    "id": "_w8P6fVNDyss"
   },
   "source": [
    "- Now we move to visualizing the distributions :"
   ]
  },
  {
   "cell_type": "code",
   "execution_count": 26,
   "metadata": {
    "colab": {
     "base_uri": "https://localhost:8080/",
     "height": 530
    },
    "id": "l0Wy3Rpo1j1N",
    "outputId": "d8a6c8cf-1684-4756-831f-e16a4c6531b9"
   },
   "outputs": [
    {
     "data": {
      "text/plain": [
       "Text(0.5, 1.0, 'probabilty of friends meeting knwing the place and the day')"
      ]
     },
     "execution_count": 26,
     "metadata": {},
     "output_type": "execute_result"
    },
    {
     "data": {
      "image/png": "[encoded data removed]",
      "text/plain": [
       "<Figure size 864x576 with 1 Axes>"
      ]
     },
     "metadata": {
      "needs_background": "light"
     },
     "output_type": "display_data"
    }
   ],
   "source": [
    "plt.figure(figsize=(12,8))\n",
    "sns.barplot(x=df_places['numb_checkins'] / df_places['numb_checkins'].sum(),\\\n",
    "            y=df_places['place_type'], orient='h', hue=df_places['day_type'])\n",
    "plt.xlabel('probability')\n",
    "plt.ylabel('type of place')\n",
    "plt.title('probabilty of friends meeting knwing the place and the day')"
   ]
  },
  {
   "cell_type": "markdown",
   "metadata": {
    "id": "JIiboSxND485"
   },
   "source": [
    "- The visualization above shows us that people are the most likely to be studying. This observation can be explained by the fact that students are the most likely to use sociaal media, so the most number of checkins can be found among students.\n",
    "- However, we can't draw more conlusions because we have to take into account that there are 5 work days and 2 week end days in a week. $\\rightarrow$ In order to be able to compare and study people's checkins, we normalize by the number of days each probability.  \n",
    "- We will :  \n",
    "1) Divide each probability that any event occured in a working day by 5  \n",
    "2) Divide each probability that any event occured in a week end day by 2  \n",
    "3) Get the normalized difference (normalized probability that a user checks in in a working day - normalized probability that a user checks in in a week end day)  \n",
    "4) Divide the result by the probability of occurence in a work day to have a ratio.  \n",
    "The final equation we will have is (for each place):\n",
    "$$\n",
    "final ratio = \\frac{\\frac{P_{workday}}{5}-\\frac{P_{workend}}{2}}{\\frac{P_{weekday}}{5}}\n",
    "$$\n",
    "\n",
    "- In the end:  \n",
    "1)If this difference is positive : people are more likely to checkin in the place in a working day  \n",
    "2)If this difference is negative : people are more likely to checkin in the place in a week end day  \n",
    "3)The absolute value gives us the magnitude of the absolute ratio\n"
   ]
  },
  {
   "cell_type": "code",
   "execution_count": 27,
   "metadata": {
    "id": "H0VqQWBfK5oN"
   },
   "outputs": [],
   "source": [
    "def ratio (x):\n",
    "    \"\"\"\n",
    "    Function to get difference between items atn then normalize\n",
    "    Since x contains one negative (week end) and one positive (work day) value,\n",
    "    max(x) is the value  of probability for a working day\n",
    "    \"\"\"\n",
    "    return sum(x) / max(x)"
   ]
  },
  {
   "cell_type": "code",
   "execution_count": 28,
   "metadata": {
    "id": "2lsTMcmhmXOj"
   },
   "outputs": [],
   "source": [
    "#df4=df_classified.copy()\n",
    "#normalize to have proba/day and then take the difference between the items:\n",
    "\n",
    "#First, we divide by the number of days and set week end probabilities to be negative values \n",
    "#So that we perform a sum after\n",
    "df_places.loc[df_places['day_type'].str.contains('Week|end', case=False), 'numb_checkins'] =\\\n",
    "                            -df_places.loc[df_places['day_type'].str.\\\n",
    "                                           contains('Week|end', case=False),'numb_checkins']/2\n",
    "\n",
    "df_places.loc[df_places['day_type'].str.contains('Work|day', case=False), 'numb_checkins'] =\\\n",
    "                            df_places.loc[df_places['day_type'].str.\\\n",
    "                                          contains('Work|day', case=False), 'numb_checkins']/5\n",
    "#Now we groupby the place type and get the ratio we need                                              \n",
    "df_places =df_places.groupby('place_type', as_index=False).\\\n",
    "                            agg({'numb_checkins':ratio}, axis='columns').\\\n",
    "                            sort_values(by='numb_checkins', ascending=False)\n"
   ]
  },
  {
   "cell_type": "code",
   "execution_count": null,
   "metadata": {
    "id": "5yO_gnx_OLHf"
   },
   "outputs": [],
   "source": []
  },
  {
   "cell_type": "code",
   "execution_count": 29,
   "metadata": {
    "colab": {
     "base_uri": "https://localhost:8080/",
     "height": 402
    },
    "id": "TWQABuhpL1VT",
    "outputId": "4336ea71-9591-4a1d-e27c-4e1382dd4a65"
   },
   "outputs": [
    {
     "data": {
      "text/plain": [
       "Text(0.5, 1.0, 'meeting patterns between friends day week vs week end')"
      ]
     },
     "execution_count": 29,
     "metadata": {},
     "output_type": "execute_result"
    },
    {
     "data": {
      "image/png": "[encoded data removed]",
      "text/plain": [
       "<Figure size 1080x432 with 1 Axes>"
      ]
     },
     "metadata": {
      "needs_background": "light"
     },
     "output_type": "display_data"
    }
   ],
   "source": [
    "plt.figure(figsize=(15,6))\n",
    "sns.barplot(x = df_places['numb_checkins'],y = df_places['place_type'], orient='h',\\\n",
    "            palette='viridis_r')\n",
    "plt.xlabel('difference between normalized probabilities')\n",
    "plt.ylabel('type of place')\n",
    "plt.title('meeting patterns between friends day week vs week end')"
   ]
  },
  {
   "cell_type": "markdown",
   "metadata": {},
   "source": [
    "- People tend to meet their friends more in work or study places during the week. This can be explained by the fact that people usually have their coworkers and classmates as friends on social media. Studying or working is part of people's obligations and these are task are generally proceeded during the week\n",
    "- However, when it comes to free time (week end for most of people), people choose to meet their friends in diverting places (every other category that doesn't involve working or studying). Specifically, people are the most likely to go out in weekend to have drinks or to entertainement places.\n",
    "- Finally, people tend to spend their day working and studying, and then spend their evening and night in diverting places (eating, having drinks)"
   ]
  },
  {
   "cell_type": "markdown",
   "metadata": {
    "id": "VoyoFPTlTo15"
   },
   "source": [
    "### 2.3. meeting patterns as a funtion of the hour in the day :\n",
    "\n",
    "- In this final part, we will study the time friends meet.  \n",
    "- We will classify a day in two parts : day and night. \n",
    "- Since work usually finished at 5pm, we consider day hours of the day between 5h and 17h, and night as other hours of the day"
   ]
  },
  {
   "cell_type": "code",
   "execution_count": 30,
   "metadata": {
    "id": "Efdrea8EcHyk"
   },
   "outputs": [],
   "source": [
    "#In order to get our times, we substract 4 from total checkin hours\n",
    "#Then we get the hours that are superior to 14\n",
    "df_classified.loc[:,'night'] = (df_classified.loc[:,'local_time'].dt.hour-5) > 12\n",
    "df_classified.loc[:,'day'] = (df_classified.loc[:,'local_time'].dt.hour-5) <= 12"
   ]
  },
  {
   "cell_type": "code",
   "execution_count": 31,
   "metadata": {
    "colab": {
     "base_uri": "https://localhost:8080/",
     "height": 110
    },
    "id": "zllBRayaYNa1",
    "outputId": "7fdf7daa-2409-4c19-ec3a-0550ba55b610"
   },
   "outputs": [
    {
     "data": {
      "text/html": [
       "<div>\n",
       "<style scoped>\n",
       "    .dataframe tbody tr th:only-of-type {\n",
       "        vertical-align: middle;\n",
       "    }\n",
       "\n",
       "    .dataframe tbody tr th {\n",
       "        vertical-align: top;\n",
       "    }\n",
       "\n",
       "    .dataframe thead th {\n",
       "        text-align: right;\n",
       "    }\n",
       "</style>\n",
       "<table border=\"1\" class=\"dataframe\">\n",
       "  <thead>\n",
       "    <tr style=\"text-align: right;\">\n",
       "      <th></th>\n",
       "      <th>day</th>\n",
       "      <th>local_time</th>\n",
       "      <th>place</th>\n",
       "      <th>country</th>\n",
       "      <th>dist_home</th>\n",
       "      <th>night</th>\n",
       "    </tr>\n",
       "  </thead>\n",
       "  <tbody>\n",
       "    <tr>\n",
       "      <th>0</th>\n",
       "      <td>False</td>\n",
       "      <td>2012-05-05 19:24:41+00:00</td>\n",
       "      <td>Drink</td>\n",
       "      <td>US</td>\n",
       "      <td>161.0</td>\n",
       "      <td>True</td>\n",
       "    </tr>\n",
       "    <tr>\n",
       "      <th>1</th>\n",
       "      <td>True</td>\n",
       "      <td>2012-05-04 16:45:44+00:00</td>\n",
       "      <td>Move</td>\n",
       "      <td>US</td>\n",
       "      <td>18.0</td>\n",
       "      <td>False</td>\n",
       "    </tr>\n",
       "  </tbody>\n",
       "</table>\n",
       "</div>"
      ],
      "text/plain": [
       "     day                local_time  place country  dist_home  night\n",
       "0  False 2012-05-05 19:24:41+00:00  Drink      US      161.0   True\n",
       "1   True 2012-05-04 16:45:44+00:00   Move      US       18.0  False"
      ]
     },
     "execution_count": 31,
     "metadata": {},
     "output_type": "execute_result"
    }
   ],
   "source": [
    "df_classified.head(2)"
   ]
  },
  {
   "cell_type": "code",
   "execution_count": 32,
   "metadata": {
    "id": "R_hwEGdncJsj"
   },
   "outputs": [],
   "source": [
    "# We groupby the place type and then get the ratio of evening checkins\n",
    "# Then calculate the probability with the same way we did before\n",
    "\n",
    "df_classified=df_classified.groupby('place', as_index=False).\\\n",
    "                      agg({'night':'sum', 'country':'size', 'day':'sum'}).\\\n",
    "                      rename(columns={'country':'numb_checkins'})\n",
    "df_classified['ratio_night'] = df_classified['night'] / sum(df_classified['numb_checkins'])\n",
    "df_classified['ratio_day'] = df_classified['day'] / sum(df_classified['numb_checkins'])\n",
    "#We sort values to have a good looking visualization\n",
    "df_classified = df_classified.sort_values(by='ratio_day')"
   ]
  },
  {
   "cell_type": "code",
   "execution_count": 33,
   "metadata": {
    "colab": {
     "base_uri": "https://localhost:8080/",
     "height": 402
    },
    "id": "TNnngmDiLjqk",
    "outputId": "17a8900d-bbc9-4c77-9cc0-e179aaeecbc0"
   },
   "outputs": [
    {
     "data": {
      "text/plain": [
       "Text(0.5, 1.0, 'meeting patterns in different times of day')"
      ]
     },
     "execution_count": 33,
     "metadata": {},
     "output_type": "execute_result"
    },
    {
     "data": {
      "image/png": "[encoded data removed]",
      "text/plain": [
       "<Figure size 864x432 with 1 Axes>"
      ]
     },
     "metadata": {
      "needs_background": "light"
     },
     "output_type": "display_data"
    }
   ],
   "source": [
    "df_classified.plot(x='place', y=['ratio_night','ratio_day'], kind=\"barh\", figsize=(12,6), width=0.8)\n",
    "\n",
    "plt.xlabel('probiabilities')\n",
    "plt.ylabel('type of place')\n",
    "plt.title('meeting patterns in different times of day')"
   ]
  },
  {
   "cell_type": "markdown",
   "metadata": {
    "id": "jgf_CA95YuX5"
   },
   "source": [
    "- We first notice that :  \n",
    "1) The biggest probability of checking in with friends during day occurs during studying  \n",
    "2) The biggest probability of checking in with friends during night occurs during night.\n",
    "- We now do the same work we did previously with the places patterns in order to compare the ratio of checkins:  \n",
    "1) We get the difference between probabilities that a user checks in during the day or during night.\n",
    "2) We divide the result by the probability of a checkin during the day\n",
    "The final equation we will have is (for each place):\n",
    "$$\n",
    "final ratio = \\frac{P_{daycheckin}-P_{nightcheckin}}{P_{daycheckin}}\n",
    "$$"
   ]
  },
  {
   "cell_type": "code",
   "execution_count": 34,
   "metadata": {},
   "outputs": [
    {
     "data": {
      "text/plain": [
       "Text(0.5, 1.0, 'checkin patterns during the day vs at night')"
      ]
     },
     "execution_count": 34,
     "metadata": {},
     "output_type": "execute_result"
    },
    {
     "data": {
      "image/png": "[encoded data removed]",
      "text/plain": [
       "<Figure size 1080x432 with 1 Axes>"
      ]
     },
     "metadata": {
      "needs_background": "light"
     },
     "output_type": "display_data"
    }
   ],
   "source": [
    "#get the ratio ( values used in the plot below)\n",
    "df_classified['ratio_final'] = (df_classified['ratio_day'] - df_classified['ratio_night'])/\\\n",
    "                                df_classified['ratio_day']\n",
    "plt.figure(figsize=(15, 6))\n",
    "sns.barplot(x='ratio_final', y='place', data=df_classified.\\\n",
    "            sort_values(by='ratio_final', ascending=False), orient='h', palette='viridis_r')\n",
    "\n",
    "plt.xlabel('ratios')\n",
    "plt.ylabel('type of place')\n",
    "plt.title('checkin patterns during the day vs at night')"
   ]
  },
  {
   "cell_type": "markdown",
   "metadata": {},
   "source": [
    "- We see that friends are more likely to meet during the day to study or work. Moreover, they are more likely to meet at night to have drinks, even if the difference is small. \n",
    "- We can conlude that most checkins happen to be during the day and that people tend less to checkin at night"
   ]
  },
  {
   "cell_type": "markdown",
   "metadata": {
    "id": "Vg4Oczukywtl"
   },
   "source": [
    "## **3. General Conclusions :**\n",
    "- Through this study, we found some intteresting, yet predictable, results :  \n",
    "1) Friends have influence on a person's movement. This result stands the reason as someone is always more likely to more according to his friends' location to meet them.  \n",
    "2) During the working days and the day, users are more likely to check-in their orkplace or study place. This is also predictable as those periods correspond to the times where individuals proceed their obligations.  \n",
    "3) During their free times, people seek to meek their friends at places where they can enjoy themselves . The places are diverse (home or outside, different types of places), but friends are the most likely to meet in their free time to have drinks or to eat.  \n",
    "  \n",
    "- One good model for predicting people's movement has to take into account their friends and the most frequently visited places by population."
   ]
  },
  {
   "cell_type": "code",
   "execution_count": null,
   "metadata": {},
   "outputs": [],
   "source": []
  }
 ],
 "metadata": {
  "colab": {
   "collapsed_sections": [],
   "name": "selim_P4_group.ipynb",
   "provenance": []
  },
  "kernelspec": {
   "display_name": "Python 3",
   "language": "python",
   "name": "python3"
  },
  "language_info": {
   "codemirror_mode": {
    "name": "ipython",
    "version": 3
   },
   "file_extension": ".py",
   "mimetype": "text/x-python",
   "name": "python",
   "nbconvert_exporter": "python",
   "pygments_lexer": "ipython3",
   "version": "3.8.5"
  }
 },
 "nbformat": 4,
 "nbformat_minor": 1
}
