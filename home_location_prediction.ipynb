{
 "cells": [
  {
   "cell_type": "markdown",
   "metadata": {},
   "source": [
    "# Home location Prediction\n",
    "\n",
    "In this notebook, we will train several models over the Foursquare training dataset. We will also predict home locations of users in both Gowalla and Brightkite datasets using the best model \n",
    "\n",
    "# 1. Loading libraries"
   ]
  },
  {
   "cell_type": "code",
   "execution_count": 1,
   "metadata": {
    "id": "VCTx22OriOVi"
   },
   "outputs": [
    {
     "name": "stderr",
     "output_type": "stream",
     "text": [
      "/opt/anaconda3/lib/python3.7/site-packages/statsmodels/tools/_testing.py:19: FutureWarning: pandas.util.testing is deprecated. Use the functions in the public API at pandas.testing instead.\n",
      "  import pandas.util.testing as tm\n",
      "/opt/anaconda3/lib/python3.7/site-packages/sklearn/utils/deprecation.py:143: FutureWarning: The sklearn.neighbors.base module is  deprecated in version 0.22 and will be removed in version 0.24. The corresponding classes / functions should instead be imported from sklearn.neighbors. Anything that cannot be imported from sklearn.neighbors is now part of the private API.\n",
      "  warnings.warn(message, FutureWarning)\n",
      "/opt/anaconda3/lib/python3.7/site-packages/sklearn/utils/deprecation.py:143: FutureWarning: The sklearn.ensemble.bagging module is  deprecated in version 0.22 and will be removed in version 0.24. The corresponding classes / functions should instead be imported from sklearn.ensemble. Anything that cannot be imported from sklearn.ensemble is now part of the private API.\n",
      "  warnings.warn(message, FutureWarning)\n",
      "/opt/anaconda3/lib/python3.7/site-packages/sklearn/utils/deprecation.py:143: FutureWarning: The sklearn.ensemble.base module is  deprecated in version 0.22 and will be removed in version 0.24. The corresponding classes / functions should instead be imported from sklearn.ensemble. Anything that cannot be imported from sklearn.ensemble is now part of the private API.\n",
      "  warnings.warn(message, FutureWarning)\n",
      "/opt/anaconda3/lib/python3.7/site-packages/sklearn/utils/deprecation.py:143: FutureWarning: The sklearn.ensemble.forest module is  deprecated in version 0.22 and will be removed in version 0.24. The corresponding classes / functions should instead be imported from sklearn.ensemble. Anything that cannot be imported from sklearn.ensemble is now part of the private API.\n",
      "  warnings.warn(message, FutureWarning)\n",
      "Using TensorFlow backend.\n",
      "/opt/anaconda3/lib/python3.7/site-packages/sklearn/utils/deprecation.py:143: FutureWarning: The sklearn.utils.testing module is  deprecated in version 0.22 and will be removed in version 0.24. The corresponding classes / functions should instead be imported from sklearn.utils. Anything that cannot be imported from sklearn.utils is now part of the private API.\n",
      "  warnings.warn(message, FutureWarning)\n",
      "/opt/anaconda3/lib/python3.7/site-packages/sklearn/utils/deprecation.py:143: FutureWarning: The sklearn.metrics.classification module is  deprecated in version 0.22 and will be removed in version 0.24. The corresponding classes / functions should instead be imported from sklearn.metrics. Anything that cannot be imported from sklearn.metrics is now part of the private API.\n",
      "  warnings.warn(message, FutureWarning)\n"
     ]
    }
   ],
   "source": [
    "import csv\n",
    "import pandas as pd\n",
    "import numpy as np\n",
    "import seaborn as sns\n",
    "import matplotlib.pyplot as plt\n",
    "\n",
    "from imblearn.over_sampling import SMOTE\n",
    "\n",
    "from sklearn.svm import SVC\n",
    "from sklearn.model_selection import train_test_split\n",
    "\n",
    "from sklearn.preprocessing import StandardScaler\n",
    "from sklearn.metrics import f1_score,precision_score,recall_score\n",
    "\n",
    "from keras import Model\n",
    "from keras.models import Sequential\n",
    "from keras.layers import Dense, Dropout\n",
    "from keras import backend as K\n",
    "\n",
    "from sklearn.ensemble import RandomForestClassifier\n",
    "\n",
    "import joblib\n",
    "from metrics import *"
   ]
  },
  {
   "cell_type": "markdown",
   "metadata": {},
   "source": [
    "# 2. Importing Training, Gowalla and Brighkite datasets"
   ]
  },
  {
   "cell_type": "markdown",
   "metadata": {},
   "source": [
    "## 2.1. Importing training data\n",
    "\n",
    "The training dataset consits of features extracted from the Foursqure checkin dataset. We computed them in `Feature_engineering.ipynb`"
   ]
  },
  {
   "cell_type": "code",
   "execution_count": 2,
   "metadata": {
    "colab": {
     "base_uri": "https://localhost:8080/",
     "height": 195
    },
    "id": "RsPqNngZihPm",
    "outputId": "6d1c211a-cc36-40a1-b179-074e39130c2b"
   },
   "outputs": [
    {
     "data": {
      "text/html": [
       "<div>\n",
       "<style scoped>\n",
       "    .dataframe tbody tr th:only-of-type {\n",
       "        vertical-align: middle;\n",
       "    }\n",
       "\n",
       "    .dataframe tbody tr th {\n",
       "        vertical-align: top;\n",
       "    }\n",
       "\n",
       "    .dataframe thead th {\n",
       "        text-align: right;\n",
       "    }\n",
       "</style>\n",
       "<table border=\"1\" class=\"dataframe\">\n",
       "  <thead>\n",
       "    <tr style=\"text-align: right;\">\n",
       "      <th></th>\n",
       "      <th>user</th>\n",
       "      <th>CR</th>\n",
       "      <th>MR</th>\n",
       "      <th>EDR</th>\n",
       "      <th>EIDR</th>\n",
       "      <th>PR</th>\n",
       "      <th>RPR</th>\n",
       "      <th>Is_home</th>\n",
       "      <th>lat</th>\n",
       "      <th>lon</th>\n",
       "      <th>country</th>\n",
       "    </tr>\n",
       "  </thead>\n",
       "  <tbody>\n",
       "    <tr>\n",
       "      <th>0</th>\n",
       "      <td>19</td>\n",
       "      <td>0.756158</td>\n",
       "      <td>0.846154</td>\n",
       "      <td>0.777027</td>\n",
       "      <td>0.772414</td>\n",
       "      <td>0.821211</td>\n",
       "      <td>0.801806</td>\n",
       "      <td>True</td>\n",
       "      <td>38.652989</td>\n",
       "      <td>-73.973113</td>\n",
       "      <td>US</td>\n",
       "    </tr>\n",
       "    <tr>\n",
       "      <th>1</th>\n",
       "      <td>19</td>\n",
       "      <td>0.056650</td>\n",
       "      <td>0.000000</td>\n",
       "      <td>0.054054</td>\n",
       "      <td>0.055172</td>\n",
       "      <td>0.022950</td>\n",
       "      <td>0.037273</td>\n",
       "      <td>False</td>\n",
       "      <td>40.725046</td>\n",
       "      <td>-73.992639</td>\n",
       "      <td>US</td>\n",
       "    </tr>\n",
       "    <tr>\n",
       "      <th>2</th>\n",
       "      <td>19</td>\n",
       "      <td>0.059113</td>\n",
       "      <td>0.000000</td>\n",
       "      <td>0.114865</td>\n",
       "      <td>0.117241</td>\n",
       "      <td>0.026504</td>\n",
       "      <td>0.026315</td>\n",
       "      <td>False</td>\n",
       "      <td>40.726305</td>\n",
       "      <td>-73.984104</td>\n",
       "      <td>US</td>\n",
       "    </tr>\n",
       "    <tr>\n",
       "      <th>3</th>\n",
       "      <td>19</td>\n",
       "      <td>0.036946</td>\n",
       "      <td>0.000000</td>\n",
       "      <td>0.013514</td>\n",
       "      <td>0.013793</td>\n",
       "      <td>0.024816</td>\n",
       "      <td>0.024017</td>\n",
       "      <td>False</td>\n",
       "      <td>40.724191</td>\n",
       "      <td>-73.997563</td>\n",
       "      <td>US</td>\n",
       "    </tr>\n",
       "    <tr>\n",
       "      <th>4</th>\n",
       "      <td>19</td>\n",
       "      <td>0.032020</td>\n",
       "      <td>0.000000</td>\n",
       "      <td>0.013514</td>\n",
       "      <td>0.013793</td>\n",
       "      <td>0.024730</td>\n",
       "      <td>0.026114</td>\n",
       "      <td>False</td>\n",
       "      <td>40.722940</td>\n",
       "      <td>-73.995724</td>\n",
       "      <td>US</td>\n",
       "    </tr>\n",
       "  </tbody>\n",
       "</table>\n",
       "</div>"
      ],
      "text/plain": [
       "   user        CR        MR       EDR      EIDR        PR       RPR  Is_home  \\\n",
       "0    19  0.756158  0.846154  0.777027  0.772414  0.821211  0.801806     True   \n",
       "1    19  0.056650  0.000000  0.054054  0.055172  0.022950  0.037273    False   \n",
       "2    19  0.059113  0.000000  0.114865  0.117241  0.026504  0.026315    False   \n",
       "3    19  0.036946  0.000000  0.013514  0.013793  0.024816  0.024017    False   \n",
       "4    19  0.032020  0.000000  0.013514  0.013793  0.024730  0.026114    False   \n",
       "\n",
       "         lat        lon country  \n",
       "0  38.652989 -73.973113      US  \n",
       "1  40.725046 -73.992639      US  \n",
       "2  40.726305 -73.984104      US  \n",
       "3  40.724191 -73.997563      US  \n",
       "4  40.722940 -73.995724      US  "
      ]
     },
     "execution_count": 2,
     "metadata": {},
     "output_type": "execute_result"
    }
   ],
   "source": [
    "df_training=pd.read_csv(\"data/training_dataset.csv\",index_col = 0)\n",
    "df_training.head()"
   ]
  },
  {
   "cell_type": "markdown",
   "metadata": {},
   "source": [
    "## 2.2. Importing Gowalla Features "
   ]
  },
  {
   "cell_type": "markdown",
   "metadata": {},
   "source": [
    "Gowalla features are also computed in `Feature_engineering.ipynb`. We just load them here."
   ]
  },
  {
   "cell_type": "code",
   "execution_count": 3,
   "metadata": {},
   "outputs": [
    {
     "data": {
      "text/html": [
       "<div>\n",
       "<style scoped>\n",
       "    .dataframe tbody tr th:only-of-type {\n",
       "        vertical-align: middle;\n",
       "    }\n",
       "\n",
       "    .dataframe tbody tr th {\n",
       "        vertical-align: top;\n",
       "    }\n",
       "\n",
       "    .dataframe thead th {\n",
       "        text-align: right;\n",
       "    }\n",
       "</style>\n",
       "<table border=\"1\" class=\"dataframe\">\n",
       "  <thead>\n",
       "    <tr style=\"text-align: right;\">\n",
       "      <th></th>\n",
       "      <th>user</th>\n",
       "      <th>CR</th>\n",
       "      <th>MR</th>\n",
       "      <th>EDR</th>\n",
       "      <th>EIDR</th>\n",
       "      <th>PR</th>\n",
       "      <th>RPR</th>\n",
       "      <th>lat</th>\n",
       "      <th>lon</th>\n",
       "    </tr>\n",
       "  </thead>\n",
       "  <tbody>\n",
       "    <tr>\n",
       "      <th>0</th>\n",
       "      <td>0</td>\n",
       "      <td>0.725962</td>\n",
       "      <td>0.894737</td>\n",
       "      <td>1.0</td>\n",
       "      <td>1.0</td>\n",
       "      <td>0.748403</td>\n",
       "      <td>0.800407</td>\n",
       "      <td>34.862264</td>\n",
       "      <td>-98.091842</td>\n",
       "    </tr>\n",
       "    <tr>\n",
       "      <th>1</th>\n",
       "      <td>0</td>\n",
       "      <td>0.110577</td>\n",
       "      <td>0.000000</td>\n",
       "      <td>0.0</td>\n",
       "      <td>0.0</td>\n",
       "      <td>0.071980</td>\n",
       "      <td>0.051105</td>\n",
       "      <td>30.269103</td>\n",
       "      <td>-97.749395</td>\n",
       "    </tr>\n",
       "    <tr>\n",
       "      <th>2</th>\n",
       "      <td>0</td>\n",
       "      <td>0.062500</td>\n",
       "      <td>0.000000</td>\n",
       "      <td>0.0</td>\n",
       "      <td>0.0</td>\n",
       "      <td>0.056549</td>\n",
       "      <td>0.048330</td>\n",
       "      <td>30.267910</td>\n",
       "      <td>-97.749312</td>\n",
       "    </tr>\n",
       "    <tr>\n",
       "      <th>3</th>\n",
       "      <td>0</td>\n",
       "      <td>0.033654</td>\n",
       "      <td>0.017544</td>\n",
       "      <td>0.0</td>\n",
       "      <td>0.0</td>\n",
       "      <td>0.035480</td>\n",
       "      <td>0.027163</td>\n",
       "      <td>30.244860</td>\n",
       "      <td>-97.757163</td>\n",
       "    </tr>\n",
       "    <tr>\n",
       "      <th>4</th>\n",
       "      <td>0</td>\n",
       "      <td>0.028846</td>\n",
       "      <td>0.000000</td>\n",
       "      <td>0.0</td>\n",
       "      <td>0.0</td>\n",
       "      <td>0.038535</td>\n",
       "      <td>0.035271</td>\n",
       "      <td>30.264854</td>\n",
       "      <td>-97.743845</td>\n",
       "    </tr>\n",
       "  </tbody>\n",
       "</table>\n",
       "</div>"
      ],
      "text/plain": [
       "   user        CR        MR  EDR  EIDR        PR       RPR        lat  \\\n",
       "0     0  0.725962  0.894737  1.0   1.0  0.748403  0.800407  34.862264   \n",
       "1     0  0.110577  0.000000  0.0   0.0  0.071980  0.051105  30.269103   \n",
       "2     0  0.062500  0.000000  0.0   0.0  0.056549  0.048330  30.267910   \n",
       "3     0  0.033654  0.017544  0.0   0.0  0.035480  0.027163  30.244860   \n",
       "4     0  0.028846  0.000000  0.0   0.0  0.038535  0.035271  30.264854   \n",
       "\n",
       "         lon  \n",
       "0 -98.091842  \n",
       "1 -97.749395  \n",
       "2 -97.749312  \n",
       "3 -97.757163  \n",
       "4 -97.743845  "
      ]
     },
     "execution_count": 3,
     "metadata": {},
     "output_type": "execute_result"
    }
   ],
   "source": [
    "df_gowalla_features = pd.read_csv(\"data/gowalla_checkin_features.csv\",index_col = 0)\n",
    "df_gowalla_features.head()"
   ]
  },
  {
   "cell_type": "markdown",
   "metadata": {},
   "source": [
    "## 2.3. Importing Brightkite Features"
   ]
  },
  {
   "cell_type": "markdown",
   "metadata": {},
   "source": [
    "Similarely, we load Brightkite features"
   ]
  },
  {
   "cell_type": "code",
   "execution_count": 4,
   "metadata": {},
   "outputs": [
    {
     "data": {
      "text/html": [
       "<div>\n",
       "<style scoped>\n",
       "    .dataframe tbody tr th:only-of-type {\n",
       "        vertical-align: middle;\n",
       "    }\n",
       "\n",
       "    .dataframe tbody tr th {\n",
       "        vertical-align: top;\n",
       "    }\n",
       "\n",
       "    .dataframe thead th {\n",
       "        text-align: right;\n",
       "    }\n",
       "</style>\n",
       "<table border=\"1\" class=\"dataframe\">\n",
       "  <thead>\n",
       "    <tr style=\"text-align: right;\">\n",
       "      <th></th>\n",
       "      <th>user</th>\n",
       "      <th>CR</th>\n",
       "      <th>MR</th>\n",
       "      <th>EDR</th>\n",
       "      <th>EIDR</th>\n",
       "      <th>PR</th>\n",
       "      <th>RPR</th>\n",
       "      <th>lat</th>\n",
       "      <th>lon</th>\n",
       "    </tr>\n",
       "  </thead>\n",
       "  <tbody>\n",
       "    <tr>\n",
       "      <th>0</th>\n",
       "      <td>0</td>\n",
       "      <td>0.285204</td>\n",
       "      <td>0.277950</td>\n",
       "      <td>1.0</td>\n",
       "      <td>1.0</td>\n",
       "      <td>0.420218</td>\n",
       "      <td>0.241797</td>\n",
       "      <td>39.693950</td>\n",
       "      <td>-98.427854</td>\n",
       "    </tr>\n",
       "    <tr>\n",
       "      <th>1</th>\n",
       "      <td>0</td>\n",
       "      <td>0.011437</td>\n",
       "      <td>0.021739</td>\n",
       "      <td>0.0</td>\n",
       "      <td>0.0</td>\n",
       "      <td>0.005258</td>\n",
       "      <td>0.020780</td>\n",
       "      <td>39.891383</td>\n",
       "      <td>-105.070814</td>\n",
       "    </tr>\n",
       "    <tr>\n",
       "      <th>2</th>\n",
       "      <td>0</td>\n",
       "      <td>0.076483</td>\n",
       "      <td>0.141304</td>\n",
       "      <td>0.0</td>\n",
       "      <td>0.0</td>\n",
       "      <td>0.015565</td>\n",
       "      <td>0.054985</td>\n",
       "      <td>39.891120</td>\n",
       "      <td>-105.068526</td>\n",
       "    </tr>\n",
       "    <tr>\n",
       "      <th>3</th>\n",
       "      <td>0</td>\n",
       "      <td>0.042888</td>\n",
       "      <td>0.013975</td>\n",
       "      <td>0.0</td>\n",
       "      <td>0.0</td>\n",
       "      <td>0.017623</td>\n",
       "      <td>0.023467</td>\n",
       "      <td>39.750728</td>\n",
       "      <td>-104.999579</td>\n",
       "    </tr>\n",
       "    <tr>\n",
       "      <th>4</th>\n",
       "      <td>0</td>\n",
       "      <td>0.012152</td>\n",
       "      <td>0.006211</td>\n",
       "      <td>0.0</td>\n",
       "      <td>0.0</td>\n",
       "      <td>0.015682</td>\n",
       "      <td>0.007052</td>\n",
       "      <td>39.752790</td>\n",
       "      <td>-104.996794</td>\n",
       "    </tr>\n",
       "  </tbody>\n",
       "</table>\n",
       "</div>"
      ],
      "text/plain": [
       "   user        CR        MR  EDR  EIDR        PR       RPR        lat  \\\n",
       "0     0  0.285204  0.277950  1.0   1.0  0.420218  0.241797  39.693950   \n",
       "1     0  0.011437  0.021739  0.0   0.0  0.005258  0.020780  39.891383   \n",
       "2     0  0.076483  0.141304  0.0   0.0  0.015565  0.054985  39.891120   \n",
       "3     0  0.042888  0.013975  0.0   0.0  0.017623  0.023467  39.750728   \n",
       "4     0  0.012152  0.006211  0.0   0.0  0.015682  0.007052  39.752790   \n",
       "\n",
       "          lon  \n",
       "0  -98.427854  \n",
       "1 -105.070814  \n",
       "2 -105.068526  \n",
       "3 -104.999579  \n",
       "4 -104.996794  "
      ]
     },
     "execution_count": 4,
     "metadata": {},
     "output_type": "execute_result"
    }
   ],
   "source": [
    "df_brightkite_features = pd.read_csv(\"data/brightkite_checkin_features.csv\",index_col = 0)\n",
    "df_brightkite_features.head()"
   ]
  },
  {
   "cell_type": "markdown",
   "metadata": {},
   "source": [
    "# 3. Exploring location distributions\n",
    "- We begin by exploring the location distributions for three different datasets : `training_df`,`df_gowalla_features`,`df_brightkite_features`\n",
    "- We will use jointplots and will try to find similarities between the frames."
   ]
  },
  {
   "cell_type": "markdown",
   "metadata": {},
   "source": [
    "## 3.1. Training Dataset"
   ]
  },
  {
   "cell_type": "code",
   "execution_count": 5,
   "metadata": {},
   "outputs": [
    {
     "data": {
      "image/png": "[encoded data removed]",
      "text/plain": [
       "<Figure size 432x432 with 3 Axes>"
      ]
     },
     "metadata": {
      "needs_background": "light"
     },
     "output_type": "display_data"
    }
   ],
   "source": [
    "sns.jointplot(data = df_training, y = 'lat', x = 'lon', kind=\"kde\")\n",
    "plt.title('Longitude Latitude joint distribution of clusters\\' location in Foursquare features',\\\n",
    "          loc='right',pad=70)\n",
    "plt.show()"
   ]
  },
  {
   "cell_type": "markdown",
   "metadata": {},
   "source": [
    "We can see that Foursquare features are distributed over all the world with a high concentration in northen american, european and austrialian continents."
   ]
  },
  {
   "cell_type": "markdown",
   "metadata": {},
   "source": [
    "## 3.2. Gowalla and Brighkite Features\n",
    "- Now, we do the same work with the original datasets we were provided : the gowalla dataset and the brightkite dataset."
   ]
  },
  {
   "cell_type": "code",
   "execution_count": 6,
   "metadata": {
    "id": "vuFlu-gji0yl"
   },
   "outputs": [
    {
     "data": {
      "image/png": "[encoded data removed]",
      "text/plain": [
       "<Figure size 432x432 with 3 Axes>"
      ]
     },
     "metadata": {
      "needs_background": "light"
     },
     "output_type": "display_data"
    }
   ],
   "source": [
    "sns.jointplot(data = df_gowalla_features, y = 'lat', x = 'lon', kind=\"kde\")\n",
    "plt.title('Longitude Latitude joint distribution of clusters\\' location in Gowalla features',\\\n",
    "          loc='right',pad=70)\n",
    "plt.show()"
   ]
  },
  {
   "cell_type": "code",
   "execution_count": 7,
   "metadata": {
    "scrolled": false
   },
   "outputs": [
    {
     "data": {
      "image/png": "[encoded data removed]",
      "text/plain": [
       "<Figure size 432x432 with 3 Axes>"
      ]
     },
     "metadata": {
      "needs_background": "light"
     },
     "output_type": "display_data"
    }
   ],
   "source": [
    "sns.jointplot(data = df_brightkite_features, y = 'lat', x = 'lon', kind=\"kde\")\n",
    "plt.title('Longitude Latitude joint distribution of clusters\\' location in Brightkite features',\\\n",
    "          loc='right',pad=70)\n",
    "plt.show()"
   ]
  },
  {
   "cell_type": "markdown",
   "metadata": {},
   "source": [
    "- Here, we can clearly see the features' locations for both Gowalla and Brightkite datasets are concentrated in northen america and more precisely in the US.  \n",
    "- Intuitively, to have the best fitting to both Gowalla and Brightkite datasets, we train our model only on check-ins located in the US : \n",
    "        - We filter the foursquare dataset by country and keep only US. \n",
    "        - Train our model\n",
    "- We will try to do both methods and compare accuracy"
   ]
  },
  {
   "cell_type": "markdown",
   "metadata": {},
   "source": [
    "# 4. Home Location Prediction:"
   ]
  },
  {
   "cell_type": "markdown",
   "metadata": {},
   "source": [
    "## 4.1. Prediction on the whole dataset:"
   ]
  },
  {
   "cell_type": "markdown",
   "metadata": {},
   "source": [
    "### 4.1.1. Splitting Data:\n",
    "\n",
    "Here we define a function that splits the dataset into training validation and testing. We can use SMOTE upsampling and also standerdize the data. The testing set is not upsampled."
   ]
  },
  {
   "cell_type": "code",
   "execution_count": 8,
   "metadata": {},
   "outputs": [],
   "source": [
    "def splitting_data(df_training, country = None, upsampling = True, standerdize = True ):\n",
    "    \"\"\"\n",
    "    function to split our data into a training set, a validation set and a test set\n",
    "    Inputs:\n",
    "        - df_training:dataset used for training\n",
    "        - country : string : specify the abbreviation of countries : 2 Maj letters\n",
    "                    if set to None : take the whole dataset\n",
    "        - upsampling : choose to upsample the trainig set or not\n",
    "        - standerdize : standardise the dataset (features only not the result)\n",
    "        \n",
    "    Outputs:\n",
    "        - X_train : training features\n",
    "        - y_train : training results\n",
    "        - X_val : validation features\n",
    "        - y_val : validation results\n",
    "        - X_test : test features\n",
    "        - y_test : test results\n",
    "        - scaler : scaler that was used to normalize data\n",
    "    \"\"\"\n",
    "    if country:\n",
    "        df_training = df_training.loc[df_training.country == country]\n",
    "    \n",
    "    #test dataframe : 10% of the whole dataframe\n",
    "    df_test = df_training.sample(frac = 0.1)\n",
    "    df_training = df_training[~df_training.index.isin(df_test.index)]\n",
    "    \n",
    "    #X,y are the training data , X : features, y :results\n",
    "    X=df_training[['CR','MR','EDR','EIDR','PR','RPR']].values\n",
    "    y=df_training['Is_home'].values\n",
    "    \n",
    "    #set scaler and standaridize data if the user wants to\n",
    "    if standerdize:\n",
    "        scaler = StandardScaler().fit(X)\n",
    "        X = scaler.transform(X)\n",
    "    else:\n",
    "        scaler = None\n",
    "    \n",
    "    #generate new features if the user wants to upsample\n",
    "    if upsampling:\n",
    "        oversample = SMOTE()\n",
    "        X, y = oversample.fit_resample(X, y)\n",
    "    \n",
    "    #split data into validation and validation sets\n",
    "    X_train, X_val, y_train, y_val = train_test_split(X, y, test_size=0.2)\n",
    "    \n",
    "    #get test sets\n",
    "    X_test = df_test[['CR','MR','EDR','EIDR','PR','RPR']].values\n",
    "    y_test = df_test['Is_home'].values\n",
    "    \n",
    "    if scaler is not None:\n",
    "        #scale the test features the same way that was done for the training and validation ones\n",
    "        X_test = scaler.transform(X_test)\n",
    "    \n",
    "    return X_train, y_train, X_val, y_val, X_test, y_test, scaler"
   ]
  },
  {
   "cell_type": "code",
   "execution_count": 9,
   "metadata": {
    "id": "Px1Qkw3SpkAp"
   },
   "outputs": [
    {
     "name": "stderr",
     "output_type": "stream",
     "text": [
      "/opt/anaconda3/lib/python3.7/site-packages/sklearn/utils/deprecation.py:86: FutureWarning: Function safe_indexing is deprecated; safe_indexing is deprecated in version 0.22 and will be removed in version 0.24.\n",
      "  warnings.warn(msg, category=FutureWarning)\n"
     ]
    }
   ],
   "source": [
    "# Split data\n",
    "X_train, y_train, X_val, y_val, X_test, y_test, scaler = splitting_data(df_training)"
   ]
  },
  {
   "cell_type": "markdown",
   "metadata": {},
   "source": [
    "### 4.1.2. Training Support Vector Machine Classifier (SVM classifier)\n",
    "Let's train a Support vector classifier as suggested in the paper `Fine-scale prediction of people's home location using social media footprints`"
   ]
  },
  {
   "cell_type": "code",
   "execution_count": 10,
   "metadata": {
    "colab": {
     "base_uri": "https://localhost:8080/"
    },
    "id": "szYFkO6-m-3s",
    "outputId": "c6998ec1-7183-4f61-c8d8-3021ed11b2f7"
   },
   "outputs": [
    {
     "name": "stdout",
     "output_type": "stream",
     "text": [
      "[LibSVM]"
     ]
    },
    {
     "data": {
      "text/plain": [
       "SVC(class_weight='balanced', kernel='linear', verbose=True)"
      ]
     },
     "execution_count": 10,
     "metadata": {},
     "output_type": "execute_result"
    }
   ],
   "source": [
    "clf_svc = SVC(kernel='linear',verbose=True,class_weight='balanced')\n",
    "clf_svc.fit(X_train, y_train)"
   ]
  },
  {
   "cell_type": "code",
   "execution_count": 11,
   "metadata": {
    "id": "18cRgQ7Ym-7E"
   },
   "outputs": [],
   "source": [
    "y_pred = clf_svc.predict(X_test) > 0.5"
   ]
  },
  {
   "cell_type": "code",
   "execution_count": 12,
   "metadata": {
    "colab": {
     "base_uri": "https://localhost:8080/"
    },
    "id": "XY-YFUBuqqwS",
    "outputId": "24825f7b-fa44-471c-d983-90a325059090"
   },
   "outputs": [
    {
     "name": "stdout",
     "output_type": "stream",
     "text": [
      "with this SVM Classifier model, we find and f1 score of 0.6635543106131342 on the test set\n"
     ]
    }
   ],
   "source": [
    "print('with this SVM Classifier model, we find and f1 score of {} on the test set'.\\\n",
    "      format(f1_score(y_test,y_pred)))"
   ]
  },
  {
   "cell_type": "code",
   "execution_count": 13,
   "metadata": {},
   "outputs": [
    {
     "data": {
      "text/plain": [
       "['models/SVC_all.pkl']"
      ]
     },
     "execution_count": 13,
     "metadata": {},
     "output_type": "execute_result"
    }
   ],
   "source": [
    "joblib.dump(clf_svc, 'models/SVC_all.pkl')"
   ]
  },
  {
   "cell_type": "markdown",
   "metadata": {},
   "source": [
    "### 4.1.3. Training a Neural Network Classifier"
   ]
  },
  {
   "cell_type": "markdown",
   "metadata": {},
   "source": [
    "Now, let's try a NN classifier"
   ]
  },
  {
   "cell_type": "code",
   "execution_count": 14,
   "metadata": {},
   "outputs": [
    {
     "name": "stdout",
     "output_type": "stream",
     "text": [
      "Model: \"sequential_1\"\n",
      "_________________________________________________________________\n",
      "Layer (type)                 Output Shape              Param #   \n",
      "=================================================================\n",
      "dense_1 (Dense)              (None, 60)                420       \n",
      "_________________________________________________________________\n",
      "dropout_1 (Dropout)          (None, 60)                0         \n",
      "_________________________________________________________________\n",
      "dense_2 (Dense)              (None, 40)                2440      \n",
      "_________________________________________________________________\n",
      "dropout_2 (Dropout)          (None, 40)                0         \n",
      "_________________________________________________________________\n",
      "dense_3 (Dense)              (None, 30)                1230      \n",
      "_________________________________________________________________\n",
      "dropout_3 (Dropout)          (None, 30)                0         \n",
      "_________________________________________________________________\n",
      "dense_4 (Dense)              (None, 30)                930       \n",
      "_________________________________________________________________\n",
      "dropout_4 (Dropout)          (None, 30)                0         \n",
      "_________________________________________________________________\n",
      "dense_5 (Dense)              (None, 10)                310       \n",
      "_________________________________________________________________\n",
      "dropout_5 (Dropout)          (None, 10)                0         \n",
      "_________________________________________________________________\n",
      "dense_6 (Dense)              (None, 1)                 11        \n",
      "=================================================================\n",
      "Total params: 5,341\n",
      "Trainable params: 5,341\n",
      "Non-trainable params: 0\n",
      "_________________________________________________________________\n"
     ]
    }
   ],
   "source": [
    "# Building Model\n",
    "model = Sequential([\n",
    "    Dense(60, input_shape = (X_train.shape[1],), activation='relu'),\n",
    "    Dropout(0.5),\n",
    "    Dense(40, activation = 'relu'),\n",
    "    Dropout(0.5),\n",
    "    Dense(30, activation = 'relu'),\n",
    "    Dropout(0.5),\n",
    "    Dense(30, activation = 'relu'),\n",
    "    Dropout(0.5),\n",
    "    Dense(10, activation = 'relu'),\n",
    "    Dropout(0.5),\n",
    "    Dense(1, activation = 'sigmoid')\n",
    "])\n",
    "\n",
    "# Compile\n",
    "model.compile(optimizer='adam',\n",
    "              loss='binary_crossentropy',\n",
    "              metrics=[f1_m])\n",
    "\n",
    "# show model summary\n",
    "model.summary()"
   ]
  },
  {
   "cell_type": "code",
   "execution_count": 15,
   "metadata": {
    "colab": {
     "base_uri": "https://localhost:8080/",
     "height": 1000
    },
    "id": "sP6VWjKys_V9",
    "outputId": "df1e9a42-9445-4f81-e58b-08640fb48785"
   },
   "outputs": [
    {
     "name": "stdout",
     "output_type": "stream",
     "text": [
      "Train on 207796 samples, validate on 51950 samples\n",
      "Epoch 1/20\n",
      "207796/207796 [==============================] - 32s 154us/step - loss: 0.4536 - f1_m: 0.7966 - val_loss: 0.3795 - val_f1_m: 0.8060\n",
      "Epoch 2/20\n",
      "207796/207796 [==============================] - 31s 151us/step - loss: 0.4291 - f1_m: 0.8130 - val_loss: 0.3771 - val_f1_m: 0.8325\n",
      "Epoch 3/20\n",
      "207796/207796 [==============================] - 31s 148us/step - loss: 0.4269 - f1_m: 0.8074 - val_loss: 0.3791 - val_f1_m: 0.8318\n",
      "Epoch 4/20\n",
      "207796/207796 [==============================] - 31s 148us/step - loss: 0.4265 - f1_m: 0.8111 - val_loss: 0.3774 - val_f1_m: 0.8112\n",
      "Epoch 5/20\n",
      "207796/207796 [==============================] - 31s 148us/step - loss: 0.4264 - f1_m: 0.8075 - val_loss: 0.3725 - val_f1_m: 0.8154\n",
      "Epoch 6/20\n",
      "207796/207796 [==============================] - 31s 151us/step - loss: 0.4263 - f1_m: 0.8060 - val_loss: 0.3743 - val_f1_m: 0.8187\n",
      "Epoch 7/20\n",
      "207796/207796 [==============================] - 31s 147us/step - loss: 0.4255 - f1_m: 0.8078 - val_loss: 0.3805 - val_f1_m: 0.8353\n",
      "Epoch 8/20\n",
      "207796/207796 [==============================] - 31s 147us/step - loss: 0.4247 - f1_m: 0.8143 - val_loss: 0.3823 - val_f1_m: 0.8352\n",
      "Epoch 9/20\n",
      "207796/207796 [==============================] - 32s 152us/step - loss: 0.4254 - f1_m: 0.8190 - val_loss: 0.3854 - val_f1_m: 0.8344\n",
      "Epoch 10/20\n",
      "207796/207796 [==============================] - 31s 151us/step - loss: 0.4237 - f1_m: 0.8154 - val_loss: 0.3760 - val_f1_m: 0.8341\n",
      "Epoch 11/20\n",
      "207796/207796 [==============================] - 31s 147us/step - loss: 0.4241 - f1_m: 0.8134 - val_loss: 0.3746 - val_f1_m: 0.8104\n",
      "Epoch 12/20\n",
      "207796/207796 [==============================] - 31s 147us/step - loss: 0.4252 - f1_m: 0.8151 - val_loss: 0.3767 - val_f1_m: 0.8088\n",
      "Epoch 13/20\n",
      "207796/207796 [==============================] - 31s 147us/step - loss: 0.4259 - f1_m: 0.8143 - val_loss: 0.3761 - val_f1_m: 0.8209\n",
      "Epoch 14/20\n",
      "207796/207796 [==============================] - 35s 170us/step - loss: 0.4223 - f1_m: 0.8065 - val_loss: 0.3759 - val_f1_m: 0.8270\n",
      "Epoch 15/20\n",
      "207796/207796 [==============================] - 38s 183us/step - loss: 0.4236 - f1_m: 0.8172 - val_loss: 0.3810 - val_f1_m: 0.8217\n",
      "Epoch 16/20\n",
      "207796/207796 [==============================] - 34s 162us/step - loss: 0.4238 - f1_m: 0.8078 - val_loss: 0.3845 - val_f1_m: 0.8157\n",
      "Epoch 17/20\n",
      "207796/207796 [==============================] - 32s 153us/step - loss: 0.4240 - f1_m: 0.8054 - val_loss: 0.3766 - val_f1_m: 0.8347\n",
      "Epoch 18/20\n",
      "207796/207796 [==============================] - 32s 155us/step - loss: 0.4246 - f1_m: 0.8150 - val_loss: 0.3784 - val_f1_m: 0.8198\n",
      "Epoch 19/20\n",
      "207796/207796 [==============================] - 31s 151us/step - loss: 0.4248 - f1_m: 0.8161 - val_loss: 0.3773 - val_f1_m: 0.8357\n",
      "Epoch 20/20\n",
      "207796/207796 [==============================] - 31s 150us/step - loss: 0.4242 - f1_m: 0.8110 - val_loss: 0.3777 - val_f1_m: 0.8347\n"
     ]
    }
   ],
   "source": [
    "# Fit the model over the \n",
    "history = model.fit(X_train,y_train,validation_data=(X_val,y_val),epochs=20,batch_size=10)"
   ]
  },
  {
   "cell_type": "code",
   "execution_count": 16,
   "metadata": {},
   "outputs": [],
   "source": [
    "model.save('models/NN_clf_all')"
   ]
  },
  {
   "cell_type": "code",
   "execution_count": 17,
   "metadata": {
    "id": "UWjV-OwlHzpx"
   },
   "outputs": [],
   "source": [
    "y_pred_NN=model.predict(X_test)"
   ]
  },
  {
   "cell_type": "code",
   "execution_count": 18,
   "metadata": {},
   "outputs": [],
   "source": [
    "y_pred =y_pred_NN.flatten() > 0.5"
   ]
  },
  {
   "cell_type": "code",
   "execution_count": 19,
   "metadata": {
    "colab": {
     "base_uri": "https://localhost:8080/"
    },
    "id": "kU2Hwt2Zs_Zh",
    "outputId": "6f1e8bb3-5436-4772-db77-82a2df70cb30"
   },
   "outputs": [
    {
     "name": "stdout",
     "output_type": "stream",
     "text": [
      "with this Neural network model, we find and f1 score of 0.6061665210335789 on the test set\n"
     ]
    }
   ],
   "source": [
    "print('with this Neural network model, we find and f1 score of {} on the test set'.\\\n",
    "      format(f1_score(y_test,y_pred)))"
   ]
  },
  {
   "cell_type": "code",
   "execution_count": 20,
   "metadata": {
    "colab": {
     "base_uri": "https://localhost:8080/"
    },
    "id": "H4-uwAfqw5Iv",
    "outputId": "e6f35f1c-7165-4b39-90c5-05ad1f957ff7"
   },
   "outputs": [
    {
     "data": {
      "text/plain": [
       "array([0, 1, 0, ..., 0, 0, 0])"
      ]
     },
     "execution_count": 20,
     "metadata": {},
     "output_type": "execute_result"
    }
   ],
   "source": [
    "y_pred.astype(int)"
   ]
  },
  {
   "cell_type": "markdown",
   "metadata": {
    "id": "iF9CBGFOxlzk"
   },
   "source": [
    "### 4.1.4. Random forest classifier:"
   ]
  },
  {
   "cell_type": "code",
   "execution_count": 21,
   "metadata": {
    "id": "C5X0Jv5y5F8n"
   },
   "outputs": [],
   "source": [
    "clf_RF = RandomForestClassifier(n_estimators= 20, max_depth=None, random_state=0,criterion='entropy',\n",
    "                             class_weight='balanced', verbose=True)"
   ]
  },
  {
   "cell_type": "code",
   "execution_count": 22,
   "metadata": {},
   "outputs": [
    {
     "name": "stderr",
     "output_type": "stream",
     "text": [
      "[Parallel(n_jobs=1)]: Using backend SequentialBackend with 1 concurrent workers.\n",
      "[Parallel(n_jobs=1)]: Done  20 out of  20 | elapsed:   12.4s finished\n"
     ]
    },
    {
     "data": {
      "text/plain": [
       "RandomForestClassifier(class_weight='balanced', criterion='entropy',\n",
       "                       n_estimators=20, random_state=0, verbose=True)"
      ]
     },
     "execution_count": 22,
     "metadata": {},
     "output_type": "execute_result"
    }
   ],
   "source": [
    "clf_RF.fit(X_train, y_train)"
   ]
  },
  {
   "cell_type": "code",
   "execution_count": 23,
   "metadata": {},
   "outputs": [
    {
     "name": "stderr",
     "output_type": "stream",
     "text": [
      "[Parallel(n_jobs=1)]: Using backend SequentialBackend with 1 concurrent workers.\n",
      "[Parallel(n_jobs=1)]: Done  20 out of  20 | elapsed:    0.1s finished\n"
     ]
    }
   ],
   "source": [
    "y_pred = clf_RF.predict(X_test)"
   ]
  },
  {
   "cell_type": "code",
   "execution_count": 24,
   "metadata": {},
   "outputs": [
    {
     "name": "stdout",
     "output_type": "stream",
     "text": [
      "with this Random forest model, we find and f1 score of 0.6417095616908439 on the test set\n"
     ]
    }
   ],
   "source": [
    "print('with this Random forest model, we find and f1 score of {} on the test set'.\\\n",
    "      format(f1_score(y_test,y_pred)))"
   ]
  },
  {
   "cell_type": "code",
   "execution_count": 25,
   "metadata": {},
   "outputs": [
    {
     "data": {
      "text/plain": [
       "['models/RF_all.pkl']"
      ]
     },
     "execution_count": 25,
     "metadata": {},
     "output_type": "execute_result"
    }
   ],
   "source": [
    "joblib.dump(clf_RF, 'models/RF_all.pkl')"
   ]
  },
  {
   "cell_type": "code",
   "execution_count": 27,
   "metadata": {},
   "outputs": [
    {
     "data": {
      "text/plain": [
       "['models/scaler_all.pkl']"
      ]
     },
     "execution_count": 27,
     "metadata": {},
     "output_type": "execute_result"
    }
   ],
   "source": [
    "joblib.dump(scaler,'models/scaler_all.pkl')"
   ]
  },
  {
   "cell_type": "markdown",
   "metadata": {},
   "source": [
    "### 4.1.4. Discussion:\n",
    "- After running our models on all the data, we observe that:   \n",
    "1) The f1 score for all models is between 0.6 and 0.7 .   \n",
    "2) The SVM Classifier performs better than the two other models (f1 score of 0.66)  \n",
    "3) Our Neural Network performs the worst on the test set with an f1 score of 0.61.  "
   ]
  },
  {
   "cell_type": "markdown",
   "metadata": {},
   "source": [
    "- We now test our models on check-ins only localized in the USA"
   ]
  },
  {
   "cell_type": "markdown",
   "metadata": {},
   "source": [
    "## 4.2. Prediction on only USA:\n",
    "- We do the same work we did previously but working only with USA\n",
    "- We will use the variables used before in order to preserve memory"
   ]
  },
  {
   "cell_type": "code",
   "execution_count": 28,
   "metadata": {},
   "outputs": [
    {
     "name": "stderr",
     "output_type": "stream",
     "text": [
      "/opt/anaconda3/lib/python3.7/site-packages/sklearn/utils/deprecation.py:86: FutureWarning: Function safe_indexing is deprecated; safe_indexing is deprecated in version 0.22 and will be removed in version 0.24.\n",
      "  warnings.warn(msg, category=FutureWarning)\n"
     ]
    }
   ],
   "source": [
    "X_train, y_train, X_val, y_val, X_test, y_test, scaler = splitting_data(df_training, country='US')"
   ]
  },
  {
   "cell_type": "markdown",
   "metadata": {},
   "source": [
    "### 4.2.1. Training Support Vector Machine Classifier (SVM classifier)"
   ]
  },
  {
   "cell_type": "code",
   "execution_count": 29,
   "metadata": {},
   "outputs": [
    {
     "name": "stdout",
     "output_type": "stream",
     "text": [
      "[LibSVM]"
     ]
    },
    {
     "data": {
      "text/plain": [
       "SVC(class_weight='balanced', kernel='linear', verbose=True)"
      ]
     },
     "execution_count": 29,
     "metadata": {},
     "output_type": "execute_result"
    }
   ],
   "source": [
    "#Since we have less data, we can use a degree 3 SVM\n",
    "clf_svc = SVC(kernel='linear',verbose=True,class_weight='balanced')\n",
    "clf_svc.fit(X_train, y_train)"
   ]
  },
  {
   "cell_type": "code",
   "execution_count": 30,
   "metadata": {},
   "outputs": [
    {
     "data": {
      "text/plain": [
       "['models/SVC_USA.pkl']"
      ]
     },
     "execution_count": 30,
     "metadata": {},
     "output_type": "execute_result"
    }
   ],
   "source": [
    "joblib.dump(clf_svc, 'models/SVC_USA.pkl')"
   ]
  },
  {
   "cell_type": "code",
   "execution_count": 31,
   "metadata": {},
   "outputs": [],
   "source": [
    "y_pred = clf_svc.predict(X_test) > 0.5"
   ]
  },
  {
   "cell_type": "code",
   "execution_count": 32,
   "metadata": {},
   "outputs": [
    {
     "name": "stdout",
     "output_type": "stream",
     "text": [
      "with this SVM Classifier model, we find and f1 score of 0.6932084309133489 on the test set\n"
     ]
    }
   ],
   "source": [
    "print('with this SVM Classifier model, we find and f1 score of {} on the test set'.\\\n",
    "      format(f1_score(y_test,y_pred)))"
   ]
  },
  {
   "cell_type": "markdown",
   "metadata": {},
   "source": [
    "### 4.2.2. Training a Neural Network Classifier"
   ]
  },
  {
   "cell_type": "markdown",
   "metadata": {},
   "source": [
    "The f1 metric stays the same, the architecture of the Neural Network too"
   ]
  },
  {
   "cell_type": "code",
   "execution_count": 33,
   "metadata": {},
   "outputs": [
    {
     "name": "stdout",
     "output_type": "stream",
     "text": [
      "Train on 29896 samples, validate on 7474 samples\n",
      "Epoch 1/20\n",
      "29896/29896 [==============================] - 6s 185us/step - loss: 0.4163 - f1_m: 0.8026 - val_loss: 0.3577 - val_f1_m: 0.8252\n",
      "Epoch 2/20\n",
      "29896/29896 [==============================] - 5s 172us/step - loss: 0.4167 - f1_m: 0.8098 - val_loss: 0.3588 - val_f1_m: 0.8330\n",
      "Epoch 3/20\n",
      "29896/29896 [==============================] - 6s 184us/step - loss: 0.4186 - f1_m: 0.8031 - val_loss: 0.3640 - val_f1_m: 0.8290\n",
      "Epoch 4/20\n",
      "29896/29896 [==============================] - 5s 156us/step - loss: 0.4146 - f1_m: 0.7975 - val_loss: 0.3684 - val_f1_m: 0.8321\n",
      "Epoch 5/20\n",
      "29896/29896 [==============================] - 5s 160us/step - loss: 0.4162 - f1_m: 0.8033 - val_loss: 0.3611 - val_f1_m: 0.8349\n",
      "Epoch 6/20\n",
      "29896/29896 [==============================] - 5s 164us/step - loss: 0.4165 - f1_m: 0.8046 - val_loss: 0.3555 - val_f1_m: 0.8366\n",
      "Epoch 7/20\n",
      "29896/29896 [==============================] - 5s 165us/step - loss: 0.4152 - f1_m: 0.8032 - val_loss: 0.3649 - val_f1_m: 0.8366\n",
      "Epoch 8/20\n",
      "29896/29896 [==============================] - 5s 153us/step - loss: 0.4138 - f1_m: 0.8008 - val_loss: 0.3583 - val_f1_m: 0.8313\n",
      "Epoch 9/20\n",
      "29896/29896 [==============================] - 5s 153us/step - loss: 0.4123 - f1_m: 0.8048 - val_loss: 0.3606 - val_f1_m: 0.8279\n",
      "Epoch 10/20\n",
      "29896/29896 [==============================] - 5s 154us/step - loss: 0.4118 - f1_m: 0.8052 - val_loss: 0.3514 - val_f1_m: 0.8351\n",
      "Epoch 11/20\n",
      "29896/29896 [==============================] - 5s 156us/step - loss: 0.4145 - f1_m: 0.8051 - val_loss: 0.3658 - val_f1_m: 0.8230\n",
      "Epoch 12/20\n",
      "29896/29896 [==============================] - 5s 155us/step - loss: 0.4153 - f1_m: 0.8028 - val_loss: 0.3542 - val_f1_m: 0.8240\n",
      "Epoch 13/20\n",
      "29896/29896 [==============================] - 5s 165us/step - loss: 0.4165 - f1_m: 0.7932 - val_loss: 0.3553 - val_f1_m: 0.8234\n",
      "Epoch 14/20\n",
      "29896/29896 [==============================] - 5s 175us/step - loss: 0.4142 - f1_m: 0.8003 - val_loss: 0.3701 - val_f1_m: 0.8346\n",
      "Epoch 15/20\n",
      "29896/29896 [==============================] - 5s 174us/step - loss: 0.4154 - f1_m: 0.8108 - val_loss: 0.3626 - val_f1_m: 0.8468\n",
      "Epoch 16/20\n",
      "29896/29896 [==============================] - 5s 157us/step - loss: 0.4137 - f1_m: 0.8085 - val_loss: 0.3682 - val_f1_m: 0.8254\n",
      "Epoch 17/20\n",
      "29896/29896 [==============================] - 5s 156us/step - loss: 0.4179 - f1_m: 0.7985 - val_loss: 0.3626 - val_f1_m: 0.8251\n",
      "Epoch 18/20\n",
      "29896/29896 [==============================] - 5s 158us/step - loss: 0.4126 - f1_m: 0.8032 - val_loss: 0.3537 - val_f1_m: 0.8245\n",
      "Epoch 19/20\n",
      "29896/29896 [==============================] - 5s 175us/step - loss: 0.4172 - f1_m: 0.8082 - val_loss: 0.3589 - val_f1_m: 0.8337\n",
      "Epoch 20/20\n",
      "29896/29896 [==============================] - 5s 175us/step - loss: 0.4125 - f1_m: 0.7983 - val_loss: 0.3574 - val_f1_m: 0.8292\n"
     ]
    }
   ],
   "source": [
    "history = model.fit(X_train,y_train,validation_data=(X_val,y_val),epochs=20,batch_size=10)"
   ]
  },
  {
   "cell_type": "code",
   "execution_count": 34,
   "metadata": {},
   "outputs": [],
   "source": [
    "model.save('models/NN_clf_USA')"
   ]
  },
  {
   "cell_type": "code",
   "execution_count": 35,
   "metadata": {},
   "outputs": [],
   "source": [
    "y_pred_NN=model.predict(X_test)"
   ]
  },
  {
   "cell_type": "code",
   "execution_count": 36,
   "metadata": {},
   "outputs": [],
   "source": [
    "y_pred =y_pred_NN.flatten() > 0.5"
   ]
  },
  {
   "cell_type": "code",
   "execution_count": 37,
   "metadata": {},
   "outputs": [
    {
     "name": "stdout",
     "output_type": "stream",
     "text": [
      "with this Neural network model, we find and f1 score of 0.6872852233676976 on the test set\n"
     ]
    }
   ],
   "source": [
    "print('with this Neural network model, we find and f1 score of {} on the test set'.\\\n",
    "      format(f1_score(y_test,y_pred)))"
   ]
  },
  {
   "cell_type": "code",
   "execution_count": 38,
   "metadata": {},
   "outputs": [
    {
     "data": {
      "text/plain": [
       "array([0, 0, 0, ..., 1, 0, 0])"
      ]
     },
     "execution_count": 38,
     "metadata": {},
     "output_type": "execute_result"
    }
   ],
   "source": [
    "y_pred.astype(int)"
   ]
  },
  {
   "cell_type": "markdown",
   "metadata": {},
   "source": [
    "### 4.2.3. Random forest classifier:"
   ]
  },
  {
   "cell_type": "code",
   "execution_count": 39,
   "metadata": {},
   "outputs": [],
   "source": [
    "clf_RF = RandomForestClassifier(n_estimators= 20, max_depth=None, random_state=0,criterion='entropy',\n",
    "                             class_weight='balanced', verbose=True)"
   ]
  },
  {
   "cell_type": "code",
   "execution_count": 40,
   "metadata": {},
   "outputs": [
    {
     "name": "stderr",
     "output_type": "stream",
     "text": [
      "[Parallel(n_jobs=1)]: Using backend SequentialBackend with 1 concurrent workers.\n",
      "[Parallel(n_jobs=1)]: Done  20 out of  20 | elapsed:    1.2s finished\n"
     ]
    },
    {
     "data": {
      "text/plain": [
       "RandomForestClassifier(class_weight='balanced', criterion='entropy',\n",
       "                       n_estimators=20, random_state=0, verbose=True)"
      ]
     },
     "execution_count": 40,
     "metadata": {},
     "output_type": "execute_result"
    }
   ],
   "source": [
    "clf_RF.fit(X_train, y_train)"
   ]
  },
  {
   "cell_type": "code",
   "execution_count": 42,
   "metadata": {},
   "outputs": [
    {
     "name": "stderr",
     "output_type": "stream",
     "text": [
      "[Parallel(n_jobs=1)]: Using backend SequentialBackend with 1 concurrent workers.\n",
      "[Parallel(n_jobs=1)]: Done  20 out of  20 | elapsed:    0.0s finished\n"
     ]
    }
   ],
   "source": [
    "y_pred = clf_RF.predict(X_test)"
   ]
  },
  {
   "cell_type": "code",
   "execution_count": 43,
   "metadata": {},
   "outputs": [
    {
     "name": "stdout",
     "output_type": "stream",
     "text": [
      "with this Random forest model, we find and f1 score of 0.6783216783216783 on the test set\n"
     ]
    }
   ],
   "source": [
    "print('with this Random forest model, we find and f1 score of {} on the test set'.\\\n",
    "      format(f1_score(y_test,y_pred)))"
   ]
  },
  {
   "cell_type": "code",
   "execution_count": 44,
   "metadata": {},
   "outputs": [
    {
     "data": {
      "text/plain": [
       "['models/RF_USA.pkl']"
      ]
     },
     "execution_count": 44,
     "metadata": {},
     "output_type": "execute_result"
    }
   ],
   "source": [
    "joblib.dump(clf_RF, 'models/RF_USA.pkl')"
   ]
  },
  {
   "cell_type": "code",
   "execution_count": 45,
   "metadata": {},
   "outputs": [
    {
     "data": {
      "text/plain": [
       "['models/scaler_all.pkl']"
      ]
     },
     "execution_count": 45,
     "metadata": {},
     "output_type": "execute_result"
    }
   ],
   "source": [
    "joblib.dump(scaler,'models/scaler_all.pkl')"
   ]
  },
  {
   "cell_type": "markdown",
   "metadata": {},
   "source": [
    "### 4.2.4. Discussion :\n",
    "- After running our models on the USA data, we observe that:   \n",
    "1) The f1 score for all models is between 0.67 and 0.70 .  \n",
    "2) The three models gave us near results.  \n",
    "3) The SVM Classifier performs slightly better than the two others (f1 score of 0.69)  \n"
   ]
  },
  {
   "cell_type": "markdown",
   "metadata": {},
   "source": [
    "## 4.3. Conclusion:\n",
    "- The models perform generally better after restricting the dataframes to just check-ins made in the united states.\n",
    "- This can be explained by the fact that the social behaviour is different around the world. Working on just a country reduces the number of parameters to be taken into account and therefore lets the models perform better. We can make the hypothesis that if we restrained our work to just some states (New York or Chicago for example), our f1 score would become even better.\n",
    "- On our models, we could have improved them if we had more time and computational power. For example, we could have tried to fit a polynomial SVM Classifier (we just used a linnear one in this study). Moreover, we could have tried other architectures for the Neural Network to improve its performance. Finally, we could have tried doing the random forest with other parameters."
   ]
  },
  {
   "cell_type": "code",
   "execution_count": null,
   "metadata": {},
   "outputs": [],
   "source": []
  }
 ],
 "metadata": {
  "colab": {
   "authorship_tag": "ABX9TyPRuLxBMc7qMLNadvFoExoi",
   "collapsed_sections": [],
   "include_colab_link": true,
   "name": "SVM.ipynb",
   "provenance": []
  },
  "kernelspec": {
   "display_name": "Python 3",
   "language": "python",
   "name": "python3"
  },
  "language_info": {
   "codemirror_mode": {
    "name": "ipython",
    "version": 3
   },
   "file_extension": ".py",
   "mimetype": "text/x-python",
   "name": "python",
   "nbconvert_exporter": "python",
   "pygments_lexer": "ipython3",
   "version": "3.8.5"
  }
 },
 "nbformat": 4,
 "nbformat_minor": 1
}
